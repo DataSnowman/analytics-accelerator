{
  "nbformat": 4,
  "nbformat_minor": 2,
  "cells": [
    {
      "cell_type": "code",
      "execution_count": 31,
      "outputs": [
        {
          "output_type": "display_data",
          "data": {
            "application/vnd.livy.statement-meta+json": {
              "spark_pool": "synasp1",
              "session_id": 6,
              "statement_id": 25,
              "state": "finished",
              "livy_statement_state": "available",
              "queued_time": "2021-06-03T03:13:18.3954389Z",
              "execution_start_time": "2021-06-03T03:13:18.5006633Z",
              "execution_finish_time": "2021-06-03T03:13:20.5830429Z"
            },
            "text/plain": "StatementMeta(synasp1, 6, 25, Finished, Available)"
          },
          "metadata": {}
        },
        {
          "output_type": "display_data",
          "data": {
            "application/vnd.synapse.widget-view+json": {
              "widget_id": "5720fb1b-8e15-48a7-be91-4676bc4fde8b",
              "widget_type": "Synapse.DataFrame"
            },
            "text/plain": "SynapseWidget(Synapse.DataFrame, 5720fb1b-8e15-48a7-be91-4676bc4fde8b)"
          },
          "metadata": {}
        },
        {
          "output_type": "execute_result",
          "data": {},
          "execution_count": 31,
          "metadata": {}
        }
      ],
      "metadata": {
        "microsoft": {
          "language": "python"
        },
        "collapsed": false
      },
      "source": [
        "%%pyspark\n",
        "\n",
        "df = spark.read.load('abfss://capture@spkaccelerjqvse6bhhchxi.dfs.core.windows.net/SeattlePublicLibrary/Library_Collection_Inventory.csv', format='csv'\n",
        "## If header exists uncomment line below\n",
        ", header=True\n",
        ")\n",
        "display(df.limit(10))"
      ]
    },
    {
      "cell_type": "code",
      "execution_count": 32,
      "outputs": [
        {
          "output_type": "display_data",
          "data": {
            "application/vnd.livy.statement-meta+json": {
              "spark_pool": "synasp1",
              "session_id": 6,
              "statement_id": 26,
              "state": "finished",
              "livy_statement_state": "available",
              "queued_time": "2021-06-03T03:13:18.4717366Z",
              "execution_start_time": "2021-06-03T03:13:20.7088761Z",
              "execution_finish_time": "2021-06-03T03:13:20.7088819Z"
            },
            "text/plain": "StatementMeta(synasp1, 6, 26, Finished, Available)"
          },
          "metadata": {}
        },
        {
          "output_type": "stream",
          "name": "stdout",
          "text": "root\n |-- BibNum: string (nullable = true)\n |-- Title: string (nullable = true)\n |-- Author: string (nullable = true)\n |-- ISBN: string (nullable = true)\n |-- PublicationYear: string (nullable = true)\n |-- Publisher: string (nullable = true)\n |-- Subjects: string (nullable = true)\n |-- ItemType: string (nullable = true)\n |-- ItemCollection: string (nullable = true)\n |-- FloatingItem: string (nullable = true)\n |-- ItemLocation: string (nullable = true)\n |-- ReportDate: string (nullable = true)\n |-- ItemCount: string (nullable = true)"
        }
      ],
      "metadata": {
        "jupyter": {
          "source_hidden": false,
          "outputs_hidden": false
        },
        "nteract": {
          "transient": {
            "deleting": false
          }
        },
        "microsoft": {
          "language": "python"
        },
        "collapsed": true
      },
      "source": [
        "%%pyspark\r\n",
        "\r\n",
        "# Show Schema\r\n",
        "df.printSchema()"
      ]
    },
    {
      "cell_type": "code",
      "execution_count": 33,
      "outputs": [
        {
          "output_type": "display_data",
          "data": {
            "application/vnd.livy.statement-meta+json": {
              "spark_pool": "synasp1",
              "session_id": 6,
              "statement_id": 27,
              "state": "finished",
              "livy_statement_state": "available",
              "queued_time": "2021-06-03T03:13:18.5839315Z",
              "execution_start_time": "2021-06-03T03:13:20.8285739Z",
              "execution_finish_time": "2021-06-03T03:13:22.8843948Z"
            },
            "text/plain": "StatementMeta(synasp1, 6, 27, Finished, Available)"
          },
          "metadata": {}
        },
        {
          "output_type": "stream",
          "name": "stdout",
          "text": "Primary storage account path: abfss://capture@spkaccelerjqvse6bhhchxi.dfs.core.windows.net/SeattlePublicLibrary/Library_Collection_Inventory.csv"
        }
      ],
      "metadata": {
        "jupyter": {
          "source_hidden": false,
          "outputs_hidden": false
        },
        "nteract": {
          "transient": {
            "deleting": false
          }
        },
        "microsoft": {
          "language": "python"
        },
        "collapsed": true
      },
      "source": [
        "%%pyspark\n",
        "\n",
        "from pyspark.sql import SparkSession\n",
        "from pyspark.sql.types import *\n",
        "\n",
        "# Primary storage info\n",
        "capture_account_name = 'spkaccelerjqvse6bhhchxi' # fill in your primary account name\n",
        "capture_container_name = 'capture' # fill in your container name\n",
        "capture_relative_path = 'SeattlePublicLibrary/Library_Collection_Inventory.csv' # fill in your relative folder path\n",
        "\n",
        "capture_adls_path = 'abfss://%s@%s.dfs.core.windows.net/%s' % (capture_container_name, capture_account_name, capture_relative_path)\n",
        "print('Primary storage account path: ' + capture_adls_path)"
      ]
    },
    {
      "cell_type": "code",
      "execution_count": 34,
      "outputs": [
        {
          "output_type": "display_data",
          "data": {
            "application/vnd.livy.statement-meta+json": {
              "spark_pool": "synasp1",
              "session_id": 6,
              "statement_id": 28,
              "state": "finished",
              "livy_statement_state": "available",
              "queued_time": "2021-06-03T03:13:18.6702654Z",
              "execution_start_time": "2021-06-03T03:13:22.9847801Z",
              "execution_finish_time": "2021-06-03T03:13:25.0560913Z"
            },
            "text/plain": "StatementMeta(synasp1, 6, 28, Finished, Available)"
          },
          "metadata": {}
        },
        {
          "output_type": "display_data",
          "data": {
            "application/vnd.synapse.widget-view+json": {
              "widget_id": "409a795b-ae2e-4a2c-aace-d30ac47ae5bb",
              "widget_type": "Synapse.DataFrame"
            },
            "text/plain": "SynapseWidget(Synapse.DataFrame, 409a795b-ae2e-4a2c-aace-d30ac47ae5bb)"
          },
          "metadata": {}
        },
        {
          "output_type": "execute_result",
          "data": {},
          "execution_count": 34,
          "metadata": {}
        }
      ],
      "metadata": {
        "jupyter": {
          "source_hidden": false,
          "outputs_hidden": false
        },
        "nteract": {
          "transient": {
            "deleting": false
          }
        },
        "microsoft": {
          "language": "python"
        },
        "collapsed": false
      },
      "source": [
        "%%pyspark\r\n",
        "\r\n",
        "from pyspark.sql.types import StructType, StructField, IntegerType, StringType, DoubleType, DateType, TimestampType\r\n",
        "csvSchema = StructType([\r\n",
        "  StructField('bibnum', IntegerType(), True),\r\n",
        "  StructField('title', StringType(), True),\r\n",
        "  StructField('author', StringType(), True), \r\n",
        "  StructField('isbn', StringType(), True),\r\n",
        "  StructField('publication_year', StringType(), True),\r\n",
        "  StructField('publisher', StringType(), True),\r\n",
        "  StructField('subjects', StringType(), True),\r\n",
        "  StructField('item_type', StringType(), True),\r\n",
        "  StructField('item_collection', StringType(), True),\r\n",
        "  StructField('floating_item', StringType(), True),\r\n",
        "  StructField('item_location', StringType(), True),\r\n",
        "  StructField('reportDate', StringType(), True),\r\n",
        "  StructField('item_count', IntegerType(), True)\r\n",
        "])\r\n",
        "\r\n",
        "CheckByTPI_capture_df = spark.read.format('csv').option('header', 'True').schema(csvSchema).load(capture_adls_path)\r\n",
        "\r\n",
        "display(CheckByTPI_capture_df.limit(10))\r\n",
        "\r\n",
        ""
      ]
    },
    {
      "cell_type": "code",
      "execution_count": 35,
      "outputs": [
        {
          "output_type": "display_data",
          "data": {
            "application/vnd.livy.statement-meta+json": {
              "spark_pool": "synasp1",
              "session_id": 6,
              "statement_id": 29,
              "state": "finished",
              "livy_statement_state": "available",
              "queued_time": "2021-06-03T03:13:18.7397228Z",
              "execution_start_time": "2021-06-03T03:13:25.1642287Z",
              "execution_finish_time": "2021-06-03T03:13:27.2479184Z"
            },
            "text/plain": "StatementMeta(synasp1, 6, 29, Finished, Available)"
          },
          "metadata": {}
        },
        {
          "output_type": "stream",
          "name": "stdout",
          "text": ""
        }
      ],
      "metadata": {
        "jupyter": {
          "source_hidden": false,
          "outputs_hidden": false
        },
        "nteract": {
          "transient": {
            "deleting": false
          }
        },
        "microsoft": {
          "language": "python"
        },
        "collapsed": true
      },
      "source": [
        "%%pyspark\r\n",
        "\r\n",
        "from pyspark.sql.functions import to_date, to_timestamp, col, date_format, current_timestamp\r\n",
        "df_final = (CheckByTPI_capture_df.withColumn(\"report_date\", to_date(col(\"reportDate\"),\"M/d/yyyy\")).drop(\"reportDate\")\r\n",
        "                                 .withColumn('loadDate', date_format(current_timestamp(), 'M/d/y H:m:s a'))\r\n",
        "                                 .withColumn(\"load_date\", to_timestamp(col(\"loadDate\"),\"M/d/y H:m:s a\")).drop(\"loadDate\")\r\n",
        ")"
      ]
    },
    {
      "cell_type": "code",
      "execution_count": 36,
      "outputs": [
        {
          "output_type": "display_data",
          "data": {
            "application/vnd.livy.statement-meta+json": {
              "spark_pool": "synasp1",
              "session_id": 6,
              "statement_id": 30,
              "state": "finished",
              "livy_statement_state": "available",
              "queued_time": "2021-06-03T03:13:18.804297Z",
              "execution_start_time": "2021-06-03T03:13:27.3571876Z",
              "execution_finish_time": "2021-06-03T03:13:29.4316095Z"
            },
            "text/plain": "StatementMeta(synasp1, 6, 30, Finished, Available)"
          },
          "metadata": {}
        },
        {
          "output_type": "display_data",
          "data": {
            "text/plain": "root\n |-- bibnum: integer (nullable = true)\n |-- title: string (nullable = true)\n |-- author: string (nullable = true)\n |-- isbn: string (nullable = true)\n |-- publication_year: string (nullable = true)\n |-- publisher: string (nullable = true)\n |-- subjects: string (nullable = true)\n |-- item_type: string (nullable = true)\n |-- item_collection: string (nullable = true)\n |-- floating_item: string (nullable = true)\n |-- item_location: string (nullable = true)\n |-- item_count: integer (nullable = true)\n |-- report_date: date (nullable = true)\n |-- load_date: timestamp (nullable = true)\n\n"
          },
          "metadata": {}
        },
        {
          "output_type": "display_data",
          "data": {
            "application/vnd.synapse.widget-view+json": {
              "widget_id": "2253a7f7-f42e-4681-8a0f-3b3e78badef7",
              "widget_type": "Synapse.DataFrame"
            },
            "text/plain": "SynapseWidget(Synapse.DataFrame, 2253a7f7-f42e-4681-8a0f-3b3e78badef7)"
          },
          "metadata": {}
        },
        {
          "output_type": "execute_result",
          "data": {},
          "execution_count": 36,
          "metadata": {}
        }
      ],
      "metadata": {
        "jupyter": {
          "source_hidden": false,
          "outputs_hidden": false
        },
        "nteract": {
          "transient": {
            "deleting": false
          }
        },
        "microsoft": {
          "language": "python"
        },
        "collapsed": false
      },
      "source": [
        "%%pyspark\n",
        "\n",
        "# Show Schema\n",
        "df_final.printSchema()\n",
        "\n",
        "display(df_final.limit(10))\n",
        ""
      ]
    },
    {
      "cell_type": "code",
      "execution_count": 37,
      "outputs": [
        {
          "output_type": "display_data",
          "data": {
            "application/vnd.livy.statement-meta+json": {
              "spark_pool": "synasp1",
              "session_id": 6,
              "statement_id": 31,
              "state": "finished",
              "livy_statement_state": "available",
              "queued_time": "2021-06-03T03:13:18.8715417Z",
              "execution_start_time": "2021-06-03T03:13:29.5355115Z",
              "execution_finish_time": "2021-06-03T03:13:31.6056884Z"
            },
            "text/plain": "StatementMeta(synasp1, 6, 31, Finished, Available)"
          },
          "metadata": {}
        },
        {
          "output_type": "stream",
          "name": "stdout",
          "text": "Primary storage account path: abfss://compose@spkaccelerjqvse6bhhchxi.dfs.core.windows.net/SeattlePublicLibrary/LibraryCollectionInventory/"
        }
      ],
      "metadata": {
        "jupyter": {
          "source_hidden": false,
          "outputs_hidden": false
        },
        "nteract": {
          "transient": {
            "deleting": false
          }
        },
        "microsoft": {
          "language": "python"
        },
        "collapsed": true
      },
      "source": [
        "%%pyspark\n",
        "\n",
        "from pyspark.sql import SparkSession\n",
        "from pyspark.sql.types import *\n",
        "\n",
        "# Primary storage info\n",
        "compose_account_name = 'spkaccelerjqvse6bhhchxi' # fill in your primary account name\n",
        "compose_container_name = 'compose' # fill in your container name\n",
        "compose_relative_path = 'SeattlePublicLibrary/LibraryCollectionInventory/' # fill in your relative folder path\n",
        "\n",
        "compose_adls_path = 'abfss://%s@%s.dfs.core.windows.net/%s' % (compose_container_name, compose_account_name, compose_relative_path)\n",
        "print('Primary storage account path: ' + compose_adls_path)"
      ]
    },
    {
      "cell_type": "code",
      "execution_count": 38,
      "outputs": [
        {
          "output_type": "display_data",
          "data": {
            "application/vnd.livy.statement-meta+json": {
              "spark_pool": "synasp1",
              "session_id": 6,
              "statement_id": 32,
              "state": "finished",
              "livy_statement_state": "available",
              "queued_time": "2021-06-03T03:13:18.9152122Z",
              "execution_start_time": "2021-06-03T03:13:31.710378Z",
              "execution_finish_time": "2021-06-03T03:13:33.7752522Z"
            },
            "text/plain": "StatementMeta(synasp1, 6, 32, Finished, Available)"
          },
          "metadata": {}
        },
        {
          "output_type": "stream",
          "name": "stdout",
          "text": "parquet file path: abfss://compose@spkaccelerjqvse6bhhchxi.dfs.core.windows.net/SeattlePublicLibrary/LibraryCollectionInventory/CollectionInventory.parquet"
        }
      ],
      "metadata": {
        "jupyter": {
          "source_hidden": false,
          "outputs_hidden": false
        },
        "nteract": {
          "transient": {
            "deleting": false
          }
        },
        "microsoft": {
          "language": "python"
        },
        "collapsed": true
      },
      "source": [
        "%%pyspark\n",
        "\n",
        "compose_parquet_path = compose_adls_path + 'CollectionInventory.parquet'\n",
        "\n",
        "print('parquet file path: ' + compose_parquet_path)"
      ]
    },
    {
      "cell_type": "code",
      "execution_count": 39,
      "outputs": [
        {
          "output_type": "display_data",
          "data": {
            "application/vnd.livy.statement-meta+json": {
              "spark_pool": "synasp1",
              "session_id": 6,
              "statement_id": 33,
              "state": "finished",
              "livy_statement_state": "available",
              "queued_time": "2021-06-03T03:13:18.9622035Z",
              "execution_start_time": "2021-06-03T03:13:33.9169389Z",
              "execution_finish_time": "2021-06-03T03:15:35.8604742Z"
            },
            "text/plain": "StatementMeta(synasp1, 6, 33, Finished, Available)"
          },
          "metadata": {}
        },
        {
          "output_type": "stream",
          "name": "stdout",
          "text": ""
        }
      ],
      "metadata": {
        "jupyter": {
          "source_hidden": false,
          "outputs_hidden": false
        },
        "nteract": {
          "transient": {
            "deleting": false
          }
        },
        "microsoft": {
          "language": "python"
        },
        "collapsed": true
      },
      "source": [
        "%%pyspark\n",
        "\n",
        "df_final.write.parquet(compose_parquet_path, mode = 'overwrite')"
      ]
    },
    {
      "cell_type": "code",
      "execution_count": 40,
      "outputs": [
        {
          "output_type": "display_data",
          "data": {
            "application/vnd.livy.statement-meta+json": {
              "spark_pool": "synasp1",
              "session_id": 6,
              "statement_id": 34,
              "state": "finished",
              "livy_statement_state": "available",
              "queued_time": "2021-06-03T03:13:18.9997956Z",
              "execution_start_time": "2021-06-03T03:15:35.9809616Z",
              "execution_finish_time": "2021-06-03T03:15:38.0354906Z"
            },
            "text/plain": "StatementMeta(synasp1, 6, 34, Finished, Available)"
          },
          "metadata": {}
        },
        {
          "output_type": "execute_result",
          "data": {
            "application/vnd.synapse.sparksql-result+json": {
              "schema": {
                "type": "struct",
                "fields": []
              },
              "data": []
            },
            "text/plain": "<Spark SQL result set with 0 rows and 0 fields>"
          },
          "execution_count": 40,
          "metadata": {}
        }
      ],
      "metadata": {
        "jupyter": {
          "source_hidden": false,
          "outputs_hidden": false
        },
        "nteract": {
          "transient": {
            "deleting": false
          }
        },
        "microsoft": {
          "language": "sparksql"
        },
        "collapsed": false
      },
      "source": [
        "%%sql\n",
        "\n",
        "-- Create database SeattlePublicLibrary only if database with same name does not exist\n",
        "CREATE DATABASE IF NOT EXISTS SeattlePublicLibrary"
      ]
    },
    {
      "cell_type": "code",
      "execution_count": 41,
      "outputs": [
        {
          "output_type": "display_data",
          "data": {
            "application/vnd.livy.statement-meta+json": {
              "spark_pool": "synasp1",
              "session_id": 6,
              "statement_id": 35,
              "state": "finished",
              "livy_statement_state": "available",
              "queued_time": "2021-06-03T03:13:19.0735559Z",
              "execution_start_time": "2021-06-03T03:15:38.1353179Z",
              "execution_finish_time": "2021-06-03T03:15:40.1929027Z"
            },
            "text/plain": "StatementMeta(synasp1, 6, 35, Finished, Available)"
          },
          "metadata": {}
        },
        {
          "output_type": "execute_result",
          "data": {
            "application/vnd.synapse.sparksql-result+json": {
              "schema": {
                "type": "struct",
                "fields": []
              },
              "data": []
            },
            "text/plain": "<Spark SQL result set with 0 rows and 0 fields>"
          },
          "execution_count": 41,
          "metadata": {}
        }
      ],
      "metadata": {
        "jupyter": {
          "source_hidden": false,
          "outputs_hidden": false
        },
        "nteract": {
          "transient": {
            "deleting": false
          }
        },
        "microsoft": {
          "language": "sparksql"
        },
        "collapsed": false
      },
      "source": [
        "%%sql\n",
        "\n",
        "-- Create table CheckoutsByTitlePhysicalItemsschemafinal only if table with same name does not exist\n",
        "CREATE TABLE IF NOT EXISTS SeattlePublicLibrary.library_collection_inventory\n",
        " (title STRING\n",
        " ,author STRING\n",
        " ,isbn STRING\n",
        " ,publication_year STRING\n",
        " ,publisher STRING\n",
        " ,subjects STRING\n",
        " ,item_type STRING\n",
        " ,item_collection STRING\n",
        " ,floating_item STRING\n",
        " ,item_location STRING\n",
        " ,report_date DATE\n",
        " ,item_count INTEGER\n",
        " ,load_date TIMESTAMP\n",
        ")\n",
        "USING PARQUET OPTIONS (path 'abfss://compose@spkaccelerjqvse6bhhchxi.dfs.core.windows.net/SeattlePublicLibrary/LibraryCollectionInventory/CollectionInventory.parquet')"
      ]
    }
  ],
  "metadata": {
    "save_output": true,
    "kernelspec": {
      "name": "synapse_pyspark",
      "display_name": "Synapse PySpark"
    },
    "language_info": {
      "name": "python"
    },
    "synapse_widget": {
      "version": "0.1",
      "state": {
        "5720fb1b-8e15-48a7-be91-4676bc4fde8b": {
          "type": "Synapse.DataFrame",
          "sync_state": {
            "table": {
              "rows": [
                {
                  "Subjects": "Defense industries United States, United States Armed Forces Procurement, United States Economic conditions",
                  "Title": "Impact of Military and Related Civilian Supply and Service Activities on the Economy : hearings before the United States Joint Economic Committee, Subcommittee on Defense Procurement, Eighty-Eighth Congress, second session, on Apr. 16, 21, 1964.",
                  "BibNum": "2017376",
                  "ReportDate": "03/01/2020",
                  "FloatingItem": "NA",
                  "ItemCount": "1",
                  "ItemCollection": "cadocmf",
                  "ItemLocation": "cen",
                  "PublicationYear": "1964.",
                  "Author": "United States. Congress. Joint Economic Committee. Subcommittee on Defense Procurement",
                  "ItemType": "armfc",
                  "Publisher": "U.S. G.P.O.,"
                },
                {
                  "Subjects": "Spotted Tail 1823 1881, Spotted Tail 1823 1881 Political activity, Brul‚ Indians South Dakota Biography, Biographies",
                  "Title": "Spotted Tail / by David Heska Wanbli Weiden, illustrated by Jim Yellowhawk + Pat Kinsella",
                  "BibNum": "3510081",
                  "ReportDate": "03/01/2020",
                  "ISBN": "1478867884, 9781478867883",
                  "FloatingItem": "NA",
                  "ItemCount": "1",
                  "ItemCollection": "ncnew",
                  "ItemLocation": "lcy",
                  "PublicationYear": "[2019]",
                  "Author": "Weiden, David Heska Wanbli, 1963-",
                  "ItemType": "jcbk",
                  "Publisher": "Reycraft Book,"
                },
                {
                  "Subjects": "Science Experiments Juvenile fiction, Chickens Fiction, Dragons Juvenile fiction, Animals Infancy Juvenile fiction, Schools Fiction",
                  "Title": "Argus / Michelle Knudsen ; illustrated by Andrea Wesson.",
                  "BibNum": "2692913",
                  "ReportDate": "03/01/2020",
                  "ISBN": "0763637904, 9780763637903",
                  "FloatingItem": "NA",
                  "ItemCount": "1",
                  "ItemCollection": "ncpic",
                  "ItemLocation": "cap",
                  "PublicationYear": "2011.",
                  "Author": "Knudsen, Michelle",
                  "ItemType": "jcbk",
                  "Publisher": "Candlewick Press,"
                },
                {
                  "Subjects": "Violence in children Drama, Violent crimes Drama, Criminal investigation Drama, Television series, Thrillers Television programs, Detective and mystery television programs, Fiction television programs, Video recordings for the hearing impaired",
                  "Title": "The sinner. Season two / USA Original ; Universal Cable Productions.",
                  "BibNum": "3420257",
                  "ReportDate": "03/01/2020",
                  "FloatingItem": "Floating",
                  "ItemCount": "1",
                  "ItemCollection": "nadvd",
                  "ItemLocation": "wal",
                  "PublicationYear": "[2018]",
                  "ItemType": "acdvd",
                  "Publisher": "Universal Pictures Home Entertainment,"
                },
                {
                  "Subjects": "Nightingale Florence 1820 1910 Juvenile fiction, Time travel Juvenile fiction, Magicians Juvenile fiction, Nurses Juvenile fiction, Tree houses Juvenile fiction, Thebes Egypt Extinct city Juvenile fiction",
                  "Title": "High time for heroes / by Mary Pope Osborne ; illustrated by Sal Murdocca.",
                  "BibNum": "2934796",
                  "ReportDate": "03/01/2020",
                  "ISBN": "0307980499, 0307980502, 0307980529, 9780307980496, 9780307980502, 9780307980526",
                  "FloatingItem": "NA",
                  "ItemCount": "2",
                  "ItemCollection": "ccser",
                  "ItemLocation": "cen",
                  "PublicationYear": "[2014]",
                  "Author": "Osborne, Mary Pope",
                  "ItemType": "jcbk",
                  "Publisher": "Random House,"
                },
                {
                  "Subjects": "Space colonies Fiction, Life on other planets Fiction, Human alien encounters Fiction, Science fiction",
                  "Title": "Interference / Sue Burke.",
                  "BibNum": "3493255",
                  "ReportDate": "03/01/2020",
                  "ISBN": "1250317843, 9781250317841",
                  "FloatingItem": "NA",
                  "ItemCount": "1",
                  "ItemCollection": "nasf",
                  "ItemLocation": "qna",
                  "PublicationYear": "[2019]",
                  "Author": "Burke, Sue, 1955-",
                  "ItemType": "acbk",
                  "Publisher": "Tor,"
                },
                {
                  "Subjects": "Women ex convicts Fiction, Women veterans Fiction, Dogs Fiction, Service dogs Fiction, Human animal relationships Fiction, Survival Fiction, Female friendship Fiction, Dogtown Commons Gloucester Mass Fiction, Domestic fiction, Animal fiction",
                  "Title": "The dog I loved / Susan Wilson.",
                  "BibNum": "3484492",
                  "ReportDate": "03/01/2020",
                  "ISBN": "1250078148, 9781250078148",
                  "FloatingItem": "NA",
                  "ItemCount": "1",
                  "ItemCollection": "nanew",
                  "ItemLocation": "gwd",
                  "PublicationYear": "2019.",
                  "Author": "Wilson, Susan, 1951-",
                  "ItemType": "acbk",
                  "Publisher": "St. Martin's Press,"
                },
                {
                  "Subjects": "Women Fiction, Teenage girls Fiction, Ability Fiction, Fantasy fiction",
                  "Title": "The power / Naomi Alderman ; traducción de Ana Guelbenzu.",
                  "BibNum": "3358972",
                  "ReportDate": "03/01/2020",
                  "ISBN": "8416700672, 9788416700677",
                  "FloatingItem": "NA",
                  "ItemCount": "1",
                  "ItemCollection": "naln",
                  "ItemLocation": "spa",
                  "PublicationYear": "[2017]",
                  "Author": "Alderman, Naomi",
                  "ItemType": "acbk",
                  "Publisher": "Roca Editorial,"
                },
                {
                  "Subjects": "Dead Juvenile fiction, Text messages Cell phone systems Juvenile fiction, Future life Juvenile fiction",
                  "Title": "The ungrateful dead / Rose Cooper.",
                  "BibNum": "3197741",
                  "ReportDate": "03/01/2020",
                  "ISBN": "0375991395, 0385743920, 9780375991394, 9780385743921",
                  "FloatingItem": "NA",
                  "ItemCount": "1",
                  "ItemCollection": "ncfic",
                  "ItemLocation": "wts",
                  "PublicationYear": "[2016]",
                  "Author": "Cooper, Rose (Barbara Rose), 1978-",
                  "ItemType": "jcbk",
                  "Publisher": "Delacorte Press,"
                },
                {
                  "Subjects": "Emigration and immigration law United States, Domicile United States",
                  "Title": "A letter regarding section 245(i) of the Immigration and Nationality Act : communication from the President of the United States transmitting a letter in support of legislation to extend the window created under section 245(i) of the Immigration and Nationality Act during which qualified immigrants may obtain legal residence in the United States without being forced to first leave the country and their families for several years.",
                  "BibNum": "2053777",
                  "ReportDate": "03/01/2020",
                  "FloatingItem": "NA",
                  "ItemCount": "1",
                  "ItemCollection": "cadocmf",
                  "ItemLocation": "cen",
                  "PublicationYear": "2001.",
                  "Author": "United States. President (2001-2009 : Bush)",
                  "ItemType": "armfc",
                  "Publisher": "U.S. G.P.O.,"
                }
              ],
              "schema": {
                "BibNum": "string",
                "Title": "string",
                "Author": "string",
                "ISBN": "string",
                "PublicationYear": "string",
                "Publisher": "string",
                "Subjects": "string",
                "ItemType": "string",
                "ItemCollection": "string",
                "FloatingItem": "string",
                "ItemLocation": "string",
                "ReportDate": "string",
                "ItemCount": "string"
              }
            },
            "isSummary": false,
            "language": "scala"
          },
          "persist_state": {
            "view": {
              "type": "details",
              "tableOptions": {},
              "chartOptions": {
                "chartType": "bar",
                "aggregationType": "count",
                "categoryFieldKeys": [
                  "BibNum"
                ],
                "seriesFieldKeys": [
                  "BibNum"
                ],
                "isStacked": false
              }
            }
          }
        },
        "409a795b-ae2e-4a2c-aace-d30ac47ae5bb": {
          "type": "Synapse.DataFrame",
          "sync_state": {
            "table": {
              "rows": [
                {
                  "author": "United States. Congress. Joint Economic Committee. Subcommittee on Defense Procurement",
                  "subjects": "Defense industries United States, United States Armed Forces Procurement, United States Economic conditions",
                  "item_count": 1,
                  "floating_item": "NA",
                  "bibnum": 2017376,
                  "item_collection": "cadocmf",
                  "item_location": "cen",
                  "publisher": "U.S. G.P.O.,",
                  "title": "Impact of Military and Related Civilian Supply and Service Activities on the Economy : hearings before the United States Joint Economic Committee, Subcommittee on Defense Procurement, Eighty-Eighth Congress, second session, on Apr. 16, 21, 1964.",
                  "reportDate": "03/01/2020",
                  "item_type": "armfc",
                  "publication_year": "1964."
                },
                {
                  "author": "Weiden, David Heska Wanbli, 1963-",
                  "subjects": "Spotted Tail 1823 1881, Spotted Tail 1823 1881 Political activity, Brul‚ Indians South Dakota Biography, Biographies",
                  "item_count": 1,
                  "floating_item": "NA",
                  "bibnum": 3510081,
                  "item_collection": "ncnew",
                  "item_location": "lcy",
                  "publisher": "Reycraft Book,",
                  "isbn": "1478867884, 9781478867883",
                  "title": "Spotted Tail / by David Heska Wanbli Weiden, illustrated by Jim Yellowhawk + Pat Kinsella",
                  "reportDate": "03/01/2020",
                  "item_type": "jcbk",
                  "publication_year": "[2019]"
                },
                {
                  "author": "Knudsen, Michelle",
                  "subjects": "Science Experiments Juvenile fiction, Chickens Fiction, Dragons Juvenile fiction, Animals Infancy Juvenile fiction, Schools Fiction",
                  "item_count": 1,
                  "floating_item": "NA",
                  "bibnum": 2692913,
                  "item_collection": "ncpic",
                  "item_location": "cap",
                  "publisher": "Candlewick Press,",
                  "isbn": "0763637904, 9780763637903",
                  "title": "Argus / Michelle Knudsen ; illustrated by Andrea Wesson.",
                  "reportDate": "03/01/2020",
                  "item_type": "jcbk",
                  "publication_year": "2011."
                },
                {
                  "subjects": "Violence in children Drama, Violent crimes Drama, Criminal investigation Drama, Television series, Thrillers Television programs, Detective and mystery television programs, Fiction television programs, Video recordings for the hearing impaired",
                  "item_count": 1,
                  "floating_item": "Floating",
                  "bibnum": 3420257,
                  "item_collection": "nadvd",
                  "item_location": "wal",
                  "publisher": "Universal Pictures Home Entertainment,",
                  "title": "The sinner. Season two / USA Original ; Universal Cable Productions.",
                  "reportDate": "03/01/2020",
                  "item_type": "acdvd",
                  "publication_year": "[2018]"
                },
                {
                  "author": "Osborne, Mary Pope",
                  "subjects": "Nightingale Florence 1820 1910 Juvenile fiction, Time travel Juvenile fiction, Magicians Juvenile fiction, Nurses Juvenile fiction, Tree houses Juvenile fiction, Thebes Egypt Extinct city Juvenile fiction",
                  "item_count": 2,
                  "floating_item": "NA",
                  "bibnum": 2934796,
                  "item_collection": "ccser",
                  "item_location": "cen",
                  "publisher": "Random House,",
                  "isbn": "0307980499, 0307980502, 0307980529, 9780307980496, 9780307980502, 9780307980526",
                  "title": "High time for heroes / by Mary Pope Osborne ; illustrated by Sal Murdocca.",
                  "reportDate": "03/01/2020",
                  "item_type": "jcbk",
                  "publication_year": "[2014]"
                },
                {
                  "author": "Burke, Sue, 1955-",
                  "subjects": "Space colonies Fiction, Life on other planets Fiction, Human alien encounters Fiction, Science fiction",
                  "item_count": 1,
                  "floating_item": "NA",
                  "bibnum": 3493255,
                  "item_collection": "nasf",
                  "item_location": "qna",
                  "publisher": "Tor,",
                  "isbn": "1250317843, 9781250317841",
                  "title": "Interference / Sue Burke.",
                  "reportDate": "03/01/2020",
                  "item_type": "acbk",
                  "publication_year": "[2019]"
                },
                {
                  "author": "Wilson, Susan, 1951-",
                  "subjects": "Women ex convicts Fiction, Women veterans Fiction, Dogs Fiction, Service dogs Fiction, Human animal relationships Fiction, Survival Fiction, Female friendship Fiction, Dogtown Commons Gloucester Mass Fiction, Domestic fiction, Animal fiction",
                  "item_count": 1,
                  "floating_item": "NA",
                  "bibnum": 3484492,
                  "item_collection": "nanew",
                  "item_location": "gwd",
                  "publisher": "St. Martin's Press,",
                  "isbn": "1250078148, 9781250078148",
                  "title": "The dog I loved / Susan Wilson.",
                  "reportDate": "03/01/2020",
                  "item_type": "acbk",
                  "publication_year": "2019."
                },
                {
                  "author": "Alderman, Naomi",
                  "subjects": "Women Fiction, Teenage girls Fiction, Ability Fiction, Fantasy fiction",
                  "item_count": 1,
                  "floating_item": "NA",
                  "bibnum": 3358972,
                  "item_collection": "naln",
                  "item_location": "spa",
                  "publisher": "Roca Editorial,",
                  "isbn": "8416700672, 9788416700677",
                  "title": "The power / Naomi Alderman ; traducción de Ana Guelbenzu.",
                  "reportDate": "03/01/2020",
                  "item_type": "acbk",
                  "publication_year": "[2017]"
                },
                {
                  "author": "Cooper, Rose (Barbara Rose), 1978-",
                  "subjects": "Dead Juvenile fiction, Text messages Cell phone systems Juvenile fiction, Future life Juvenile fiction",
                  "item_count": 1,
                  "floating_item": "NA",
                  "bibnum": 3197741,
                  "item_collection": "ncfic",
                  "item_location": "wts",
                  "publisher": "Delacorte Press,",
                  "isbn": "0375991395, 0385743920, 9780375991394, 9780385743921",
                  "title": "The ungrateful dead / Rose Cooper.",
                  "reportDate": "03/01/2020",
                  "item_type": "jcbk",
                  "publication_year": "[2016]"
                },
                {
                  "author": "United States. President (2001-2009 : Bush)",
                  "subjects": "Emigration and immigration law United States, Domicile United States",
                  "item_count": 1,
                  "floating_item": "NA",
                  "bibnum": 2053777,
                  "item_collection": "cadocmf",
                  "item_location": "cen",
                  "publisher": "U.S. G.P.O.,",
                  "title": "A letter regarding section 245(i) of the Immigration and Nationality Act : communication from the President of the United States transmitting a letter in support of legislation to extend the window created under section 245(i) of the Immigration and Nationality Act during which qualified immigrants may obtain legal residence in the United States without being forced to first leave the country and their families for several years.",
                  "reportDate": "03/01/2020",
                  "item_type": "armfc",
                  "publication_year": "2001."
                }
              ],
              "schema": {
                "bibnum": "int",
                "title": "string",
                "author": "string",
                "isbn": "string",
                "publication_year": "string",
                "publisher": "string",
                "subjects": "string",
                "item_type": "string",
                "item_collection": "string",
                "floating_item": "string",
                "item_location": "string",
                "reportDate": "string",
                "item_count": "int"
              }
            },
            "isSummary": false,
            "language": "scala"
          },
          "persist_state": {
            "view": {
              "type": "details",
              "tableOptions": {},
              "chartOptions": {
                "chartType": "bar",
                "aggregationType": "sum",
                "categoryFieldKeys": [
                  "title"
                ],
                "seriesFieldKeys": [
                  "bibnum"
                ],
                "isStacked": false
              }
            }
          }
        },
        "2253a7f7-f42e-4681-8a0f-3b3e78badef7": {
          "type": "Synapse.DataFrame",
          "sync_state": {
            "table": {
              "rows": [
                {
                  "author": "Fish, Stanley Eugene",
                  "load_date": "2021-06-03T02:51:23Z",
                  "subjects": "Trump Donald 1946, United States Constitution 1st Amendment, Freedom of speech United States, Hate speech United States, College students Civil rights United States, Freedom of religion United States, Fake news United States, Truthfulness and falsehood Political aspects United States",
                  "item_count": 1,
                  "report_date": "2020-06-01",
                  "floating_item": "NA",
                  "bibnum": 3481711,
                  "item_collection": "nanf",
                  "item_location": "qna",
                  "publisher": "One Signal Publishers ; Atria,",
                  "isbn": "1982115246, 9781982115241",
                  "title": "The First : how to think about hate speech, campus speech, religious speech, fake news, post-truth, and Donald Trump / Stanley Fish.",
                  "item_type": "acbk",
                  "publication_year": "2019."
                },
                {
                  "author": "Spence, David, 1957-",
                  "load_date": "2021-06-03T02:51:23Z",
                  "subjects": "Monet Claude 1840 1926 Juvenile literature, Painters France Biography Juvenile literature, Impressionism Art France Juvenile literature, Artists Juvenile literature, Impressionism Art Juvenile literature",
                  "item_count": 1,
                  "report_date": "2020-06-01",
                  "floating_item": "NA",
                  "bibnum": 2691734,
                  "item_collection": "ncnf",
                  "item_location": "bal",
                  "publisher": "New Forest Press,",
                  "isbn": "1848983123, 9781848983120",
                  "title": "Monet / [written by David Spence].",
                  "item_type": "jcbk",
                  "publication_year": "2010."
                },
                {
                  "author": "Tebbetts, Birdie, 1912-1999",
                  "load_date": "2021-06-03T02:51:23Z",
                  "subjects": "Tebbetts Birdie 1912 1999, Baseball players United States Biography",
                  "item_count": 1,
                  "report_date": "2020-06-01",
                  "floating_item": "NA",
                  "bibnum": 2100407,
                  "item_collection": "canf",
                  "item_location": "cen",
                  "publisher": "Triumph Books,",
                  "isbn": "1572434554",
                  "title": "Birdie : confessions of a baseball nomad / Birdie Tebbetts with James Morrison.",
                  "item_type": "acbk",
                  "publication_year": "[2002]"
                },
                {
                  "author": "Battle-Lavert, Gwendolyn",
                  "load_date": "2021-06-03T02:51:23Z",
                  "subjects": "Harmonica Juvenile fiction, Musicians Juvenile fiction, African Americans Juvenile fiction",
                  "item_count": 1,
                  "report_date": "2020-06-01",
                  "floating_item": "NA",
                  "bibnum": 1943152,
                  "item_collection": "ccpic",
                  "item_location": "cen",
                  "publisher": "Holiday House,",
                  "isbn": "0823413535",
                  "title": "The music in Derrick's heart / by Gwendolyn Battle Lavert ; illustrated by Colin Bootman.",
                  "item_type": "jcbk",
                  "publication_year": "2000."
                },
                {
                  "author": "Lynne, Shelby",
                  "load_date": "2021-06-03T02:51:23Z",
                  "subjects": "Popular music 2001 2010, Country music 2001 2010",
                  "item_count": 1,
                  "report_date": "2020-06-01",
                  "floating_item": "NA",
                  "bibnum": 2482738,
                  "item_collection": "cacd",
                  "item_location": "cen",
                  "publisher": "Lost Highway,",
                  "title": "Just a little lovin' / Shelby Lynne.",
                  "item_type": "accd",
                  "publication_year": "[2008]"
                },
                {
                  "author": "Patterson, James, 1947-",
                  "load_date": "2021-06-03T02:51:23Z",
                  "subjects": "Hernandez Aaron 1989 2017, Hernandez Aaron 1989 2017 Trials litigation etc, Murder Massachusetts Case studies, Trials Murder Massachusetts Case studies, Football players United States Biography, Large type books, True crime stories",
                  "item_count": 1,
                  "report_date": "2020-06-01",
                  "floating_item": "Floating",
                  "bibnum": 3377690,
                  "item_collection": "nalpnf",
                  "item_location": "mag",
                  "publisher": "Little, Brown and Company,",
                  "isbn": "031641266X, 9780316412667",
                  "title": "All-American murder : the rise and fall of Aaron Hernandez, the superstar whose life ended on murderers' row / James Patterson & Alex Abramovich with Mike Harvkey.",
                  "item_type": "acbk",
                  "publication_year": "2018."
                },
                {
                  "author": "Reich, Susanna",
                  "load_date": "2021-06-03T02:51:23Z",
                  "subjects": "Seeger Pete 1919 2014 Juvenile literature, Folk singers United States Biography Juvenile literature, Biographies",
                  "item_count": 1,
                  "report_date": "2020-06-01",
                  "floating_item": "NA",
                  "bibnum": 3236129,
                  "item_collection": "ncnf",
                  "item_location": "dth",
                  "publisher": "Bloomsbury,",
                  "isbn": "0802738125, 9780802738127",
                  "title": "Stand up and sing! : Pete Seeger, folk music, and the path to justice / Susanna Reich ; illustrated by Adam Gustavson ; foreword by Peter Yarrow.",
                  "item_type": "jcbk",
                  "publication_year": "2017."
                },
                {
                  "author": "Meadows, Karen",
                  "load_date": "2021-06-03T02:51:23Z",
                  "subjects": "Meadows Sadie 1990 2008, Depressed persons United States Biography, Parents of mentally ill children United States, Youth Suicidal behavior United States",
                  "item_count": 1,
                  "report_date": "2020-06-01",
                  "floating_item": "NA",
                  "bibnum": 3295900,
                  "item_collection": "nanf",
                  "item_location": "bro",
                  "publisher": "She Writes Press,",
                  "isbn": "1631521373, 9781631521379",
                  "title": "Searching for normal : the story of a girl gone too soon / by Karen Meadows.",
                  "item_type": "acbk",
                  "publication_year": "2016."
                },
                {
                  "author": "Patterson, James, 1947-",
                  "load_date": "2021-06-03T02:51:23Z",
                  "subjects": "Bennett Michael Fictitious character Fiction, Police New York State New York Fiction, Assassins Fiction, Manhattan New York N Y Fiction, Thrillers Fiction",
                  "item_count": 1,
                  "report_date": "2020-06-01",
                  "floating_item": "NA",
                  "bibnum": 3202943,
                  "item_collection": "nafic",
                  "item_location": "glk",
                  "publisher": "Little Brown and Company,",
                  "isbn": "0316407089, 9780316407083",
                  "title": "Bullseye / James Patterson and Michael Ledwidge.",
                  "item_type": "acbk",
                  "publication_year": "2016."
                },
                {
                  "author": "Halliburton, Richard, 1900-1939",
                  "load_date": "2021-06-03T02:51:23Z",
                  "subjects": "Voyages and travels",
                  "item_count": 1,
                  "report_date": "2020-06-01",
                  "floating_item": "NA",
                  "bibnum": 162551,
                  "item_collection": "cs8",
                  "item_location": "cen",
                  "publisher": "The Bobbs-Merrill Company,",
                  "title": "Richard Halliburton's Complete book of marvels.",
                  "item_type": "acbk",
                  "publication_year": "[1941]"
                }
              ],
              "schema": {
                "bibnum": "int",
                "title": "string",
                "author": "string",
                "isbn": "string",
                "publication_year": "string",
                "publisher": "string",
                "subjects": "string",
                "item_type": "string",
                "item_collection": "string",
                "floating_item": "string",
                "item_location": "string",
                "item_count": "int",
                "report_date": "date",
                "load_date": "int"
              }
            },
            "isSummary": false,
            "language": "scala"
          },
          "persist_state": {
            "view": {
              "type": "details",
              "tableOptions": {},
              "chartOptions": {
                "chartType": "bar",
                "aggregationType": "sum",
                "categoryFieldKeys": [
                  "title"
                ],
                "seriesFieldKeys": [
                  "bibnum"
                ],
                "isStacked": false
              }
            }
          }
        }
      }
    }
  }
}