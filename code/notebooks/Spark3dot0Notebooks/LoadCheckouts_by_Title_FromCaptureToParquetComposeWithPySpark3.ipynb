{
  "nbformat": 4,
  "nbformat_minor": 2,
  "cells": [
    {
      "cell_type": "code",
      "execution_count": 19,
      "outputs": [
        {
          "output_type": "display_data",
          "data": {
            "application/vnd.livy.statement-meta+json": {
              "spark_pool": "synasp1",
              "session_id": 4,
              "statement_id": 13,
              "state": "finished",
              "livy_statement_state": "available",
              "queued_time": "2021-06-03T03:13:06.0143527Z",
              "execution_start_time": "2021-06-03T03:13:06.2034226Z",
              "execution_finish_time": "2021-06-03T03:13:08.2688764Z"
            },
            "text/plain": "StatementMeta(synasp1, 4, 13, Finished, Available)"
          },
          "metadata": {}
        },
        {
          "output_type": "display_data",
          "data": {
            "application/vnd.synapse.widget-view+json": {
              "widget_id": "50f60c8d-c66e-41a5-8d2a-690157f3fb2e",
              "widget_type": "Synapse.DataFrame"
            },
            "text/plain": "SynapseWidget(Synapse.DataFrame, 50f60c8d-c66e-41a5-8d2a-690157f3fb2e)"
          },
          "metadata": {}
        },
        {
          "output_type": "execute_result",
          "data": {},
          "execution_count": 19,
          "metadata": {}
        }
      ],
      "metadata": {
        "microsoft": {
          "language": "python"
        },
        "collapsed": false
      },
      "source": [
        "%%pyspark\n",
        "\n",
        "df = spark.read.load('abfss://capture@spkaccelerjqvse6bhhchxi.dfs.core.windows.net/SeattlePublicLibrary/Checkouts_by_Title.csv', format='csv'\n",
        "## If header exists uncomment line below\n",
        ", header=True\n",
        ")\n",
        "display(df.limit(10))"
      ]
    },
    {
      "cell_type": "code",
      "execution_count": 20,
      "outputs": [
        {
          "output_type": "display_data",
          "data": {
            "application/vnd.livy.statement-meta+json": {
              "spark_pool": "synasp1",
              "session_id": 4,
              "statement_id": 14,
              "state": "finished",
              "livy_statement_state": "available",
              "queued_time": "2021-06-03T03:13:06.4585185Z",
              "execution_start_time": "2021-06-03T03:13:08.3725693Z",
              "execution_finish_time": "2021-06-03T03:13:10.4319408Z"
            },
            "text/plain": "StatementMeta(synasp1, 4, 14, Finished, Available)"
          },
          "metadata": {}
        },
        {
          "output_type": "stream",
          "name": "stdout",
          "text": "root\n |-- UsageClass: string (nullable = true)\n |-- CheckoutType: string (nullable = true)\n |-- MaterialType: string (nullable = true)\n |-- CheckoutYear: string (nullable = true)\n |-- CheckoutMonth: string (nullable = true)\n |-- Checkouts: string (nullable = true)\n |-- Title: string (nullable = true)\n |-- Creator: string (nullable = true)\n |-- Subjects: string (nullable = true)\n |-- Publisher: string (nullable = true)\n |-- PublicationYear: string (nullable = true)"
        }
      ],
      "metadata": {
        "jupyter": {
          "source_hidden": false,
          "outputs_hidden": false
        },
        "nteract": {
          "transient": {
            "deleting": false
          }
        },
        "microsoft": {
          "language": "python"
        },
        "collapsed": true
      },
      "source": [
        "%%pyspark\r\n",
        "\r\n",
        "# Show Schema\r\n",
        "df.printSchema()"
      ]
    },
    {
      "cell_type": "code",
      "execution_count": 21,
      "outputs": [
        {
          "output_type": "display_data",
          "data": {
            "application/vnd.livy.statement-meta+json": {
              "spark_pool": "synasp1",
              "session_id": 4,
              "statement_id": 15,
              "state": "finished",
              "livy_statement_state": "available",
              "queued_time": "2021-06-03T03:13:06.7178113Z",
              "execution_start_time": "2021-06-03T03:13:10.5338149Z",
              "execution_finish_time": "2021-06-03T03:13:12.5918322Z"
            },
            "text/plain": "StatementMeta(synasp1, 4, 15, Finished, Available)"
          },
          "metadata": {}
        },
        {
          "output_type": "stream",
          "name": "stdout",
          "text": "Primary storage account path: abfss://capture@spkaccelerjqvse6bhhchxi.dfs.core.windows.net/SeattlePublicLibrary/Checkouts_by_Title.csv"
        }
      ],
      "metadata": {
        "jupyter": {
          "source_hidden": false,
          "outputs_hidden": false
        },
        "nteract": {
          "transient": {
            "deleting": false
          }
        },
        "microsoft": {
          "language": "python"
        },
        "collapsed": true
      },
      "source": [
        "%%pyspark\n",
        "\n",
        "from pyspark.sql import SparkSession\n",
        "from pyspark.sql.types import *\n",
        "\n",
        "# Primary storage info\n",
        "capture_account_name = 'spkaccelerjqvse6bhhchxi' # fill in your primary account name\n",
        "capture_container_name = 'capture' # fill in your container name\n",
        "capture_relative_path = 'SeattlePublicLibrary/Checkouts_by_Title.csv' # fill in your relative folder path\n",
        "\n",
        "capture_adls_path = 'abfss://%s@%s.dfs.core.windows.net/%s' % (capture_container_name, capture_account_name, capture_relative_path)\n",
        "print('Primary storage account path: ' + capture_adls_path)"
      ]
    },
    {
      "cell_type": "code",
      "execution_count": 22,
      "outputs": [
        {
          "output_type": "display_data",
          "data": {
            "application/vnd.livy.statement-meta+json": {
              "spark_pool": "synasp1",
              "session_id": 4,
              "statement_id": 16,
              "state": "finished",
              "livy_statement_state": "available",
              "queued_time": "2021-06-03T03:13:06.7677709Z",
              "execution_start_time": "2021-06-03T03:13:12.6971276Z",
              "execution_finish_time": "2021-06-03T03:13:14.7681307Z"
            },
            "text/plain": "StatementMeta(synasp1, 4, 16, Finished, Available)"
          },
          "metadata": {}
        },
        {
          "output_type": "display_data",
          "data": {
            "application/vnd.synapse.widget-view+json": {
              "widget_id": "68fd3507-9899-4747-85a4-92b0500ae640",
              "widget_type": "Synapse.DataFrame"
            },
            "text/plain": "SynapseWidget(Synapse.DataFrame, 68fd3507-9899-4747-85a4-92b0500ae640)"
          },
          "metadata": {}
        },
        {
          "output_type": "execute_result",
          "data": {},
          "execution_count": 22,
          "metadata": {}
        }
      ],
      "metadata": {
        "jupyter": {
          "source_hidden": false,
          "outputs_hidden": false
        },
        "nteract": {
          "transient": {
            "deleting": false
          }
        },
        "microsoft": {
          "language": "python"
        },
        "collapsed": false
      },
      "source": [
        "%%pyspark\r\n",
        "\r\n",
        "from pyspark.sql.types import StructType, StructField, IntegerType, StringType, DoubleType, DateType, TimestampType\r\n",
        "csvSchema = StructType([\r\n",
        "  StructField('usage_class', StringType(), True),\r\n",
        "  StructField('checkout_type', StringType(), True),\r\n",
        "  StructField('material_type', StringType(), True), \r\n",
        "  StructField('checkout_year', IntegerType(), True),\r\n",
        "  StructField('checkout_month', IntegerType(), True),\r\n",
        "  StructField('checkouts', IntegerType(), True),   \r\n",
        "  StructField('title', StringType(), True),\r\n",
        "  StructField('creator', StringType(), True),\r\n",
        "  StructField('subjects', StringType(), True),\r\n",
        "  StructField('publisher', StringType(), True),\r\n",
        "  StructField('publication_year', StringType(), True)   \r\n",
        "])\r\n",
        "\r\n",
        "CheckByTPI_capture_df = spark.read.format('csv').option('header', 'True').schema(csvSchema).load(capture_adls_path)\r\n",
        "\r\n",
        "display(CheckByTPI_capture_df.limit(10))\r\n",
        "\r\n",
        ""
      ]
    },
    {
      "cell_type": "code",
      "execution_count": 23,
      "outputs": [
        {
          "output_type": "display_data",
          "data": {
            "application/vnd.livy.statement-meta+json": {
              "spark_pool": "synasp1",
              "session_id": 4,
              "statement_id": 17,
              "state": "finished",
              "livy_statement_state": "available",
              "queued_time": "2021-06-03T03:13:06.8492237Z",
              "execution_start_time": "2021-06-03T03:13:14.8766127Z",
              "execution_finish_time": "2021-06-03T03:13:16.9391667Z"
            },
            "text/plain": "StatementMeta(synasp1, 4, 17, Finished, Available)"
          },
          "metadata": {}
        },
        {
          "output_type": "stream",
          "name": "stdout",
          "text": ""
        }
      ],
      "metadata": {
        "jupyter": {
          "source_hidden": false,
          "outputs_hidden": false
        },
        "nteract": {
          "transient": {
            "deleting": false
          }
        },
        "microsoft": {
          "language": "python"
        },
        "collapsed": true
      },
      "source": [
        "%%pyspark\r\n",
        "\r\n",
        "from pyspark.sql.functions import to_date, to_timestamp, col, date_format, current_timestamp\r\n",
        "df_final = (CheckByTPI_capture_df.withColumn('loadDate', date_format(current_timestamp(), 'M/d/y H:m:s a'))\r\n",
        "                                 .withColumn(\"load_date\", to_timestamp(col(\"loadDate\"),\"M/d/y H:m:s a\")).drop(\"loadDate\")\r\n",
        ")"
      ]
    },
    {
      "cell_type": "code",
      "execution_count": 24,
      "outputs": [
        {
          "output_type": "display_data",
          "data": {
            "application/vnd.livy.statement-meta+json": {
              "spark_pool": "synasp1",
              "session_id": 4,
              "statement_id": 18,
              "state": "finished",
              "livy_statement_state": "available",
              "queued_time": "2021-06-03T03:13:06.8881948Z",
              "execution_start_time": "2021-06-03T03:13:17.0462247Z",
              "execution_finish_time": "2021-06-03T03:13:19.128124Z"
            },
            "text/plain": "StatementMeta(synasp1, 4, 18, Finished, Available)"
          },
          "metadata": {}
        },
        {
          "output_type": "display_data",
          "data": {
            "text/plain": "root\n |-- usage_class: string (nullable = true)\n |-- checkout_type: string (nullable = true)\n |-- material_type: string (nullable = true)\n |-- checkout_year: integer (nullable = true)\n |-- checkout_month: integer (nullable = true)\n |-- checkouts: integer (nullable = true)\n |-- title: string (nullable = true)\n |-- creator: string (nullable = true)\n |-- subjects: string (nullable = true)\n |-- publisher: string (nullable = true)\n |-- publication_year: string (nullable = true)\n |-- load_date: timestamp (nullable = true)\n\n"
          },
          "metadata": {}
        },
        {
          "output_type": "display_data",
          "data": {
            "application/vnd.synapse.widget-view+json": {
              "widget_id": "007c0bd4-e630-4de0-b403-0f264277753f",
              "widget_type": "Synapse.DataFrame"
            },
            "text/plain": "SynapseWidget(Synapse.DataFrame, 007c0bd4-e630-4de0-b403-0f264277753f)"
          },
          "metadata": {}
        },
        {
          "output_type": "execute_result",
          "data": {},
          "execution_count": 24,
          "metadata": {}
        }
      ],
      "metadata": {
        "jupyter": {
          "source_hidden": false,
          "outputs_hidden": false
        },
        "nteract": {
          "transient": {
            "deleting": false
          }
        },
        "microsoft": {
          "language": "python"
        },
        "collapsed": false
      },
      "source": [
        "%%pyspark\n",
        "\n",
        "# Show Schema\n",
        "df_final.printSchema()\n",
        "\n",
        "display(df_final.limit(10))\n",
        ""
      ]
    },
    {
      "cell_type": "code",
      "execution_count": 25,
      "outputs": [
        {
          "output_type": "display_data",
          "data": {
            "application/vnd.livy.statement-meta+json": {
              "spark_pool": "synasp1",
              "session_id": 4,
              "statement_id": 19,
              "state": "finished",
              "livy_statement_state": "available",
              "queued_time": "2021-06-03T03:13:06.9366567Z",
              "execution_start_time": "2021-06-03T03:13:19.2366393Z",
              "execution_finish_time": "2021-06-03T03:13:21.2972672Z"
            },
            "text/plain": "StatementMeta(synasp1, 4, 19, Finished, Available)"
          },
          "metadata": {}
        },
        {
          "output_type": "stream",
          "name": "stdout",
          "text": "Primary storage account path: abfss://compose@spkaccelerjqvse6bhhchxi.dfs.core.windows.net/SeattlePublicLibrary/CheckoutsByTitle/"
        }
      ],
      "metadata": {
        "jupyter": {
          "source_hidden": false,
          "outputs_hidden": false
        },
        "nteract": {
          "transient": {
            "deleting": false
          }
        },
        "microsoft": {
          "language": "python"
        },
        "collapsed": true
      },
      "source": [
        "%%pyspark\n",
        "\n",
        "from pyspark.sql import SparkSession\n",
        "from pyspark.sql.types import *\n",
        "\n",
        "# Primary storage info\n",
        "compose_account_name = 'spkaccelerjqvse6bhhchxi' # fill in your primary account name\n",
        "compose_container_name = 'compose' # fill in your container name\n",
        "compose_relative_path = 'SeattlePublicLibrary/CheckoutsByTitle/' # fill in your relative folder path\n",
        "\n",
        "compose_adls_path = 'abfss://%s@%s.dfs.core.windows.net/%s' % (compose_container_name, compose_account_name, compose_relative_path)\n",
        "print('Primary storage account path: ' + compose_adls_path)"
      ]
    },
    {
      "cell_type": "code",
      "execution_count": 26,
      "outputs": [
        {
          "output_type": "display_data",
          "data": {
            "application/vnd.livy.statement-meta+json": {
              "spark_pool": "synasp1",
              "session_id": 4,
              "statement_id": 20,
              "state": "finished",
              "livy_statement_state": "available",
              "queued_time": "2021-06-03T03:13:06.9813776Z",
              "execution_start_time": "2021-06-03T03:13:21.4080662Z",
              "execution_finish_time": "2021-06-03T03:13:23.4612232Z"
            },
            "text/plain": "StatementMeta(synasp1, 4, 20, Finished, Available)"
          },
          "metadata": {}
        },
        {
          "output_type": "stream",
          "name": "stdout",
          "text": "parquet file path: abfss://compose@spkaccelerjqvse6bhhchxi.dfs.core.windows.net/SeattlePublicLibrary/CheckoutsByTitle/checkouts.parquet"
        }
      ],
      "metadata": {
        "jupyter": {
          "source_hidden": false,
          "outputs_hidden": false
        },
        "nteract": {
          "transient": {
            "deleting": false
          }
        },
        "microsoft": {
          "language": "python"
        },
        "collapsed": true
      },
      "source": [
        "%%pyspark\n",
        "\n",
        "compose_parquet_path = compose_adls_path + 'checkouts.parquet'\n",
        "\n",
        "print('parquet file path: ' + compose_parquet_path)"
      ]
    },
    {
      "cell_type": "code",
      "execution_count": 27,
      "outputs": [
        {
          "output_type": "display_data",
          "data": {
            "application/vnd.livy.statement-meta+json": {
              "spark_pool": "synasp1",
              "session_id": 4,
              "statement_id": 21,
              "state": "finished",
              "livy_statement_state": "available",
              "queued_time": "2021-06-03T03:13:07.0408205Z",
              "execution_start_time": "2021-06-03T03:13:23.5658379Z",
              "execution_finish_time": "2021-06-03T03:14:31.7377922Z"
            },
            "text/plain": "StatementMeta(synasp1, 4, 21, Finished, Available)"
          },
          "metadata": {}
        },
        {
          "output_type": "stream",
          "name": "stdout",
          "text": ""
        }
      ],
      "metadata": {
        "jupyter": {
          "source_hidden": false,
          "outputs_hidden": false
        },
        "nteract": {
          "transient": {
            "deleting": false
          }
        },
        "microsoft": {
          "language": "python"
        },
        "collapsed": true
      },
      "source": [
        "%%pyspark\n",
        "\n",
        "df_final.write.parquet(compose_parquet_path, mode = 'overwrite')"
      ]
    },
    {
      "cell_type": "code",
      "execution_count": 28,
      "outputs": [
        {
          "output_type": "display_data",
          "data": {
            "application/vnd.livy.statement-meta+json": {
              "spark_pool": "synasp1",
              "session_id": 4,
              "statement_id": 22,
              "state": "finished",
              "livy_statement_state": "available",
              "queued_time": "2021-06-03T03:13:07.0788614Z",
              "execution_start_time": "2021-06-03T03:14:31.8505413Z",
              "execution_finish_time": "2021-06-03T03:14:33.9107004Z"
            },
            "text/plain": "StatementMeta(synasp1, 4, 22, Finished, Available)"
          },
          "metadata": {}
        },
        {
          "output_type": "execute_result",
          "data": {
            "application/vnd.synapse.sparksql-result+json": {
              "schema": {
                "type": "struct",
                "fields": []
              },
              "data": []
            },
            "text/plain": "<Spark SQL result set with 0 rows and 0 fields>"
          },
          "execution_count": 28,
          "metadata": {}
        }
      ],
      "metadata": {
        "jupyter": {
          "source_hidden": false,
          "outputs_hidden": false
        },
        "nteract": {
          "transient": {
            "deleting": false
          }
        },
        "microsoft": {
          "language": "sparksql"
        },
        "collapsed": false
      },
      "source": [
        "%%sql\n",
        "\n",
        "-- Create database SeattlePublicLibrary only if database with same name does not exist\n",
        "CREATE DATABASE IF NOT EXISTS SeattlePublicLibrary"
      ]
    },
    {
      "cell_type": "code",
      "execution_count": 29,
      "outputs": [
        {
          "output_type": "display_data",
          "data": {
            "application/vnd.livy.statement-meta+json": {
              "spark_pool": "synasp1",
              "session_id": 4,
              "statement_id": 23,
              "state": "finished",
              "livy_statement_state": "available",
              "queued_time": "2021-06-03T03:13:07.1396304Z",
              "execution_start_time": "2021-06-03T03:14:34.009974Z",
              "execution_finish_time": "2021-06-03T03:14:36.0707614Z"
            },
            "text/plain": "StatementMeta(synasp1, 4, 23, Finished, Available)"
          },
          "metadata": {}
        },
        {
          "output_type": "execute_result",
          "data": {
            "application/vnd.synapse.sparksql-result+json": {
              "schema": {
                "type": "struct",
                "fields": []
              },
              "data": []
            },
            "text/plain": "<Spark SQL result set with 0 rows and 0 fields>"
          },
          "execution_count": 29,
          "metadata": {}
        }
      ],
      "metadata": {
        "jupyter": {
          "source_hidden": false,
          "outputs_hidden": false
        },
        "nteract": {
          "transient": {
            "deleting": false
          }
        },
        "microsoft": {
          "language": "sparksql"
        },
        "collapsed": false
      },
      "source": [
        "%%sql\n",
        "\n",
        "-- Create table CheckoutsByTitlePhysicalItemsschemafinal only if table with same name does not exist\n",
        "CREATE TABLE IF NOT EXISTS SeattlePublicLibrary.checkouts_by_title\n",
        "(usage_class STRING\n",
        ",checkout_type STRING\n",
        ",material_type STRING\n",
        ",checkout_year INT\n",
        ",checkout_month INT\n",
        ",checkouts INT\n",
        ",title STRING\n",
        ",creator STRING\n",
        ",subjects STRING\n",
        ",publisher STRING\n",
        ",publication_year STRING\n",
        ",load_date TIMESTAMP\n",
        ")\n",
        "USING PARQUET OPTIONS (path 'abfss://compose@spkaccelerjqvse6bhhchxi.dfs.core.windows.net/SeattlePublicLibrary/CheckoutsByTitle/checkouts.parquet')"
      ]
    }
  ],
  "metadata": {
    "save_output": true,
    "kernelspec": {
      "name": "synapse_pyspark",
      "display_name": "Synapse PySpark"
    },
    "language_info": {
      "name": "python"
    },
    "synapse_widget": {
      "version": "0.1",
      "state": {
        "50f60c8d-c66e-41a5-8d2a-690157f3fb2e": {
          "type": "Synapse.DataFrame",
          "sync_state": {
            "table": {
              "rows": [
                {
                  "Subjects": "Mentally ill Drama, Feature films, Video recordings for the hearing impaired",
                  "Title": "The snake pit [videorecording] / Twentieth Century Fox ; Darryl F. Zanuck presents ; produced by Anatole Litvak and Robert Bassler ; screenplay by Frank Partos and Millen Brand ; directed by Anatole Litvak.",
                  "CheckoutMonth": "5",
                  "Checkouts": "6",
                  "CheckoutYear": "2014",
                  "UsageClass": "Physical",
                  "PublicationYear": "[2004]",
                  "MaterialType": "VIDEODISC",
                  "CheckoutType": "Horizon",
                  "Publisher": "20th Century Fox Home Entertainment,"
                },
                {
                  "Subjects": "Fiction, Suspense",
                  "Title": "Tonight I Said Goodbye: Lincoln Perry Series, Book 1 (unabridged) (Unabridged)",
                  "CheckoutMonth": "5",
                  "Checkouts": "1",
                  "CheckoutYear": "2014",
                  "Creator": "Michael Koryta",
                  "UsageClass": "Digital",
                  "PublicationYear": "2011",
                  "MaterialType": "AUDIOBOOK",
                  "CheckoutType": "OverDrive",
                  "Publisher": "Blackstone Audio, Inc."
                },
                {
                  "Subjects": "Superheroes Fiction, Monkeys Fiction, Pets Fiction, Gorilla Fiction, Chimpanzees Fiction",
                  "Title": "Midway monkey madness",
                  "CheckoutMonth": "5",
                  "Checkouts": "2",
                  "CheckoutYear": "2014",
                  "UsageClass": "Physical",
                  "MaterialType": "BOOK",
                  "CheckoutType": "Horizon"
                },
                {
                  "Subjects": "Business, Nonfiction",
                  "Title": "The Everything Guide to Starting and Running a Retail Store: All you need to get started and succeed in your own retail adventure",
                  "CheckoutMonth": "5",
                  "Checkouts": "1",
                  "CheckoutYear": "2014",
                  "Creator": "Dan  Ramsey",
                  "UsageClass": "Digital",
                  "PublicationYear": "2011",
                  "MaterialType": "EBOOK",
                  "CheckoutType": "OverDrive",
                  "Publisher": "F+W Media, Inc."
                },
                {
                  "Subjects": "Life change events Psychological aspects, Adjustment Psychology, Barnes Amy, Beck Lindsay, Weiland Patrick 1980, Van Deren Diane, CLifford Ron, Quimby Roxanne",
                  "Title": "Ten years later : six people who faced adversity and transformed their lives / Hoda Kotb with Jane Lorenzini.",
                  "CheckoutMonth": "5",
                  "Checkouts": "1",
                  "CheckoutYear": "2014",
                  "Creator": "Kotb, Hoda, 1964-",
                  "UsageClass": "Physical",
                  "PublicationYear": "2013.",
                  "MaterialType": "BOOK",
                  "CheckoutType": "Horizon",
                  "Publisher": "Simon & Schuster,"
                },
                {
                  "Subjects": "Cookies Juvenile fiction, Spanish language materials",
                  "Title": "Llaman a la puerta [sound recording] = The doorbell rang / by Pat Hutchins.",
                  "CheckoutMonth": "5",
                  "Checkouts": "1",
                  "CheckoutYear": "2014",
                  "Creator": "Hutchins, Pat, 1942-",
                  "UsageClass": "Physical",
                  "PublicationYear": "p1996.",
                  "MaterialType": "SOUNDDISC",
                  "CheckoutType": "Horizon",
                  "Publisher": "Live Oak Media,"
                },
                {
                  "Subjects": "Country music 1991 2000",
                  "Title": "Public cowboy #1 [sound recording] : a centennial salute to the music of Gene Autry / Riders in the Sky.",
                  "CheckoutMonth": "5",
                  "Checkouts": "1",
                  "CheckoutYear": "2014",
                  "Creator": "Riders in the Sky",
                  "UsageClass": "Physical",
                  "PublicationYear": "p2007.",
                  "MaterialType": "SOUNDDISC",
                  "CheckoutType": "Horizon",
                  "Publisher": "Rounder Records,"
                },
                {
                  "Subjects": "Fiction, Historical Fiction",
                  "Title": "The Wedding Gift (Unabridged)",
                  "CheckoutMonth": "5",
                  "Checkouts": "1",
                  "CheckoutYear": "2014",
                  "Creator": "Marlen Suyapa Bodden",
                  "UsageClass": "Digital",
                  "PublicationYear": "2013",
                  "MaterialType": "AUDIOBOOK",
                  "CheckoutType": "OverDrive",
                  "Publisher": "Macmillan Audio"
                },
                {
                  "Subjects": "Ballet dancers Juvenile fiction, Ballet dancing Juvenile fiction, Princes Juvenile fiction, Stories in rhyme Juvenile fiction",
                  "Title": "Miss Lina's ballerinas and the prince / by Grace Maccarone ; illustrated by Christine Davenier.",
                  "CheckoutMonth": "5",
                  "Checkouts": "11",
                  "CheckoutYear": "2014",
                  "Creator": "Maccarone, Grace",
                  "UsageClass": "Physical",
                  "PublicationYear": "2011.",
                  "MaterialType": "BOOK",
                  "CheckoutType": "Horizon",
                  "Publisher": "Feiwel and Friends,"
                },
                {
                  "Subjects": "Folklore Soviet Union, Folk literature Soviet Union",
                  "Title": "Russian folklore : an anthology in English translation / by Alex E. Alexander ; foreword by William E. Harkins.",
                  "CheckoutMonth": "5",
                  "Checkouts": "1",
                  "CheckoutYear": "2014",
                  "UsageClass": "Physical",
                  "PublicationYear": "[1975]",
                  "MaterialType": "BOOK",
                  "CheckoutType": "Horizon",
                  "Publisher": "Nordland Pub. Co.,"
                }
              ],
              "schema": {
                "UsageClass": "string",
                "CheckoutType": "string",
                "MaterialType": "string",
                "CheckoutYear": "string",
                "CheckoutMonth": "string",
                "Checkouts": "string",
                "Title": "string",
                "Creator": "string",
                "Subjects": "string",
                "Publisher": "string",
                "PublicationYear": "string"
              }
            },
            "isSummary": false,
            "language": "scala"
          },
          "persist_state": {
            "view": {
              "type": "details",
              "tableOptions": {},
              "chartOptions": {
                "chartType": "bar",
                "aggregationType": "count",
                "categoryFieldKeys": [
                  "UsageClass"
                ],
                "seriesFieldKeys": [
                  "UsageClass"
                ],
                "isStacked": false
              }
            }
          }
        },
        "68fd3507-9899-4747-85a4-92b0500ae640": {
          "type": "Synapse.DataFrame",
          "sync_state": {
            "table": {
              "rows": [
                {
                  "checkouts": 6,
                  "subjects": "Mentally ill Drama, Feature films, Video recordings for the hearing impaired",
                  "checkout_type": "Horizon",
                  "checkout_month": 5,
                  "checkout_year": 2014,
                  "usage_class": "Physical",
                  "publisher": "20th Century Fox Home Entertainment,",
                  "material_type": "VIDEODISC",
                  "title": "The snake pit [videorecording] / Twentieth Century Fox ; Darryl F. Zanuck presents ; produced by Anatole Litvak and Robert Bassler ; screenplay by Frank Partos and Millen Brand ; directed by Anatole Litvak.",
                  "publication_year": "[2004]"
                },
                {
                  "checkouts": 1,
                  "subjects": "Fiction, Suspense",
                  "checkout_type": "OverDrive",
                  "checkout_month": 5,
                  "creator": "Michael Koryta",
                  "checkout_year": 2014,
                  "usage_class": "Digital",
                  "publisher": "Blackstone Audio, Inc.",
                  "material_type": "AUDIOBOOK",
                  "title": "Tonight I Said Goodbye: Lincoln Perry Series, Book 1 (unabridged) (Unabridged)",
                  "publication_year": "2011"
                },
                {
                  "checkouts": 2,
                  "subjects": "Superheroes Fiction, Monkeys Fiction, Pets Fiction, Gorilla Fiction, Chimpanzees Fiction",
                  "checkout_type": "Horizon",
                  "checkout_month": 5,
                  "checkout_year": 2014,
                  "usage_class": "Physical",
                  "material_type": "BOOK",
                  "title": "Midway monkey madness"
                },
                {
                  "checkouts": 1,
                  "subjects": "Business, Nonfiction",
                  "checkout_type": "OverDrive",
                  "checkout_month": 5,
                  "creator": "Dan  Ramsey",
                  "checkout_year": 2014,
                  "usage_class": "Digital",
                  "publisher": "F+W Media, Inc.",
                  "material_type": "EBOOK",
                  "title": "The Everything Guide to Starting and Running a Retail Store: All you need to get started and succeed in your own retail adventure",
                  "publication_year": "2011"
                },
                {
                  "checkouts": 1,
                  "subjects": "Life change events Psychological aspects, Adjustment Psychology, Barnes Amy, Beck Lindsay, Weiland Patrick 1980, Van Deren Diane, CLifford Ron, Quimby Roxanne",
                  "checkout_type": "Horizon",
                  "checkout_month": 5,
                  "creator": "Kotb, Hoda, 1964-",
                  "checkout_year": 2014,
                  "usage_class": "Physical",
                  "publisher": "Simon & Schuster,",
                  "material_type": "BOOK",
                  "title": "Ten years later : six people who faced adversity and transformed their lives / Hoda Kotb with Jane Lorenzini.",
                  "publication_year": "2013."
                },
                {
                  "checkouts": 1,
                  "subjects": "Cookies Juvenile fiction, Spanish language materials",
                  "checkout_type": "Horizon",
                  "checkout_month": 5,
                  "creator": "Hutchins, Pat, 1942-",
                  "checkout_year": 2014,
                  "usage_class": "Physical",
                  "publisher": "Live Oak Media,",
                  "material_type": "SOUNDDISC",
                  "title": "Llaman a la puerta [sound recording] = The doorbell rang / by Pat Hutchins.",
                  "publication_year": "p1996."
                },
                {
                  "checkouts": 1,
                  "subjects": "Country music 1991 2000",
                  "checkout_type": "Horizon",
                  "checkout_month": 5,
                  "creator": "Riders in the Sky",
                  "checkout_year": 2014,
                  "usage_class": "Physical",
                  "publisher": "Rounder Records,",
                  "material_type": "SOUNDDISC",
                  "title": "Public cowboy #1 [sound recording] : a centennial salute to the music of Gene Autry / Riders in the Sky.",
                  "publication_year": "p2007."
                },
                {
                  "checkouts": 1,
                  "subjects": "Fiction, Historical Fiction",
                  "checkout_type": "OverDrive",
                  "checkout_month": 5,
                  "creator": "Marlen Suyapa Bodden",
                  "checkout_year": 2014,
                  "usage_class": "Digital",
                  "publisher": "Macmillan Audio",
                  "material_type": "AUDIOBOOK",
                  "title": "The Wedding Gift (Unabridged)",
                  "publication_year": "2013"
                },
                {
                  "checkouts": 11,
                  "subjects": "Ballet dancers Juvenile fiction, Ballet dancing Juvenile fiction, Princes Juvenile fiction, Stories in rhyme Juvenile fiction",
                  "checkout_type": "Horizon",
                  "checkout_month": 5,
                  "creator": "Maccarone, Grace",
                  "checkout_year": 2014,
                  "usage_class": "Physical",
                  "publisher": "Feiwel and Friends,",
                  "material_type": "BOOK",
                  "title": "Miss Lina's ballerinas and the prince / by Grace Maccarone ; illustrated by Christine Davenier.",
                  "publication_year": "2011."
                },
                {
                  "checkouts": 1,
                  "subjects": "Folklore Soviet Union, Folk literature Soviet Union",
                  "checkout_type": "Horizon",
                  "checkout_month": 5,
                  "checkout_year": 2014,
                  "usage_class": "Physical",
                  "publisher": "Nordland Pub. Co.,",
                  "material_type": "BOOK",
                  "title": "Russian folklore : an anthology in English translation / by Alex E. Alexander ; foreword by William E. Harkins.",
                  "publication_year": "[1975]"
                }
              ],
              "schema": {
                "usage_class": "string",
                "checkout_type": "string",
                "material_type": "string",
                "checkout_year": "int",
                "checkout_month": "int",
                "checkouts": "int",
                "title": "string",
                "creator": "string",
                "subjects": "string",
                "publisher": "string",
                "publication_year": "string"
              }
            },
            "isSummary": false,
            "language": "scala"
          },
          "persist_state": {
            "view": {
              "type": "details",
              "tableOptions": {},
              "chartOptions": {
                "chartType": "bar",
                "aggregationType": "sum",
                "categoryFieldKeys": [
                  "usage_class"
                ],
                "seriesFieldKeys": [
                  "checkout_year"
                ],
                "isStacked": false
              }
            }
          }
        },
        "007c0bd4-e630-4de0-b403-0f264277753f": {
          "type": "Synapse.DataFrame",
          "sync_state": {
            "table": {
              "rows": [
                {
                  "load_date": "2021-06-03T02:44:51Z",
                  "checkouts": 6,
                  "subjects": "Mentally ill Drama, Feature films, Video recordings for the hearing impaired",
                  "checkout_type": "Horizon",
                  "checkout_month": 5,
                  "checkout_year": 2014,
                  "usage_class": "Physical",
                  "publisher": "20th Century Fox Home Entertainment,",
                  "material_type": "VIDEODISC",
                  "title": "The snake pit [videorecording] / Twentieth Century Fox ; Darryl F. Zanuck presents ; produced by Anatole Litvak and Robert Bassler ; screenplay by Frank Partos and Millen Brand ; directed by Anatole Litvak.",
                  "publication_year": "[2004]"
                },
                {
                  "load_date": "2021-06-03T02:44:51Z",
                  "checkouts": 1,
                  "subjects": "Fiction, Suspense",
                  "checkout_type": "OverDrive",
                  "checkout_month": 5,
                  "creator": "Michael Koryta",
                  "checkout_year": 2014,
                  "usage_class": "Digital",
                  "publisher": "Blackstone Audio, Inc.",
                  "material_type": "AUDIOBOOK",
                  "title": "Tonight I Said Goodbye: Lincoln Perry Series, Book 1 (unabridged) (Unabridged)",
                  "publication_year": "2011"
                },
                {
                  "load_date": "2021-06-03T02:44:51Z",
                  "checkouts": 2,
                  "subjects": "Superheroes Fiction, Monkeys Fiction, Pets Fiction, Gorilla Fiction, Chimpanzees Fiction",
                  "checkout_type": "Horizon",
                  "checkout_month": 5,
                  "checkout_year": 2014,
                  "usage_class": "Physical",
                  "material_type": "BOOK",
                  "title": "Midway monkey madness"
                },
                {
                  "load_date": "2021-06-03T02:44:51Z",
                  "checkouts": 1,
                  "subjects": "Business, Nonfiction",
                  "checkout_type": "OverDrive",
                  "checkout_month": 5,
                  "creator": "Dan  Ramsey",
                  "checkout_year": 2014,
                  "usage_class": "Digital",
                  "publisher": "F+W Media, Inc.",
                  "material_type": "EBOOK",
                  "title": "The Everything Guide to Starting and Running a Retail Store: All you need to get started and succeed in your own retail adventure",
                  "publication_year": "2011"
                },
                {
                  "load_date": "2021-06-03T02:44:51Z",
                  "checkouts": 1,
                  "subjects": "Life change events Psychological aspects, Adjustment Psychology, Barnes Amy, Beck Lindsay, Weiland Patrick 1980, Van Deren Diane, CLifford Ron, Quimby Roxanne",
                  "checkout_type": "Horizon",
                  "checkout_month": 5,
                  "creator": "Kotb, Hoda, 1964-",
                  "checkout_year": 2014,
                  "usage_class": "Physical",
                  "publisher": "Simon & Schuster,",
                  "material_type": "BOOK",
                  "title": "Ten years later : six people who faced adversity and transformed their lives / Hoda Kotb with Jane Lorenzini.",
                  "publication_year": "2013."
                },
                {
                  "load_date": "2021-06-03T02:44:51Z",
                  "checkouts": 1,
                  "subjects": "Cookies Juvenile fiction, Spanish language materials",
                  "checkout_type": "Horizon",
                  "checkout_month": 5,
                  "creator": "Hutchins, Pat, 1942-",
                  "checkout_year": 2014,
                  "usage_class": "Physical",
                  "publisher": "Live Oak Media,",
                  "material_type": "SOUNDDISC",
                  "title": "Llaman a la puerta [sound recording] = The doorbell rang / by Pat Hutchins.",
                  "publication_year": "p1996."
                },
                {
                  "load_date": "2021-06-03T02:44:51Z",
                  "checkouts": 1,
                  "subjects": "Country music 1991 2000",
                  "checkout_type": "Horizon",
                  "checkout_month": 5,
                  "creator": "Riders in the Sky",
                  "checkout_year": 2014,
                  "usage_class": "Physical",
                  "publisher": "Rounder Records,",
                  "material_type": "SOUNDDISC",
                  "title": "Public cowboy #1 [sound recording] : a centennial salute to the music of Gene Autry / Riders in the Sky.",
                  "publication_year": "p2007."
                },
                {
                  "load_date": "2021-06-03T02:44:51Z",
                  "checkouts": 1,
                  "subjects": "Fiction, Historical Fiction",
                  "checkout_type": "OverDrive",
                  "checkout_month": 5,
                  "creator": "Marlen Suyapa Bodden",
                  "checkout_year": 2014,
                  "usage_class": "Digital",
                  "publisher": "Macmillan Audio",
                  "material_type": "AUDIOBOOK",
                  "title": "The Wedding Gift (Unabridged)",
                  "publication_year": "2013"
                },
                {
                  "load_date": "2021-06-03T02:44:51Z",
                  "checkouts": 11,
                  "subjects": "Ballet dancers Juvenile fiction, Ballet dancing Juvenile fiction, Princes Juvenile fiction, Stories in rhyme Juvenile fiction",
                  "checkout_type": "Horizon",
                  "checkout_month": 5,
                  "creator": "Maccarone, Grace",
                  "checkout_year": 2014,
                  "usage_class": "Physical",
                  "publisher": "Feiwel and Friends,",
                  "material_type": "BOOK",
                  "title": "Miss Lina's ballerinas and the prince / by Grace Maccarone ; illustrated by Christine Davenier.",
                  "publication_year": "2011."
                },
                {
                  "load_date": "2021-06-03T02:44:51Z",
                  "checkouts": 1,
                  "subjects": "Folklore Soviet Union, Folk literature Soviet Union",
                  "checkout_type": "Horizon",
                  "checkout_month": 5,
                  "checkout_year": 2014,
                  "usage_class": "Physical",
                  "publisher": "Nordland Pub. Co.,",
                  "material_type": "BOOK",
                  "title": "Russian folklore : an anthology in English translation / by Alex E. Alexander ; foreword by William E. Harkins.",
                  "publication_year": "[1975]"
                }
              ],
              "schema": {
                "usage_class": "string",
                "checkout_type": "string",
                "material_type": "string",
                "checkout_year": "int",
                "checkout_month": "int",
                "checkouts": "int",
                "title": "string",
                "creator": "string",
                "subjects": "string",
                "publisher": "string",
                "publication_year": "string",
                "load_date": "int"
              }
            },
            "isSummary": false,
            "language": "scala"
          },
          "persist_state": {
            "view": {
              "type": "details",
              "tableOptions": {},
              "chartOptions": {
                "chartType": "bar",
                "aggregationType": "sum",
                "categoryFieldKeys": [
                  "usage_class"
                ],
                "seriesFieldKeys": [
                  "checkout_year"
                ],
                "isStacked": false
              }
            }
          }
        }
      }
    }
  }
}