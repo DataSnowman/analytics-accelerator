{
  "nbformat": 4,
  "nbformat_minor": 2,
  "metadata": {
    "kernelspec": {
      "name": "synapse_pyspark",
      "display_name": "Synapse PySpark"
    },
    "language_info": {
      "name": "python"
    },
    "save_output": true,
    "synapse_widget": {
      "version": "0.1",
      "state": {
        "186aadd0-62df-4df3-97d6-0f278686b59e": {
          "type": "Synapse.DataFrame",
          "sync_state": {
            "table": {
              "rows": [
                {
                  "ID": "200608141724000010042364132",
                  "Subjects": "Feature films",
                  "Collection": "navid",
                  "CheckoutYear": "2006",
                  "CallNumber": "VHS FRENCH",
                  "BibNumber": "2021802",
                  "CheckoutDateTime": "08/14/2006 05:24:00 PM",
                  "ItemBarcode": "0010042364132",
                  "ItemType": "acvhs",
                  "ItemTitle": "French lieutenants woman"
                },
                {
                  "ID": "200607221142000010043073609",
                  "Subjects": "Video recordings for the hearing impaired, Feature films, Spy films, Spies Drama, Tailors Drama, Panama Canal Panama Drama",
                  "Collection": "navid",
                  "CheckoutYear": "2006",
                  "CallNumber": "VHS TAILOR",
                  "BibNumber": "2075616",
                  "CheckoutDateTime": "07/22/2006 11:42:00 AM",
                  "ItemBarcode": "0010043073609",
                  "ItemType": "acvhs",
                  "ItemTitle": "tailor of Panama"
                },
                {
                  "ID": "200607251442000010037541777",
                  "Subjects": "Mice Fiction, Mice Juvenile fiction",
                  "Collection": "ncfic",
                  "CheckoutYear": "2006",
                  "CallNumber": "J CLEARY",
                  "BibNumber": "265304",
                  "CheckoutDateTime": "07/25/2006 02:42:00 PM",
                  "ItemBarcode": "0010037541777",
                  "ItemType": "jcbk",
                  "ItemTitle": "Ralph S Mouse"
                },
                {
                  "ID": "200609121426000010034907294",
                  "Subjects": "Cookery Rice, Cookery International",
                  "Collection": "nanf",
                  "CheckoutYear": "2006",
                  "CallNumber": "641.6318 ALFORD 1998",
                  "BibNumber": "1830006",
                  "CheckoutDateTime": "09/12/2006 02:26:00 PM",
                  "ItemBarcode": "0010034907294",
                  "ItemType": "acbk",
                  "ItemTitle": "Seductions of rice a cookbook"
                },
                {
                  "ID": "200612221507000010045429460",
                  "Collection": "nanf",
                  "CheckoutYear": "2006",
                  "CallNumber": "741.5973 WATTERS 1996",
                  "BibNumber": "1674240",
                  "CheckoutDateTime": "12/22/2006 03:07:00 PM",
                  "ItemBarcode": "0010045429460",
                  "ItemType": "acbk",
                  "ItemTitle": "Theres treasure everywhere a Calvin and Hobbes collection"
                },
                {
                  "ID": "200612041746000010053983689",
                  "Subjects": "Love stories, Abandoned children Fiction, Pediatricians Fiction",
                  "Collection": "nafic",
                  "CheckoutYear": "2006",
                  "CallNumber": "FIC EVANOVI2006",
                  "BibNumber": "2383175",
                  "CheckoutDateTime": "12/04/2006 05:46:00 PM",
                  "ItemBarcode": "0010053983689",
                  "ItemType": "acbk",
                  "ItemTitle": "Thanksgiving"
                },
                {
                  "ID": "200612071606000010034977164",
                  "Subjects": "Avengers Television program, New avengers Television program",
                  "Collection": "canf",
                  "CheckoutYear": "2006",
                  "CallNumber": "791.4572 AVENGER ROGERS 1989",
                  "BibNumber": "1809105",
                  "CheckoutDateTime": "12/07/2006 04:06:00 PM",
                  "ItemBarcode": "0010034977164",
                  "ItemType": "acbk",
                  "ItemTitle": "complete Avengers everything you ever wanted to know about The Avengers and The New avengers"
                },
                {
                  "ID": "200601031731000010015663965",
                  "Subjects": "American poetry, Winter Poetry",
                  "Collection": "ncnf",
                  "CheckoutYear": "2006",
                  "CallNumber": "J811.52 FROST",
                  "BibNumber": "117642",
                  "CheckoutDateTime": "01/03/2006 05:31:00 PM",
                  "ItemBarcode": "0010015663965",
                  "ItemType": "jcbk",
                  "ItemTitle": "Stopping by woods on a snowy evening"
                },
                {
                  "ID": "200611301500000010053711007",
                  "Subjects": "Family Drama, Video recordings for the hearing impaired, Feature films, Babies Drama",
                  "Collection": "nadvd",
                  "CheckoutYear": "2006",
                  "CallNumber": "DVD STEWIE",
                  "BibNumber": "2320117",
                  "CheckoutDateTime": "11/30/2006 03:00:00 PM",
                  "ItemBarcode": "0010053711007",
                  "ItemType": "acdvd",
                  "ItemTitle": "Stewie Griffin the untold story"
                },
                {
                  "ID": "200608121247000010052908430",
                  "Subjects": "Fantasy fiction, Mystery fiction, Time travel Fiction, Books and reading Fiction, Libraries Fiction, Women detectives Great Britain Fiction, Characters and characteristics in literature Fiction, Next Thursday Fictitious character Fiction",
                  "Collection": "nabocd",
                  "CheckoutYear": "2006",
                  "CallNumber": "CD MYSTERY FFORDE",
                  "BibNumber": "2260000",
                  "CheckoutDateTime": "08/12/2006 12:47:00 PM",
                  "ItemBarcode": "0010052908430",
                  "ItemType": "accd",
                  "ItemTitle": "well of lost plots a Thursday Next novel"
                }
              ],
              "schema": {
                "ID": "string",
                "CheckoutYear": "string",
                "BibNumber": "string",
                "ItemBarcode": "string",
                "ItemType": "string",
                "Collection": "string",
                "CallNumber": "string",
                "ItemTitle": "string",
                "Subjects": "string",
                "CheckoutDateTime": "string"
              }
            },
            "isSummary": false,
            "language": "scala"
          },
          "persist_state": {
            "view": {
              "type": "details",
              "tableOptions": {},
              "chartOptions": {
                "chartType": "bar",
                "aggregationType": "count",
                "categoryFieldKeys": [
                  "ID"
                ],
                "seriesFieldKeys": [
                  "ID"
                ],
                "isStacked": false
              }
            }
          }
        },
        "44c01599-a957-4c76-9068-e6917ecf0b59": {
          "type": "Synapse.DataFrame",
          "sync_state": {
            "table": {
              "rows": [
                {
                  "item_title": "French lieutenants woman",
                  "collection": "navid",
                  "subjects": "Feature films",
                  "item_barcode": "0010042364132",
                  "checkout_year": 2006,
                  "id": "200608141724000010042364132",
                  "bib_number": 2021802,
                  "CheckoutDateTime": "08/14/2006 05:24:00 PM",
                  "call_number": "VHS FRENCH",
                  "item_type": "acvhs"
                },
                {
                  "item_title": "tailor of Panama",
                  "collection": "navid",
                  "subjects": "Video recordings for the hearing impaired, Feature films, Spy films, Spies Drama, Tailors Drama, Panama Canal Panama Drama",
                  "item_barcode": "0010043073609",
                  "checkout_year": 2006,
                  "id": "200607221142000010043073609",
                  "bib_number": 2075616,
                  "CheckoutDateTime": "07/22/2006 11:42:00 AM",
                  "call_number": "VHS TAILOR",
                  "item_type": "acvhs"
                },
                {
                  "item_title": "Ralph S Mouse",
                  "collection": "ncfic",
                  "subjects": "Mice Fiction, Mice Juvenile fiction",
                  "item_barcode": "0010037541777",
                  "checkout_year": 2006,
                  "id": "200607251442000010037541777",
                  "bib_number": 265304,
                  "CheckoutDateTime": "07/25/2006 02:42:00 PM",
                  "call_number": "J CLEARY",
                  "item_type": "jcbk"
                },
                {
                  "item_title": "Seductions of rice a cookbook",
                  "collection": "nanf",
                  "subjects": "Cookery Rice, Cookery International",
                  "item_barcode": "0010034907294",
                  "checkout_year": 2006,
                  "id": "200609121426000010034907294",
                  "bib_number": 1830006,
                  "CheckoutDateTime": "09/12/2006 02:26:00 PM",
                  "call_number": "641.6318 ALFORD 1998",
                  "item_type": "acbk"
                },
                {
                  "item_title": "Theres treasure everywhere a Calvin and Hobbes collection",
                  "collection": "nanf",
                  "item_barcode": "0010045429460",
                  "checkout_year": 2006,
                  "id": "200612221507000010045429460",
                  "bib_number": 1674240,
                  "CheckoutDateTime": "12/22/2006 03:07:00 PM",
                  "call_number": "741.5973 WATTERS 1996",
                  "item_type": "acbk"
                },
                {
                  "item_title": "Thanksgiving",
                  "collection": "nafic",
                  "subjects": "Love stories, Abandoned children Fiction, Pediatricians Fiction",
                  "item_barcode": "0010053983689",
                  "checkout_year": 2006,
                  "id": "200612041746000010053983689",
                  "bib_number": 2383175,
                  "CheckoutDateTime": "12/04/2006 05:46:00 PM",
                  "call_number": "FIC EVANOVI2006",
                  "item_type": "acbk"
                },
                {
                  "item_title": "complete Avengers everything you ever wanted to know about The Avengers and The New avengers",
                  "collection": "canf",
                  "subjects": "Avengers Television program, New avengers Television program",
                  "item_barcode": "0010034977164",
                  "checkout_year": 2006,
                  "id": "200612071606000010034977164",
                  "bib_number": 1809105,
                  "CheckoutDateTime": "12/07/2006 04:06:00 PM",
                  "call_number": "791.4572 AVENGER ROGERS 1989",
                  "item_type": "acbk"
                },
                {
                  "item_title": "Stopping by woods on a snowy evening",
                  "collection": "ncnf",
                  "subjects": "American poetry, Winter Poetry",
                  "item_barcode": "0010015663965",
                  "checkout_year": 2006,
                  "id": "200601031731000010015663965",
                  "bib_number": 117642,
                  "CheckoutDateTime": "01/03/2006 05:31:00 PM",
                  "call_number": "J811.52 FROST",
                  "item_type": "jcbk"
                },
                {
                  "item_title": "Stewie Griffin the untold story",
                  "collection": "nadvd",
                  "subjects": "Family Drama, Video recordings for the hearing impaired, Feature films, Babies Drama",
                  "item_barcode": "0010053711007",
                  "checkout_year": 2006,
                  "id": "200611301500000010053711007",
                  "bib_number": 2320117,
                  "CheckoutDateTime": "11/30/2006 03:00:00 PM",
                  "call_number": "DVD STEWIE",
                  "item_type": "acdvd"
                },
                {
                  "item_title": "well of lost plots a Thursday Next novel",
                  "collection": "nabocd",
                  "subjects": "Fantasy fiction, Mystery fiction, Time travel Fiction, Books and reading Fiction, Libraries Fiction, Women detectives Great Britain Fiction, Characters and characteristics in literature Fiction, Next Thursday Fictitious character Fiction",
                  "item_barcode": "0010052908430",
                  "checkout_year": 2006,
                  "id": "200608121247000010052908430",
                  "bib_number": 2260000,
                  "CheckoutDateTime": "08/12/2006 12:47:00 PM",
                  "call_number": "CD MYSTERY FFORDE",
                  "item_type": "accd"
                }
              ],
              "schema": {
                "id": "string",
                "checkout_year": "int",
                "bib_number": "int",
                "item_barcode": "string",
                "item_type": "string",
                "collection": "string",
                "call_number": "string",
                "item_title": "string",
                "subjects": "string",
                "CheckoutDateTime": "string"
              }
            },
            "isSummary": false,
            "language": "scala"
          },
          "persist_state": {
            "view": {
              "type": "details",
              "tableOptions": {},
              "chartOptions": {
                "chartType": "bar",
                "aggregationType": "sum",
                "categoryFieldKeys": [
                  "id"
                ],
                "seriesFieldKeys": [
                  "checkout_year"
                ],
                "isStacked": false
              }
            }
          }
        },
        "2509ed5b-8af2-42e4-97fb-f47c549b223f": {
          "type": "Synapse.DataFrame",
          "sync_state": {
            "table": {
              "rows": [
                {
                  "load_date": "2021-06-03T02:35:36Z",
                  "item_title": "From rags to riches people who started businesses from scratch",
                  "collection": "ncnf",
                  "subjects": "Businesspeople, Business enterprises, Success in business United States Case studies Juvenile literature",
                  "checkout_date_time": "2007-04-03T15:59:00Z",
                  "item_barcode": "0010020942503",
                  "checkout_year": 2007,
                  "id": "200704031559000010020942503",
                  "bib_number": 557102,
                  "call_number": "J650.10922 AASENG",
                  "item_type": "jcbk"
                },
                {
                  "load_date": "2021-06-03T02:35:36Z",
                  "item_title": "Lost a novel",
                  "collection": "canew",
                  "subjects": "Mystery fiction, Psychological fiction, Amnesia Fiction, London England Fiction, Police England London Fiction, Missing children Fiction, Recovered memory Fiction, Boys Crimes against Fiction",
                  "checkout_date_time": "2007-10-20T12:56:00Z",
                  "item_barcode": "0010052365037",
                  "checkout_year": 2007,
                  "id": "200710201256000010052365037",
                  "bib_number": 2324184,
                  "call_number": "FIC ROBOTHA2006",
                  "item_type": "acbk"
                },
                {
                  "load_date": "2021-06-03T02:35:36Z",
                  "item_title": "Little fish",
                  "collection": "nadvd",
                  "subjects": "Brothers and sisters Drama, Video recordings for the hearing impaired, Feature films, Criminal behavior Drama, Thrillers Motion pictures television etc, Career development Drama",
                  "checkout_date_time": "2007-03-22T11:47:00Z",
                  "item_barcode": "0010055632953",
                  "checkout_year": 2007,
                  "id": "200703221147000010055632953",
                  "bib_number": 2352686,
                  "call_number": "DVD LITTLE",
                  "item_type": "acdvd"
                },
                {
                  "load_date": "2021-06-03T02:35:36Z",
                  "item_title": "Doctored evidence",
                  "collection": "nabocd",
                  "subjects": "Mystery fiction, Venice Italy Fiction, Brunetti Guido Fictitious character Fiction, Police Italy Venice Fiction, Single women Crimes against Fiction, Romanians Italy Fiction",
                  "checkout_date_time": "2007-05-29T15:54:00Z",
                  "item_barcode": "0010049878274",
                  "checkout_year": 2007,
                  "id": "200705291554000010049878274",
                  "bib_number": 2267674,
                  "call_number": "CD MYSTERY LEON",
                  "item_type": "accd"
                },
                {
                  "load_date": "2021-06-03T02:35:36Z",
                  "item_title": "illustrated band",
                  "collection": "cacd",
                  "subjects": "Funk Music, Popular music 2001 2010, Rock music 2001 2010",
                  "checkout_date_time": "2007-05-12T14:01:00Z",
                  "item_barcode": "0010049077463",
                  "checkout_year": 2007,
                  "id": "200705121401000010049077463",
                  "bib_number": 2221770,
                  "call_number": "CD 782.42166 V6671i",
                  "item_type": "accd"
                },
                {
                  "load_date": "2021-06-03T02:35:36Z",
                  "item_title": "Essential guitar 33 guitar masterpieces",
                  "collection": "nacd",
                  "subjects": "Guitar music Guitars 2, Guitar with orchestra, Guitar music, Suites Guitar Arranged, Concertos Guitar, Concertos Guitar Violins 2 Arranged",
                  "checkout_date_time": "2007-11-13T13:45:00Z",
                  "item_barcode": "0010045907192",
                  "checkout_year": 2007,
                  "id": "200711131345000010045907192",
                  "bib_number": 2151543,
                  "call_number": "CD 787.87 Es743 D7047",
                  "item_type": "accd"
                },
                {
                  "load_date": "2021-06-03T02:35:36Z",
                  "item_title": "Apartment living stylish decorating ideas for apartments lofts and duplexes",
                  "collection": "nanf",
                  "subjects": "Interior decoration, Apartments, Lofts Decoration",
                  "checkout_date_time": "2007-12-26T15:56:00Z",
                  "item_barcode": "0010059533694",
                  "checkout_year": 2007,
                  "id": "200712261556000010059533694",
                  "bib_number": 2465480,
                  "call_number": "747.88314 C6134A 2007",
                  "item_type": "acbk"
                },
                {
                  "load_date": "2021-06-03T02:35:36Z",
                  "item_title": "Searching for Oliver K Woodman",
                  "collection": "ncpic",
                  "subjects": "Letters Fiction, Dolls Fiction, Postcards Fiction, Travel Fiction, Missing persons Fiction",
                  "checkout_date_time": "2007-03-21T17:01:00Z",
                  "item_barcode": "0010050462877",
                  "checkout_year": 2007,
                  "id": "200703211701000010050462877",
                  "bib_number": 2281906,
                  "call_number": "E PATTISO",
                  "item_type": "jcbk"
                },
                {
                  "load_date": "2021-06-03T02:35:36Z",
                  "item_title": "Ecuador an Andean enigma",
                  "collection": "canf",
                  "subjects": "Ecuador Politics and government 1944 1984, Ecuador Politics and government 1984, Military government Ecuador History 20th century, Ecuador Economic conditions 1972",
                  "checkout_date_time": "2007-01-21T16:52:00Z",
                  "item_barcode": "0010006938699",
                  "checkout_year": 2007,
                  "id": "200701211652000010006938699",
                  "bib_number": 480285,
                  "call_number": "986.6074 Sch61E",
                  "item_type": "acbk"
                },
                {
                  "load_date": "2021-06-03T02:35:36Z",
                  "item_title": "Fools die",
                  "collection": "nabocd",
                  "subjects": "Didactic fiction, Suspense fiction, Avarice Fiction, Prostitution Fiction, Gambling United States Fiction",
                  "checkout_date_time": "2007-07-25T12:50:00Z",
                  "item_barcode": "0010051266095",
                  "checkout_year": 2007,
                  "id": "200707251250000010051266095",
                  "bib_number": 2288011,
                  "call_number": "CD FIC PUZO",
                  "item_type": "accd"
                }
              ],
              "schema": {
                "id": "string",
                "checkout_year": "int",
                "bib_number": "int",
                "item_barcode": "string",
                "item_type": "string",
                "collection": "string",
                "call_number": "string",
                "item_title": "string",
                "subjects": "string",
                "checkout_date_time": "int",
                "load_date": "int"
              }
            },
            "isSummary": false,
            "language": "scala"
          },
          "persist_state": {
            "view": {
              "type": "details",
              "tableOptions": {},
              "chartOptions": {
                "chartType": "bar",
                "aggregationType": "sum",
                "categoryFieldKeys": [
                  "id"
                ],
                "seriesFieldKeys": [
                  "checkout_year"
                ],
                "isStacked": false
              }
            }
          }
        }
      }
    }
  },
  "cells": [
    {
      "cell_type": "code",
      "execution_count": 34,
      "outputs": [
        {
          "output_type": "display_data",
          "data": {
            "application/vnd.livy.statement-meta+json": {
              "spark_pool": "synasp1",
              "session_id": 3,
              "statement_id": 34,
              "state": "finished",
              "livy_statement_state": "available",
              "queued_time": "2021-06-03T03:12:56.7543907Z",
              "execution_start_time": "2021-06-03T03:12:56.8786706Z",
              "execution_finish_time": "2021-06-03T03:12:58.9377939Z"
            },
            "text/plain": "StatementMeta(synasp1, 3, 34, Finished, Available)"
          },
          "metadata": {}
        },
        {
          "output_type": "display_data",
          "data": {
            "application/vnd.synapse.widget-view+json": {
              "widget_id": "186aadd0-62df-4df3-97d6-0f278686b59e",
              "widget_type": "Synapse.DataFrame"
            },
            "text/plain": "SynapseWidget(Synapse.DataFrame, 186aadd0-62df-4df3-97d6-0f278686b59e)"
          },
          "metadata": {}
        },
        {
          "output_type": "execute_result",
          "data": {},
          "execution_count": 34,
          "metadata": {}
        }
      ],
      "metadata": {
        "microsoft": {
          "language": "python"
        },
        "collapsed": false
      },
      "source": [
        "%%pyspark\n",
        "\n",
        "df = spark.read.load('abfss://capture@spkaccelerjqvse6bhhchxi.dfs.core.windows.net/SeattlePublicLibrary/Checkouts_By_Title__Physical_Items_.csv', format='csv'\n",
        "## If header exists uncomment line below\n",
        ", header=True\n",
        ")\n",
        "display(df.limit(10))"
      ]
    },
    {
      "cell_type": "code",
      "execution_count": 35,
      "outputs": [
        {
          "output_type": "display_data",
          "data": {
            "application/vnd.livy.statement-meta+json": {
              "spark_pool": "synasp1",
              "session_id": 3,
              "statement_id": 35,
              "state": "finished",
              "livy_statement_state": "available",
              "queued_time": "2021-06-03T03:12:56.8926339Z",
              "execution_start_time": "2021-06-03T03:12:59.0452748Z",
              "execution_finish_time": "2021-06-03T03:13:01.1230474Z"
            },
            "text/plain": "StatementMeta(synasp1, 3, 35, Finished, Available)"
          },
          "metadata": {}
        },
        {
          "output_type": "stream",
          "name": "stdout",
          "text": "root\n |-- ID: string (nullable = true)\n |-- CheckoutYear: string (nullable = true)\n |-- BibNumber: string (nullable = true)\n |-- ItemBarcode: string (nullable = true)\n |-- ItemType: string (nullable = true)\n |-- Collection: string (nullable = true)\n |-- CallNumber: string (nullable = true)\n |-- ItemTitle: string (nullable = true)\n |-- Subjects: string (nullable = true)\n |-- CheckoutDateTime: string (nullable = true)"
        }
      ],
      "metadata": {
        "jupyter": {
          "source_hidden": false,
          "outputs_hidden": false
        },
        "nteract": {
          "transient": {
            "deleting": false
          }
        },
        "microsoft": {
          "language": "python"
        },
        "collapsed": true
      },
      "source": [
        "%%pyspark\r\n",
        "\r\n",
        "# Show Schema\r\n",
        "df.printSchema()"
      ]
    },
    {
      "cell_type": "code",
      "execution_count": 36,
      "outputs": [
        {
          "output_type": "display_data",
          "data": {
            "application/vnd.livy.statement-meta+json": {
              "spark_pool": "synasp1",
              "session_id": 3,
              "statement_id": 36,
              "state": "finished",
              "livy_statement_state": "available",
              "queued_time": "2021-06-03T03:12:57.0002513Z",
              "execution_start_time": "2021-06-03T03:13:01.220831Z",
              "execution_finish_time": "2021-06-03T03:13:03.2913123Z"
            },
            "text/plain": "StatementMeta(synasp1, 3, 36, Finished, Available)"
          },
          "metadata": {}
        },
        {
          "output_type": "stream",
          "name": "stdout",
          "text": "Primary storage account path: abfss://capture@spkaccelerjqvse6bhhchxi.dfs.core.windows.net/SeattlePublicLibrary/Checkouts_By_Title__Physical_Items_.csv"
        }
      ],
      "metadata": {
        "jupyter": {
          "source_hidden": false,
          "outputs_hidden": false
        },
        "nteract": {
          "transient": {
            "deleting": false
          }
        },
        "microsoft": {
          "language": "python"
        },
        "collapsed": true
      },
      "source": [
        "%%pyspark\n",
        "\n",
        "from pyspark.sql import SparkSession\n",
        "from pyspark.sql.types import *\n",
        "\n",
        "# Primary storage info\n",
        "capture_account_name = 'spkaccelerjqvse6bhhchxi' # fill in your primary account name\n",
        "capture_container_name = 'capture' # fill in your container name\n",
        "capture_relative_path = 'SeattlePublicLibrary/Checkouts_By_Title__Physical_Items_.csv' # fill in your relative folder path\n",
        "\n",
        "capture_adls_path = 'abfss://%s@%s.dfs.core.windows.net/%s' % (capture_container_name, capture_account_name, capture_relative_path)\n",
        "print('Primary storage account path: ' + capture_adls_path)"
      ]
    },
    {
      "cell_type": "code",
      "execution_count": 37,
      "outputs": [
        {
          "output_type": "display_data",
          "data": {
            "application/vnd.livy.statement-meta+json": {
              "spark_pool": "synasp1",
              "session_id": 3,
              "statement_id": 37,
              "state": "finished",
              "livy_statement_state": "available",
              "queued_time": "2021-06-03T03:12:57.0513095Z",
              "execution_start_time": "2021-06-03T03:13:03.409099Z",
              "execution_finish_time": "2021-06-03T03:13:05.4609238Z"
            },
            "text/plain": "StatementMeta(synasp1, 3, 37, Finished, Available)"
          },
          "metadata": {}
        },
        {
          "output_type": "display_data",
          "data": {
            "application/vnd.synapse.widget-view+json": {
              "widget_id": "44c01599-a957-4c76-9068-e6917ecf0b59",
              "widget_type": "Synapse.DataFrame"
            },
            "text/plain": "SynapseWidget(Synapse.DataFrame, 44c01599-a957-4c76-9068-e6917ecf0b59)"
          },
          "metadata": {}
        },
        {
          "output_type": "execute_result",
          "data": {},
          "execution_count": 37,
          "metadata": {}
        }
      ],
      "metadata": {
        "jupyter": {
          "source_hidden": false,
          "outputs_hidden": false
        },
        "nteract": {
          "transient": {
            "deleting": false
          }
        },
        "microsoft": {
          "language": "python"
        },
        "collapsed": false
      },
      "source": [
        "%%pyspark\r\n",
        "\r\n",
        "from pyspark.sql.types import StructType, StructField, IntegerType, StringType, DoubleType, DateType, TimestampType\r\n",
        "csvSchema = StructType([\r\n",
        "  StructField('id', StringType(), True), \r\n",
        "  StructField('checkout_year', IntegerType(), True),\r\n",
        "  StructField('bib_number', IntegerType(), True),  \r\n",
        "  StructField('item_barcode', StringType(), True),\r\n",
        "  StructField('item_type', StringType(), True),\r\n",
        "  StructField('collection', StringType(), True),\r\n",
        "  StructField('call_number', StringType(), True),\r\n",
        "  StructField('item_title', StringType(), True),\r\n",
        "  StructField('subjects', StringType(), True),\r\n",
        "  StructField('CheckoutDateTime', StringType(), True)      \r\n",
        "])\r\n",
        "\r\n",
        "CheckByTPI_capture_df = spark.read.format('csv').option('header', 'True').schema(csvSchema).load(capture_adls_path)\r\n",
        "\r\n",
        "display(CheckByTPI_capture_df.limit(10))\r\n",
        "\r\n",
        ""
      ]
    },
    {
      "cell_type": "code",
      "execution_count": 38,
      "outputs": [
        {
          "output_type": "display_data",
          "data": {
            "application/vnd.livy.statement-meta+json": {
              "spark_pool": "synasp1",
              "session_id": 3,
              "statement_id": 38,
              "state": "finished",
              "livy_statement_state": "available",
              "queued_time": "2021-06-03T03:12:57.1208253Z",
              "execution_start_time": "2021-06-03T03:13:05.5628874Z",
              "execution_finish_time": "2021-06-03T03:13:07.647365Z"
            },
            "text/plain": "StatementMeta(synasp1, 3, 38, Finished, Available)"
          },
          "metadata": {}
        },
        {
          "output_type": "stream",
          "name": "stdout",
          "text": ""
        }
      ],
      "metadata": {
        "jupyter": {
          "source_hidden": false,
          "outputs_hidden": false
        },
        "nteract": {
          "transient": {
            "deleting": false
          }
        },
        "microsoft": {
          "language": "python"
        },
        "collapsed": true
      },
      "source": [
        "%%pyspark\r\n",
        "\r\n",
        "from pyspark.sql.functions import to_date, to_timestamp, col, date_format, current_timestamp\r\n",
        "df_final = (CheckByTPI_capture_df.withColumn(\"checkout_date_time\", to_timestamp(col(\"CheckoutDateTime\"),\"M/d/yyyy h:m:s a\")).drop(\"CheckoutDateTime\")\r\n",
        "                                 .withColumn('loadDate', date_format(current_timestamp(), 'M/d/y H:m:s a'))\r\n",
        "                                 .withColumn(\"load_date\", to_timestamp(col(\"loadDate\"),\"M/d/y H:m:s a\")).drop(\"loadDate\")\r\n",
        ") "
      ]
    },
    {
      "cell_type": "code",
      "execution_count": 39,
      "outputs": [
        {
          "output_type": "display_data",
          "data": {
            "application/vnd.livy.statement-meta+json": {
              "spark_pool": "synasp1",
              "session_id": 3,
              "statement_id": 39,
              "state": "finished",
              "livy_statement_state": "available",
              "queued_time": "2021-06-03T03:12:57.1684383Z",
              "execution_start_time": "2021-06-03T03:13:07.75448Z",
              "execution_finish_time": "2021-06-03T03:13:09.8320635Z"
            },
            "text/plain": "StatementMeta(synasp1, 3, 39, Finished, Available)"
          },
          "metadata": {}
        },
        {
          "output_type": "display_data",
          "data": {
            "text/plain": "root\n |-- id: string (nullable = true)\n |-- checkout_year: integer (nullable = true)\n |-- bib_number: integer (nullable = true)\n |-- item_barcode: string (nullable = true)\n |-- item_type: string (nullable = true)\n |-- collection: string (nullable = true)\n |-- call_number: string (nullable = true)\n |-- item_title: string (nullable = true)\n |-- subjects: string (nullable = true)\n |-- checkout_date_time: timestamp (nullable = true)\n |-- load_date: timestamp (nullable = true)\n\n"
          },
          "metadata": {}
        },
        {
          "output_type": "display_data",
          "data": {
            "application/vnd.synapse.widget-view+json": {
              "widget_id": "2509ed5b-8af2-42e4-97fb-f47c549b223f",
              "widget_type": "Synapse.DataFrame"
            },
            "text/plain": "SynapseWidget(Synapse.DataFrame, 2509ed5b-8af2-42e4-97fb-f47c549b223f)"
          },
          "metadata": {}
        },
        {
          "output_type": "execute_result",
          "data": {},
          "execution_count": 39,
          "metadata": {}
        }
      ],
      "metadata": {
        "jupyter": {
          "source_hidden": false,
          "outputs_hidden": false
        },
        "nteract": {
          "transient": {
            "deleting": false
          }
        },
        "microsoft": {
          "language": "python"
        },
        "collapsed": false
      },
      "source": [
        "%%pyspark\n",
        "\n",
        "# Show Schema\n",
        "df_final.printSchema()\n",
        "\n",
        "display(df_final.limit(10))\n",
        ""
      ]
    },
    {
      "cell_type": "code",
      "execution_count": 40,
      "outputs": [
        {
          "output_type": "display_data",
          "data": {
            "application/vnd.livy.statement-meta+json": {
              "spark_pool": "synasp1",
              "session_id": 3,
              "statement_id": 40,
              "state": "finished",
              "livy_statement_state": "available",
              "queued_time": "2021-06-03T03:12:57.2306192Z",
              "execution_start_time": "2021-06-03T03:13:09.9432485Z",
              "execution_finish_time": "2021-06-03T03:13:12.00142Z"
            },
            "text/plain": "StatementMeta(synasp1, 3, 40, Finished, Available)"
          },
          "metadata": {}
        },
        {
          "output_type": "stream",
          "name": "stdout",
          "text": "Primary storage account path: abfss://compose@spkaccelerjqvse6bhhchxi.dfs.core.windows.net/SeattlePublicLibrary/CheckoutsByTitlePhysicalItems/"
        }
      ],
      "metadata": {
        "jupyter": {
          "source_hidden": false,
          "outputs_hidden": false
        },
        "nteract": {
          "transient": {
            "deleting": false
          }
        },
        "microsoft": {
          "language": "python"
        },
        "collapsed": true
      },
      "source": [
        "%%pyspark\n",
        "\n",
        "from pyspark.sql import SparkSession\n",
        "from pyspark.sql.types import *\n",
        "\n",
        "# Primary storage info\n",
        "compose_account_name = 'spkaccelerjqvse6bhhchxi' # fill in your primary account name\n",
        "compose_container_name = 'compose' # fill in your container name\n",
        "compose_relative_path = 'SeattlePublicLibrary/CheckoutsByTitlePhysicalItems/' # fill in your relative folder path\n",
        "\n",
        "compose_adls_path = 'abfss://%s@%s.dfs.core.windows.net/%s' % (compose_container_name, compose_account_name, compose_relative_path)\n",
        "print('Primary storage account path: ' + compose_adls_path)"
      ]
    },
    {
      "cell_type": "code",
      "execution_count": 41,
      "outputs": [
        {
          "output_type": "display_data",
          "data": {
            "application/vnd.livy.statement-meta+json": {
              "spark_pool": "synasp1",
              "session_id": 3,
              "statement_id": 41,
              "state": "finished",
              "livy_statement_state": "available",
              "queued_time": "2021-06-03T03:12:57.270501Z",
              "execution_start_time": "2021-06-03T03:13:12.096844Z",
              "execution_finish_time": "2021-06-03T03:13:12.0968484Z"
            },
            "text/plain": "StatementMeta(synasp1, 3, 41, Finished, Available)"
          },
          "metadata": {}
        },
        {
          "output_type": "stream",
          "name": "stdout",
          "text": "parquet file path: abfss://compose@spkaccelerjqvse6bhhchxi.dfs.core.windows.net/SeattlePublicLibrary/CheckoutsByTitlePhysicalItems/checkouts.parquet"
        }
      ],
      "metadata": {
        "jupyter": {
          "source_hidden": false,
          "outputs_hidden": false
        },
        "nteract": {
          "transient": {
            "deleting": false
          }
        },
        "microsoft": {
          "language": "python"
        },
        "collapsed": true
      },
      "source": [
        "%%pyspark\n",
        "\n",
        "compose_parquet_path = compose_adls_path + 'checkouts.parquet'\n",
        "\n",
        "print('parquet file path: ' + compose_parquet_path)"
      ]
    },
    {
      "cell_type": "code",
      "execution_count": 42,
      "outputs": [
        {
          "output_type": "display_data",
          "data": {
            "application/vnd.livy.statement-meta+json": {
              "spark_pool": "synasp1",
              "session_id": 3,
              "statement_id": 42,
              "state": "finished",
              "livy_statement_state": "available",
              "queued_time": "2021-06-03T03:12:57.3187009Z",
              "execution_start_time": "2021-06-03T03:13:12.2127023Z",
              "execution_finish_time": "2021-06-03T03:16:34.4094794Z"
            },
            "text/plain": "StatementMeta(synasp1, 3, 42, Finished, Available)"
          },
          "metadata": {}
        },
        {
          "output_type": "stream",
          "name": "stdout",
          "text": ""
        }
      ],
      "metadata": {
        "jupyter": {
          "source_hidden": false,
          "outputs_hidden": false
        },
        "nteract": {
          "transient": {
            "deleting": false
          }
        },
        "microsoft": {
          "language": "python"
        },
        "collapsed": true
      },
      "source": [
        "%%pyspark\n",
        "\n",
        "df_final.write.parquet(compose_parquet_path, mode = 'overwrite')"
      ]
    },
    {
      "cell_type": "code",
      "execution_count": 43,
      "outputs": [
        {
          "output_type": "display_data",
          "data": {
            "application/vnd.livy.statement-meta+json": {
              "spark_pool": "synasp1",
              "session_id": 3,
              "statement_id": 43,
              "state": "finished",
              "livy_statement_state": "available",
              "queued_time": "2021-06-03T03:12:57.3565548Z",
              "execution_start_time": "2021-06-03T03:16:34.5286601Z",
              "execution_finish_time": "2021-06-03T03:16:36.597965Z"
            },
            "text/plain": "StatementMeta(synasp1, 3, 43, Finished, Available)"
          },
          "metadata": {}
        },
        {
          "output_type": "execute_result",
          "data": {
            "application/vnd.synapse.sparksql-result+json": {
              "schema": {
                "type": "struct",
                "fields": []
              },
              "data": []
            },
            "text/plain": "<Spark SQL result set with 0 rows and 0 fields>"
          },
          "execution_count": 43,
          "metadata": {}
        }
      ],
      "metadata": {
        "jupyter": {
          "source_hidden": false,
          "outputs_hidden": false
        },
        "nteract": {
          "transient": {
            "deleting": false
          }
        },
        "microsoft": {
          "language": "sparksql"
        },
        "collapsed": false
      },
      "source": [
        "%%sql\n",
        "\n",
        "-- Create database SeattlePublicLibrary only if database with same name does not exist\n",
        "CREATE DATABASE IF NOT EXISTS SeattlePublicLibrary"
      ]
    },
    {
      "cell_type": "code",
      "execution_count": 44,
      "outputs": [
        {
          "output_type": "display_data",
          "data": {
            "application/vnd.livy.statement-meta+json": {
              "spark_pool": "synasp1",
              "session_id": 3,
              "statement_id": 44,
              "state": "finished",
              "livy_statement_state": "available",
              "queued_time": "2021-06-03T03:12:57.4244958Z",
              "execution_start_time": "2021-06-03T03:16:36.6971108Z",
              "execution_finish_time": "2021-06-03T03:16:38.7542912Z"
            },
            "text/plain": "StatementMeta(synasp1, 3, 44, Finished, Available)"
          },
          "metadata": {}
        },
        {
          "output_type": "execute_result",
          "data": {
            "application/vnd.synapse.sparksql-result+json": {
              "schema": {
                "type": "struct",
                "fields": []
              },
              "data": []
            },
            "text/plain": "<Spark SQL result set with 0 rows and 0 fields>"
          },
          "execution_count": 44,
          "metadata": {}
        }
      ],
      "metadata": {
        "jupyter": {
          "source_hidden": false,
          "outputs_hidden": false
        },
        "nteract": {
          "transient": {
            "deleting": false
          }
        },
        "microsoft": {
          "language": "sparksql"
        },
        "collapsed": false
      },
      "source": [
        "%%sql\n",
        "\n",
        "-- Create table CheckoutsByTitlePhysicalItemsschemafinal only if table with same name does not exist\n",
        "CREATE TABLE IF NOT EXISTS SeattlePublicLibrary.checkouts_by_title_physical_items\n",
        "(id STRING\n",
        ",checkout_year INT\n",
        ",bib_number INT\n",
        ",item_barcode STRING\n",
        ",item_type STRING\n",
        ",collection STRING\n",
        ",call_number STRING\n",
        ",item_title STRING\n",
        ",subjects STRING\n",
        ",checkout_date_time TIMESTAMP\n",
        ",load_date TIMESTAMP\n",
        ")\n",
        "USING PARQUET OPTIONS (path 'abfss://compose@spkaccelerjqvse6bhhchxi.dfs.core.windows.net/SeattlePublicLibrary/CheckoutsByTitlePhysicalItems/checkouts.parquet')"
      ]
    }
  ]
}