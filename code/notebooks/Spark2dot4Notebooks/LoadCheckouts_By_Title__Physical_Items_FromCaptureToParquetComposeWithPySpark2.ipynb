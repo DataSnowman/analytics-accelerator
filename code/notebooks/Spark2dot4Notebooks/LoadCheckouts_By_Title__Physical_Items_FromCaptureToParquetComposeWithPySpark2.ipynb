{
  "nbformat": 4,
  "nbformat_minor": 2,
  "cells": [
    {
      "cell_type": "code",
      "execution_count": 2,
      "outputs": [],
      "metadata": {
        "microsoft": {
          "language": "python"
        },
        "collapsed": false
      },
      "source": [
        "%%pyspark\n",
        "\n",
        "df = spark.read.load('abfss://capture@splacceler5lmevhdeon4ym.dfs.core.windows.net/SeattlePublicLibrary/Checkouts_By_Title__Physical_Items_.csv', format='csv'\n",
        "## If header exists uncomment line below\n",
        ", header=True\n",
        ")\n",
        "display(df.limit(10))"
      ]
    },
    {
      "cell_type": "code",
      "execution_count": 3,
      "outputs": [],
      "metadata": {
        "jupyter": {
          "source_hidden": false,
          "outputs_hidden": false
        },
        "nteract": {
          "transient": {
            "deleting": false
          }
        },
        "microsoft": {
          "language": "python"
        },
        "collapsed": true
      },
      "source": [
        "%%pyspark\r\n",
        "\r\n",
        "# Show Schema\r\n",
        "df.printSchema()"
      ]
    },
    {
      "cell_type": "code",
      "execution_count": 4,
      "outputs": [],
      "metadata": {
        "jupyter": {
          "source_hidden": false,
          "outputs_hidden": false
        },
        "nteract": {
          "transient": {
            "deleting": false
          }
        },
        "microsoft": {
          "language": "python"
        },
        "collapsed": true
      },
      "source": [
        "%%pyspark\n",
        "\n",
        "from pyspark.sql import SparkSession\n",
        "from pyspark.sql.types import *\n",
        "\n",
        "# Primary storage info\n",
        "capture_account_name = 'splacceler5lmevhdeon4ym' # fill in your primary account name\n",
        "capture_container_name = 'capture' # fill in your container name\n",
        "capture_relative_path = 'SeattlePublicLibrary/Checkouts_By_Title__Physical_Items_.csv' # fill in your relative folder path\n",
        "\n",
        "capture_adls_path = 'abfss://%s@%s.dfs.core.windows.net/%s' % (capture_container_name, capture_account_name, capture_relative_path)\n",
        "print('Primary storage account path: ' + capture_adls_path)"
      ]
    },
    {
      "cell_type": "code",
      "execution_count": 5,
      "outputs": [],
      "metadata": {
        "jupyter": {
          "source_hidden": false,
          "outputs_hidden": false
        },
        "nteract": {
          "transient": {
            "deleting": false
          }
        },
        "microsoft": {
          "language": "python"
        },
        "collapsed": false
      },
      "source": [
        "%%pyspark\r\n",
        "\r\n",
        "from pyspark.sql.types import StructType, StructField, IntegerType, StringType, DoubleType, DateType, TimestampType\r\n",
        "csvSchema = StructType([\r\n",
        "  StructField('id', StringType(), True), \r\n",
        "  StructField('checkout_year', IntegerType(), True),\r\n",
        "  StructField('bib_number', IntegerType(), True),  \r\n",
        "  StructField('item_barcode', StringType(), True),\r\n",
        "  StructField('item_type', StringType(), True),\r\n",
        "  StructField('collection', StringType(), True),\r\n",
        "  StructField('call_number', StringType(), True),\r\n",
        "  StructField('item_title', StringType(), True),\r\n",
        "  StructField('subjects', StringType(), True),\r\n",
        "  StructField('CheckoutDateTime', StringType(), True)      \r\n",
        "])\r\n",
        "\r\n",
        "CheckByTPI_capture_df = spark.read.format('csv').option('header', 'True').schema(csvSchema).load(capture_adls_path)\r\n",
        "\r\n",
        "display(CheckByTPI_capture_df.limit(10))\r\n",
        "\r\n",
        ""
      ]
    },
    {
      "cell_type": "code",
      "execution_count": 21,
      "outputs": [],
      "metadata": {
        "jupyter": {
          "source_hidden": false,
          "outputs_hidden": false
        },
        "nteract": {
          "transient": {
            "deleting": false
          }
        },
        "microsoft": {
          "language": "python"
        },
        "collapsed": true
      },
      "source": [
        "%%pyspark\r\n",
        "\r\n",
        "from pyspark.sql.functions import to_date, to_timestamp, col, date_format, current_timestamp\r\n",
        "df_final = (CheckByTPI_capture_df.withColumn(\"checkout_date_time\", to_timestamp(col(\"CheckoutDateTime\"),\"mm/dd/yyyy hh:mm:ss aa\")).drop(\"CheckoutDateTime\")\r\n",
        "                                 .withColumn('loadDate', date_format(current_timestamp(), 'MM/dd/yyyy hh:mm:ss aa'))\r\n",
        "                                 .withColumn(\"load_date\", to_timestamp(col(\"loadDate\"),\"MM/dd/yyyy hh:mm:ss aa\")).drop(\"loadDate\")\r\n",
        ") "
      ]
    },
    {
      "cell_type": "code",
      "execution_count": 22,
      "outputs": [],
      "metadata": {
        "jupyter": {
          "source_hidden": false,
          "outputs_hidden": false
        },
        "nteract": {
          "transient": {
            "deleting": false
          }
        },
        "microsoft": {
          "language": "python"
        },
        "collapsed": false
      },
      "source": [
        "%%pyspark\n",
        "\n",
        "# Show Schema\n",
        "df_final.printSchema()\n",
        "\n",
        "display(df_final.limit(10))\n",
        ""
      ]
    },
    {
      "cell_type": "code",
      "execution_count": 9,
      "outputs": [],
      "metadata": {
        "jupyter": {
          "source_hidden": false,
          "outputs_hidden": false
        },
        "nteract": {
          "transient": {
            "deleting": false
          }
        },
        "microsoft": {
          "language": "python"
        },
        "collapsed": true
      },
      "source": [
        "%%pyspark\n",
        "\n",
        "from pyspark.sql import SparkSession\n",
        "from pyspark.sql.types import *\n",
        "\n",
        "# Primary storage info\n",
        "compose_account_name = 'splacceler5lmevhdeon4ym' # fill in your primary account name\n",
        "compose_container_name = 'compose' # fill in your container name\n",
        "compose_relative_path = 'SeattlePublicLibrary/CheckoutsByTitlePhysicalItems/' # fill in your relative folder path\n",
        "\n",
        "compose_adls_path = 'abfss://%s@%s.dfs.core.windows.net/%s' % (compose_container_name, compose_account_name, compose_relative_path)\n",
        "print('Primary storage account path: ' + compose_adls_path)"
      ]
    },
    {
      "cell_type": "code",
      "execution_count": 10,
      "outputs": [],
      "metadata": {
        "jupyter": {
          "source_hidden": false,
          "outputs_hidden": false
        },
        "nteract": {
          "transient": {
            "deleting": false
          }
        },
        "microsoft": {
          "language": "python"
        },
        "collapsed": true
      },
      "source": [
        "%%pyspark\n",
        "\n",
        "compose_parquet_path = compose_adls_path + 'checkouts.parquet'\n",
        "\n",
        "print('parquet file path: ' + compose_parquet_path)"
      ]
    },
    {
      "cell_type": "code",
      "execution_count": 11,
      "outputs": [],
      "metadata": {
        "jupyter": {
          "source_hidden": false,
          "outputs_hidden": false
        },
        "nteract": {
          "transient": {
            "deleting": false
          }
        },
        "microsoft": {
          "language": "python"
        },
        "collapsed": true
      },
      "source": [
        "%%pyspark\n",
        "\n",
        "df_final.write.parquet(compose_parquet_path, mode = 'overwrite')"
      ]
    },
    {
      "cell_type": "code",
      "execution_count": 48,
      "outputs": [],
      "metadata": {
        "jupyter": {
          "source_hidden": false,
          "outputs_hidden": false
        },
        "nteract": {
          "transient": {
            "deleting": false
          }
        },
        "microsoft": {
          "language": "sparksql"
        },
        "collapsed": false
      },
      "source": [
        "%%sql\n",
        "\n",
        "-- Create database SeattlePublicLibrary only if database with same name does not exist\n",
        "CREATE DATABASE IF NOT EXISTS SeattlePublicLibrary"
      ]
    },
    {
      "cell_type": "code",
      "execution_count": 13,
      "outputs": [],
      "metadata": {
        "jupyter": {
          "source_hidden": false,
          "outputs_hidden": false
        },
        "nteract": {
          "transient": {
            "deleting": false
          }
        },
        "microsoft": {
          "language": "sparksql"
        },
        "collapsed": false
      },
      "source": [
        "%%sql\n",
        "\n",
        "-- Create table CheckoutsByTitlePhysicalItemsschemafinal only if table with same name does not exist\n",
        "CREATE TABLE IF NOT EXISTS SeattlePublicLibrary.checkouts_by_title_physical_items\n",
        "(id STRING\n",
        ",checkout_year INT\n",
        ",bib_number INT\n",
        ",item_barcode STRING\n",
        ",item_type STRING\n",
        ",collection STRING\n",
        ",call_number STRING\n",
        ",item_title STRING\n",
        ",subjects STRING\n",
        ",checkout_date_time TIMESTAMP\n",
        ",load_date TIMESTAMP\n",
        ")\n",
        "USING PARQUET OPTIONS (path 'abfss://compose@splacceler5lmevhdeon4ym.dfs.core.windows.net/SeattlePublicLibrary/CheckoutsByTitlePhysicalItems/checkouts.parquet')"
      ]
    },
    {
      "cell_type": "code",
      "execution_count": 12,
      "outputs": [],
      "metadata": {
        "jupyter": {
          "source_hidden": false,
          "outputs_hidden": false
        },
        "nteract": {
          "transient": {
            "deleting": false
          }
        },
        "microsoft": {
          "language": "sparksql"
        },
        "collapsed": false
      },
      "source": [
        "%%sql\r\n",
        "\r\n",
        "--DROP TABLE SeattlePublicLibrary.Checkouts_By_Title_Physical_Items"
      ]
    }
  ],
  "metadata": {
    "save_output": true,
    "kernelspec": {
      "name": "synapse_pyspark",
      "display_name": "Synapse PySpark"
    },
    "language_info": {
      "name": "python"
    },
    "synapse_widget": {
      "version": "0.1",
      "state": {
        "19c8dec5-b7ed-4ae4-a0b7-e5d881486c64": {
          "type": "Synapse.DataFrame",
          "sync_state": {
            "table": {
              "rows": [
                {
                  "ID": "200608141724000010042364132",
                  "Subjects": "Feature films",
                  "Collection": "navid",
                  "CheckoutYear": "2006",
                  "CallNumber": "VHS FRENCH",
                  "BibNumber": "2021802",
                  "CheckoutDateTime": "08/14/2006 05:24:00 PM",
                  "ItemBarcode": "0010042364132",
                  "ItemType": "acvhs",
                  "ItemTitle": "French lieutenants woman"
                },
                {
                  "ID": "200607221142000010043073609",
                  "Subjects": "Video recordings for the hearing impaired, Feature films, Spy films, Spies Drama, Tailors Drama, Panama Canal Panama Drama",
                  "Collection": "navid",
                  "CheckoutYear": "2006",
                  "CallNumber": "VHS TAILOR",
                  "BibNumber": "2075616",
                  "CheckoutDateTime": "07/22/2006 11:42:00 AM",
                  "ItemBarcode": "0010043073609",
                  "ItemType": "acvhs",
                  "ItemTitle": "tailor of Panama"
                },
                {
                  "ID": "200607251442000010037541777",
                  "Subjects": "Mice Fiction, Mice Juvenile fiction",
                  "Collection": "ncfic",
                  "CheckoutYear": "2006",
                  "CallNumber": "J CLEARY",
                  "BibNumber": "265304",
                  "CheckoutDateTime": "07/25/2006 02:42:00 PM",
                  "ItemBarcode": "0010037541777",
                  "ItemType": "jcbk",
                  "ItemTitle": "Ralph S Mouse"
                },
                {
                  "ID": "200609121426000010034907294",
                  "Subjects": "Cookery Rice, Cookery International",
                  "Collection": "nanf",
                  "CheckoutYear": "2006",
                  "CallNumber": "641.6318 ALFORD 1998",
                  "BibNumber": "1830006",
                  "CheckoutDateTime": "09/12/2006 02:26:00 PM",
                  "ItemBarcode": "0010034907294",
                  "ItemType": "acbk",
                  "ItemTitle": "Seductions of rice a cookbook"
                },
                {
                  "ID": "200612221507000010045429460",
                  "Collection": "nanf",
                  "CheckoutYear": "2006",
                  "CallNumber": "741.5973 WATTERS 1996",
                  "BibNumber": "1674240",
                  "CheckoutDateTime": "12/22/2006 03:07:00 PM",
                  "ItemBarcode": "0010045429460",
                  "ItemType": "acbk",
                  "ItemTitle": "Theres treasure everywhere a Calvin and Hobbes collection"
                },
                {
                  "ID": "200612041746000010053983689",
                  "Subjects": "Love stories, Abandoned children Fiction, Pediatricians Fiction",
                  "Collection": "nafic",
                  "CheckoutYear": "2006",
                  "CallNumber": "FIC EVANOVI2006",
                  "BibNumber": "2383175",
                  "CheckoutDateTime": "12/04/2006 05:46:00 PM",
                  "ItemBarcode": "0010053983689",
                  "ItemType": "acbk",
                  "ItemTitle": "Thanksgiving"
                },
                {
                  "ID": "200612071606000010034977164",
                  "Subjects": "Avengers Television program, New avengers Television program",
                  "Collection": "canf",
                  "CheckoutYear": "2006",
                  "CallNumber": "791.4572 AVENGER ROGERS 1989",
                  "BibNumber": "1809105",
                  "CheckoutDateTime": "12/07/2006 04:06:00 PM",
                  "ItemBarcode": "0010034977164",
                  "ItemType": "acbk",
                  "ItemTitle": "complete Avengers everything you ever wanted to know about The Avengers and The New avengers"
                },
                {
                  "ID": "200601031731000010015663965",
                  "Subjects": "American poetry, Winter Poetry",
                  "Collection": "ncnf",
                  "CheckoutYear": "2006",
                  "CallNumber": "J811.52 FROST",
                  "BibNumber": "117642",
                  "CheckoutDateTime": "01/03/2006 05:31:00 PM",
                  "ItemBarcode": "0010015663965",
                  "ItemType": "jcbk",
                  "ItemTitle": "Stopping by woods on a snowy evening"
                },
                {
                  "ID": "200611301500000010053711007",
                  "Subjects": "Family Drama, Video recordings for the hearing impaired, Feature films, Babies Drama",
                  "Collection": "nadvd",
                  "CheckoutYear": "2006",
                  "CallNumber": "DVD STEWIE",
                  "BibNumber": "2320117",
                  "CheckoutDateTime": "11/30/2006 03:00:00 PM",
                  "ItemBarcode": "0010053711007",
                  "ItemType": "acdvd",
                  "ItemTitle": "Stewie Griffin the untold story"
                },
                {
                  "ID": "200608121247000010052908430",
                  "Subjects": "Fantasy fiction, Mystery fiction, Time travel Fiction, Books and reading Fiction, Libraries Fiction, Women detectives Great Britain Fiction, Characters and characteristics in literature Fiction, Next Thursday Fictitious character Fiction",
                  "Collection": "nabocd",
                  "CheckoutYear": "2006",
                  "CallNumber": "CD MYSTERY FFORDE",
                  "BibNumber": "2260000",
                  "CheckoutDateTime": "08/12/2006 12:47:00 PM",
                  "ItemBarcode": "0010052908430",
                  "ItemType": "accd",
                  "ItemTitle": "well of lost plots a Thursday Next novel"
                }
              ],
              "schema": {
                "ID": "string",
                "CheckoutYear": "string",
                "BibNumber": "string",
                "ItemBarcode": "string",
                "ItemType": "string",
                "Collection": "string",
                "CallNumber": "string",
                "ItemTitle": "string",
                "Subjects": "string",
                "CheckoutDateTime": "string"
              }
            },
            "isSummary": false,
            "language": "scala"
          },
          "persist_state": {
            "view": {
              "type": "details",
              "chartOptions": {
                "chartType": "bar",
                "aggregationType": "count",
                "categoryFieldKeys": [
                  "ID"
                ],
                "seriesFieldKeys": [
                  "ID"
                ],
                "isStacked": false
              }
            }
          }
        },
        "9ba97bfd-44aa-4f40-ba07-6366e2a6aae6": {
          "type": "Synapse.DataFrame",
          "sync_state": {
            "table": {
              "rows": [
                {
                  "item_title": "French lieutenants woman",
                  "collection": "navid",
                  "subjects": "Feature films",
                  "item_barcode": "0010042364132",
                  "checkout_year": 2006,
                  "id": "200608141724000010042364132",
                  "bib_number": 2021802,
                  "CheckoutDateTime": "08/14/2006 05:24:00 PM",
                  "call_number": "VHS FRENCH",
                  "item_type": "acvhs"
                },
                {
                  "item_title": "tailor of Panama",
                  "collection": "navid",
                  "subjects": "Video recordings for the hearing impaired, Feature films, Spy films, Spies Drama, Tailors Drama, Panama Canal Panama Drama",
                  "item_barcode": "0010043073609",
                  "checkout_year": 2006,
                  "id": "200607221142000010043073609",
                  "bib_number": 2075616,
                  "CheckoutDateTime": "07/22/2006 11:42:00 AM",
                  "call_number": "VHS TAILOR",
                  "item_type": "acvhs"
                },
                {
                  "item_title": "Ralph S Mouse",
                  "collection": "ncfic",
                  "subjects": "Mice Fiction, Mice Juvenile fiction",
                  "item_barcode": "0010037541777",
                  "checkout_year": 2006,
                  "id": "200607251442000010037541777",
                  "bib_number": 265304,
                  "CheckoutDateTime": "07/25/2006 02:42:00 PM",
                  "call_number": "J CLEARY",
                  "item_type": "jcbk"
                },
                {
                  "item_title": "Seductions of rice a cookbook",
                  "collection": "nanf",
                  "subjects": "Cookery Rice, Cookery International",
                  "item_barcode": "0010034907294",
                  "checkout_year": 2006,
                  "id": "200609121426000010034907294",
                  "bib_number": 1830006,
                  "CheckoutDateTime": "09/12/2006 02:26:00 PM",
                  "call_number": "641.6318 ALFORD 1998",
                  "item_type": "acbk"
                },
                {
                  "item_title": "Theres treasure everywhere a Calvin and Hobbes collection",
                  "collection": "nanf",
                  "item_barcode": "0010045429460",
                  "checkout_year": 2006,
                  "id": "200612221507000010045429460",
                  "bib_number": 1674240,
                  "CheckoutDateTime": "12/22/2006 03:07:00 PM",
                  "call_number": "741.5973 WATTERS 1996",
                  "item_type": "acbk"
                },
                {
                  "item_title": "Thanksgiving",
                  "collection": "nafic",
                  "subjects": "Love stories, Abandoned children Fiction, Pediatricians Fiction",
                  "item_barcode": "0010053983689",
                  "checkout_year": 2006,
                  "id": "200612041746000010053983689",
                  "bib_number": 2383175,
                  "CheckoutDateTime": "12/04/2006 05:46:00 PM",
                  "call_number": "FIC EVANOVI2006",
                  "item_type": "acbk"
                },
                {
                  "item_title": "complete Avengers everything you ever wanted to know about The Avengers and The New avengers",
                  "collection": "canf",
                  "subjects": "Avengers Television program, New avengers Television program",
                  "item_barcode": "0010034977164",
                  "checkout_year": 2006,
                  "id": "200612071606000010034977164",
                  "bib_number": 1809105,
                  "CheckoutDateTime": "12/07/2006 04:06:00 PM",
                  "call_number": "791.4572 AVENGER ROGERS 1989",
                  "item_type": "acbk"
                },
                {
                  "item_title": "Stopping by woods on a snowy evening",
                  "collection": "ncnf",
                  "subjects": "American poetry, Winter Poetry",
                  "item_barcode": "0010015663965",
                  "checkout_year": 2006,
                  "id": "200601031731000010015663965",
                  "bib_number": 117642,
                  "CheckoutDateTime": "01/03/2006 05:31:00 PM",
                  "call_number": "J811.52 FROST",
                  "item_type": "jcbk"
                },
                {
                  "item_title": "Stewie Griffin the untold story",
                  "collection": "nadvd",
                  "subjects": "Family Drama, Video recordings for the hearing impaired, Feature films, Babies Drama",
                  "item_barcode": "0010053711007",
                  "checkout_year": 2006,
                  "id": "200611301500000010053711007",
                  "bib_number": 2320117,
                  "CheckoutDateTime": "11/30/2006 03:00:00 PM",
                  "call_number": "DVD STEWIE",
                  "item_type": "acdvd"
                },
                {
                  "item_title": "well of lost plots a Thursday Next novel",
                  "collection": "nabocd",
                  "subjects": "Fantasy fiction, Mystery fiction, Time travel Fiction, Books and reading Fiction, Libraries Fiction, Women detectives Great Britain Fiction, Characters and characteristics in literature Fiction, Next Thursday Fictitious character Fiction",
                  "item_barcode": "0010052908430",
                  "checkout_year": 2006,
                  "id": "200608121247000010052908430",
                  "bib_number": 2260000,
                  "CheckoutDateTime": "08/12/2006 12:47:00 PM",
                  "call_number": "CD MYSTERY FFORDE",
                  "item_type": "accd"
                }
              ],
              "schema": {
                "id": "string",
                "checkout_year": "int",
                "bib_number": "int",
                "item_barcode": "string",
                "item_type": "string",
                "collection": "string",
                "call_number": "string",
                "item_title": "string",
                "subjects": "string",
                "CheckoutDateTime": "string"
              }
            },
            "isSummary": false,
            "language": "scala"
          },
          "persist_state": {
            "view": {
              "type": "details",
              "chartOptions": {
                "chartType": "bar",
                "aggregationType": "sum",
                "categoryFieldKeys": [
                  "id"
                ],
                "seriesFieldKeys": [
                  "checkout_year"
                ],
                "isStacked": false
              }
            }
          }
        },
        "15ac8101-d615-4f3c-9c25-413760070f85": {
          "type": "Synapse.DataFrame",
          "sync_state": {
            "table": {
              "rows": [
                {
                  "load_date": "2021-05-27T20:31:02.000Z",
                  "item_title": "French lieutenants woman",
                  "collection": "navid",
                  "subjects": "Feature films",
                  "checkout_date_time": "2006-01-14T17:24:00.000Z",
                  "item_barcode": "0010042364132",
                  "checkout_year": 2006,
                  "id": "200608141724000010042364132",
                  "bib_number": 2021802,
                  "call_number": "VHS FRENCH",
                  "item_type": "acvhs"
                },
                {
                  "load_date": "2021-05-27T20:31:02.000Z",
                  "item_title": "tailor of Panama",
                  "collection": "navid",
                  "subjects": "Video recordings for the hearing impaired, Feature films, Spy films, Spies Drama, Tailors Drama, Panama Canal Panama Drama",
                  "checkout_date_time": "2006-01-22T11:42:00.000Z",
                  "item_barcode": "0010043073609",
                  "checkout_year": 2006,
                  "id": "200607221142000010043073609",
                  "bib_number": 2075616,
                  "call_number": "VHS TAILOR",
                  "item_type": "acvhs"
                },
                {
                  "load_date": "2021-05-27T20:31:02.000Z",
                  "item_title": "Ralph S Mouse",
                  "collection": "ncfic",
                  "subjects": "Mice Fiction, Mice Juvenile fiction",
                  "checkout_date_time": "2006-01-25T14:42:00.000Z",
                  "item_barcode": "0010037541777",
                  "checkout_year": 2006,
                  "id": "200607251442000010037541777",
                  "bib_number": 265304,
                  "call_number": "J CLEARY",
                  "item_type": "jcbk"
                },
                {
                  "load_date": "2021-05-27T20:31:02.000Z",
                  "item_title": "Seductions of rice a cookbook",
                  "collection": "nanf",
                  "subjects": "Cookery Rice, Cookery International",
                  "checkout_date_time": "2006-01-12T14:26:00.000Z",
                  "item_barcode": "0010034907294",
                  "checkout_year": 2006,
                  "id": "200609121426000010034907294",
                  "bib_number": 1830006,
                  "call_number": "641.6318 ALFORD 1998",
                  "item_type": "acbk"
                },
                {
                  "load_date": "2021-05-27T20:31:02.000Z",
                  "item_title": "Theres treasure everywhere a Calvin and Hobbes collection",
                  "collection": "nanf",
                  "checkout_date_time": "2006-01-22T15:07:00.000Z",
                  "item_barcode": "0010045429460",
                  "checkout_year": 2006,
                  "id": "200612221507000010045429460",
                  "bib_number": 1674240,
                  "call_number": "741.5973 WATTERS 1996",
                  "item_type": "acbk"
                },
                {
                  "load_date": "2021-05-27T20:31:02.000Z",
                  "item_title": "Thanksgiving",
                  "collection": "nafic",
                  "subjects": "Love stories, Abandoned children Fiction, Pediatricians Fiction",
                  "checkout_date_time": "2006-01-04T17:46:00.000Z",
                  "item_barcode": "0010053983689",
                  "checkout_year": 2006,
                  "id": "200612041746000010053983689",
                  "bib_number": 2383175,
                  "call_number": "FIC EVANOVI2006",
                  "item_type": "acbk"
                },
                {
                  "load_date": "2021-05-27T20:31:02.000Z",
                  "item_title": "complete Avengers everything you ever wanted to know about The Avengers and The New avengers",
                  "collection": "canf",
                  "subjects": "Avengers Television program, New avengers Television program",
                  "checkout_date_time": "2006-01-07T16:06:00.000Z",
                  "item_barcode": "0010034977164",
                  "checkout_year": 2006,
                  "id": "200612071606000010034977164",
                  "bib_number": 1809105,
                  "call_number": "791.4572 AVENGER ROGERS 1989",
                  "item_type": "acbk"
                },
                {
                  "load_date": "2021-05-27T20:31:02.000Z",
                  "item_title": "Stopping by woods on a snowy evening",
                  "collection": "ncnf",
                  "subjects": "American poetry, Winter Poetry",
                  "checkout_date_time": "2006-01-03T17:31:00.000Z",
                  "item_barcode": "0010015663965",
                  "checkout_year": 2006,
                  "id": "200601031731000010015663965",
                  "bib_number": 117642,
                  "call_number": "J811.52 FROST",
                  "item_type": "jcbk"
                },
                {
                  "load_date": "2021-05-27T20:31:02.000Z",
                  "item_title": "Stewie Griffin the untold story",
                  "collection": "nadvd",
                  "subjects": "Family Drama, Video recordings for the hearing impaired, Feature films, Babies Drama",
                  "checkout_date_time": "2006-01-30T15:00:00.000Z",
                  "item_barcode": "0010053711007",
                  "checkout_year": 2006,
                  "id": "200611301500000010053711007",
                  "bib_number": 2320117,
                  "call_number": "DVD STEWIE",
                  "item_type": "acdvd"
                },
                {
                  "load_date": "2021-05-27T20:31:02.000Z",
                  "item_title": "well of lost plots a Thursday Next novel",
                  "collection": "nabocd",
                  "subjects": "Fantasy fiction, Mystery fiction, Time travel Fiction, Books and reading Fiction, Libraries Fiction, Women detectives Great Britain Fiction, Characters and characteristics in literature Fiction, Next Thursday Fictitious character Fiction",
                  "checkout_date_time": "2006-01-12T12:47:00.000Z",
                  "item_barcode": "0010052908430",
                  "checkout_year": 2006,
                  "id": "200608121247000010052908430",
                  "bib_number": 2260000,
                  "call_number": "CD MYSTERY FFORDE",
                  "item_type": "accd"
                }
              ],
              "schema": {
                "id": "string",
                "checkout_year": "int",
                "bib_number": "int",
                "item_barcode": "string",
                "item_type": "string",
                "collection": "string",
                "call_number": "string",
                "item_title": "string",
                "subjects": "string",
                "checkout_date_time": "int",
                "load_date": "int"
              }
            },
            "isSummary": false,
            "language": "scala"
          },
          "persist_state": {
            "view": {
              "type": "details",
              "chartOptions": {
                "chartType": "bar",
                "aggregationType": "sum",
                "categoryFieldKeys": [
                  "id"
                ],
                "seriesFieldKeys": [
                  "checkout_year"
                ],
                "isStacked": false
              }
            }
          }
        }
      }
    }
  }
}