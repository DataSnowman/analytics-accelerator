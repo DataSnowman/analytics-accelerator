{
  "nbformat": 4,
  "nbformat_minor": 2,
  "cells": [
    {
      "cell_type": "code",
      "execution_count": 1,
      "outputs": [],
      "metadata": {
        "microsoft": {
          "language": "python"
        },
        "collapsed": false
      },
      "source": [
        "%%pyspark\n",
        "\n",
        "df = spark.read.load('abfss://capture@splacceler5lmevhdeon4ym.dfs.core.windows.net/SeattlePublicLibrary/Library_books_about_cats.csv', format='csv'\n",
        "## If header exists uncomment line below\n",
        ", header=True\n",
        ")\n",
        "display(df.limit(10))"
      ]
    },
    {
      "cell_type": "code",
      "execution_count": 3,
      "outputs": [],
      "metadata": {
        "jupyter": {
          "source_hidden": false,
          "outputs_hidden": false
        },
        "nteract": {
          "transient": {
            "deleting": false
          }
        },
        "microsoft": {
          "language": "python"
        },
        "collapsed": true
      },
      "source": [
        "%%pyspark\r\n",
        "\r\n",
        "# Show Schema\r\n",
        "df.printSchema()"
      ]
    },
    {
      "cell_type": "code",
      "execution_count": 4,
      "outputs": [],
      "metadata": {
        "jupyter": {
          "source_hidden": false,
          "outputs_hidden": false
        },
        "nteract": {
          "transient": {
            "deleting": false
          }
        },
        "microsoft": {
          "language": "python"
        },
        "collapsed": true
      },
      "source": [
        "%%pyspark\n",
        "\n",
        "from pyspark.sql import SparkSession\n",
        "from pyspark.sql.types import *\n",
        "\n",
        "# Primary storage info\n",
        "capture_account_name = 'splacceler5lmevhdeon4ym' # fill in your primary account name\n",
        "capture_container_name = 'capture' # fill in your container name\n",
        "capture_relative_path = 'SeattlePublicLibrary/Library_books_about_cats.csv' # fill in your relative folder path\n",
        "\n",
        "capture_adls_path = 'abfss://%s@%s.dfs.core.windows.net/%s' % (capture_container_name, capture_account_name, capture_relative_path)\n",
        "print('Primary storage account path: ' + capture_adls_path)"
      ]
    },
    {
      "cell_type": "code",
      "execution_count": 5,
      "outputs": [],
      "metadata": {
        "jupyter": {
          "source_hidden": false,
          "outputs_hidden": false
        },
        "nteract": {
          "transient": {
            "deleting": false
          }
        },
        "microsoft": {
          "language": "python"
        },
        "collapsed": false
      },
      "source": [
        "%%pyspark\r\n",
        "\r\n",
        "from pyspark.sql.types import StructType, StructField, IntegerType, StringType, DoubleType, DateType, TimestampType\r\n",
        "csvSchema = StructType([\r\n",
        "  StructField('bibnum', IntegerType(), True),\r\n",
        "  StructField('title', StringType(), True),\r\n",
        "  StructField('author', StringType(), True), \r\n",
        "  StructField('isbn', StringType(), True),\r\n",
        "  StructField('publication_year', StringType(), True),\r\n",
        "  StructField('publisher', StringType(), True),\r\n",
        "  StructField('subjects', StringType(), True),\r\n",
        "  StructField('item_type', StringType(), True),\r\n",
        "  StructField('item_collection', StringType(), True),\r\n",
        "  StructField('floating_item', StringType(), True),\r\n",
        "  StructField('item_location', StringType(), True),\r\n",
        "  StructField('reportDate', StringType(), True),\r\n",
        "  StructField('item_count', IntegerType(), True)\r\n",
        "])\r\n",
        "\r\n",
        "CheckByTPI_capture_df = spark.read.format('csv').option('header', 'True').schema(csvSchema).load(capture_adls_path)\r\n",
        "\r\n",
        "display(CheckByTPI_capture_df.limit(10))\r\n",
        "\r\n",
        ""
      ]
    },
    {
      "cell_type": "code",
      "execution_count": 17,
      "outputs": [],
      "metadata": {
        "jupyter": {
          "source_hidden": false,
          "outputs_hidden": false
        },
        "nteract": {
          "transient": {
            "deleting": false
          }
        },
        "microsoft": {
          "language": "python"
        },
        "collapsed": true
      },
      "source": [
        "%%pyspark\r\n",
        "\r\n",
        "from pyspark.sql.functions import to_date, to_timestamp, col, date_format, current_timestamp\r\n",
        "df_final = (CheckByTPI_capture_df.withColumn(\"report_date\", to_date(col(\"reportDate\"),\"MM/dd/yyyy\")).drop(\"reportDate\")\r\n",
        "                                 .withColumn('loadDate', date_format(current_timestamp(), 'MM/dd/yyyy hh:mm:ss aa'))\r\n",
        "                                 .withColumn(\"load_date\", to_timestamp(col(\"loadDate\"),\"MM/dd/yyyy hh:mm:ss aa\")).drop(\"loadDate\")\r\n",
        ")"
      ]
    },
    {
      "cell_type": "code",
      "execution_count": 18,
      "outputs": [],
      "metadata": {
        "jupyter": {
          "source_hidden": false,
          "outputs_hidden": false
        },
        "nteract": {
          "transient": {
            "deleting": false
          }
        },
        "microsoft": {
          "language": "python"
        },
        "collapsed": false
      },
      "source": [
        "%%pyspark\n",
        "\n",
        "# Show Schema\n",
        "df_final.printSchema()\n",
        "\n",
        "display(df_final.limit(10))\n",
        ""
      ]
    },
    {
      "cell_type": "code",
      "execution_count": 19,
      "outputs": [],
      "metadata": {
        "jupyter": {
          "source_hidden": false,
          "outputs_hidden": false
        },
        "nteract": {
          "transient": {
            "deleting": false
          }
        },
        "microsoft": {
          "language": "python"
        },
        "collapsed": true
      },
      "source": [
        "%%pyspark\n",
        "\n",
        "from pyspark.sql import SparkSession\n",
        "from pyspark.sql.types import *\n",
        "\n",
        "# Primary storage info\n",
        "compose_account_name = 'splacceler5lmevhdeon4ym' # fill in your primary account name\n",
        "compose_container_name = 'compose' # fill in your container name\n",
        "compose_relative_path = 'SeattlePublicLibrary/LibraryBooksAboutCats/' # fill in your relative folder path\n",
        "\n",
        "compose_adls_path = 'abfss://%s@%s.dfs.core.windows.net/%s' % (compose_container_name, compose_account_name, compose_relative_path)\n",
        "print('Primary storage account path: ' + compose_adls_path)"
      ]
    },
    {
      "cell_type": "code",
      "execution_count": 20,
      "outputs": [],
      "metadata": {
        "jupyter": {
          "source_hidden": false,
          "outputs_hidden": false
        },
        "nteract": {
          "transient": {
            "deleting": false
          }
        },
        "microsoft": {
          "language": "python"
        },
        "collapsed": true
      },
      "source": [
        "%%pyspark\n",
        "\n",
        "compose_parquet_path = compose_adls_path + 'booksaboutcats.parquet'\n",
        "\n",
        "print('parquet file path: ' + compose_parquet_path)"
      ]
    },
    {
      "cell_type": "code",
      "execution_count": 21,
      "outputs": [],
      "metadata": {
        "jupyter": {
          "source_hidden": false,
          "outputs_hidden": false
        },
        "nteract": {
          "transient": {
            "deleting": false
          }
        },
        "microsoft": {
          "language": "python"
        },
        "collapsed": true
      },
      "source": [
        "%%pyspark\n",
        "\n",
        "df_final.write.parquet(compose_parquet_path, mode = 'overwrite')"
      ]
    },
    {
      "cell_type": "code",
      "execution_count": 10,
      "outputs": [],
      "metadata": {
        "jupyter": {
          "source_hidden": false,
          "outputs_hidden": false
        },
        "nteract": {
          "transient": {
            "deleting": false
          }
        },
        "microsoft": {
          "language": "sparksql"
        },
        "collapsed": false
      },
      "source": [
        "%%sql\n",
        "\n",
        "-- Create database SeattlePublicLibrary only if database with same name does not exist\n",
        "CREATE DATABASE IF NOT EXISTS SeattlePublicLibrary"
      ]
    },
    {
      "cell_type": "code",
      "execution_count": 15,
      "outputs": [],
      "metadata": {
        "jupyter": {
          "source_hidden": false,
          "outputs_hidden": false
        },
        "nteract": {
          "transient": {
            "deleting": false
          }
        },
        "microsoft": {
          "language": "sparksql"
        },
        "collapsed": false
      },
      "source": [
        "%%sql\n",
        "\n",
        "-- Create table CheckoutsByTitlePhysicalItemsschemafinal only if table with same name does not exist\n",
        "CREATE TABLE IF NOT EXISTS SeattlePublicLibrary.library_books_about_cats\n",
        "(bibnum INTEGER\n",
        " ,title STRING\n",
        " ,author STRING\n",
        " ,isbn STRING\n",
        " ,publication_year STRING\n",
        " ,publisher STRING\n",
        " ,subjects STRING\n",
        " ,item_type STRING\n",
        " ,item_collection STRING\n",
        " ,floating_item STRING\n",
        " ,item_location STRING\n",
        " ,report_date DATE\n",
        " ,item_count INTEGER\n",
        " ,load_date TIMESTAMP\n",
        ")\n",
        "USING PARQUET OPTIONS (path 'abfss://compose@splacceler5lmevhdeon4ym.dfs.core.windows.net/SeattlePublicLibrary/LibraryBooksAboutCats/booksaboutcats.parquet')"
      ]
    },
    {
      "cell_type": "code",
      "execution_count": 14,
      "outputs": [],
      "metadata": {
        "jupyter": {
          "source_hidden": false,
          "outputs_hidden": false
        },
        "nteract": {
          "transient": {
            "deleting": false
          }
        },
        "microsoft": {
          "language": "sparksql"
        },
        "collapsed": false
      },
      "source": [
        "%%sql\r\n",
        "\r\n",
        "--DROP TABLE SeattlePublicLibrary.library_books_about_cats"
      ]
    }
  ],
  "metadata": {
    "save_output": true,
    "kernelspec": {
      "name": "synapse_pyspark",
      "display_name": "Synapse PySpark"
    },
    "language_info": {
      "name": "python"
    },
    "synapse_widget": {
      "version": "0.1",
      "state": {
        "aa5ed43b-e0b4-4799-9755-4a08cde4c27d": {
          "type": "Synapse.DataFrame",
          "sync_state": {
            "table": {
              "rows": [
                {
                  "Subjects": "Berg Moe 1902 1972 Drama, Catchers Baseball Drama, Baseball players Drama, Spies Drama, World War 1939 1945 Secret service Drama, Feature films, Historical films, Spy films, Thrillers Motion pictures, Biographical films, Fiction films, Video recordings for the hearing impaired",
                  "Title": "The catcher was a spy / IFC and Palmstar Media ; an Animus Films/Serena Films and Palmstar Media production ; in association with Finch Entertainment, Windy Hill Pictures and FilmNation Entertainment ; produced by Kevin Frakes, Tatiana Kelly, Buddy Patrick, Jim Young ; written by Robert Rodat ; directed by Ben Lewin.",
                  "BibNum": "3404311",
                  "ReportDate": "08/01/2020",
                  "FloatingItem": "NA",
                  "ItemCount": "1",
                  "ItemCollection": "nadvd",
                  "ItemLocation": "bal",
                  "PublicationYear": "[2018]",
                  "ItemType": "acdvd",
                  "Publisher": "Paramount Pictures Home Entertainment,"
                },
                {
                  "Subjects": "Cats Training Juvenile fiction, Dogs Fiction, Animals Infancy Juvenile fiction",
                  "Title": "How to be a good cat / by Gail Page.",
                  "BibNum": "2743330",
                  "ReportDate": "08/01/2020",
                  "ISBN": "1599904748, 1599904756, 9781599904740, 9781599904757",
                  "FloatingItem": "NA",
                  "ItemCount": "1",
                  "ItemCollection": "ncpic",
                  "ItemLocation": "bro",
                  "PublicationYear": "2011.",
                  "Author": "Page, Gail, 1950-",
                  "ItemType": "jcbk",
                  "Publisher": "Bloomsbury,"
                },
                {
                  "Subjects": "Nuclear power plants Standards United States, Light water reactors Standards United States",
                  "Title": "Regulatory guide 1.84 : design and fabrication code case acceptability, ASME Section III Division 1.",
                  "BibNum": "1269227",
                  "ReportDate": "08/01/2020",
                  "FloatingItem": "NA",
                  "ItemCount": "1",
                  "ItemCollection": "cadocmf",
                  "ItemLocation": "cen",
                  "PublicationYear": "[1990]",
                  "Author": "U.S. Nuclear Regulatory Commission. Office of Nuclear Regulatory Research",
                  "ItemType": "armfc",
                  "Publisher": "U.S. Nuclear Regulatory Commission, Office of Nuclear Regulatory Research,"
                },
                {
                  "Subjects": "Cats Juvenile literature, Cats",
                  "Title": "Cat science unleashed : fun activities to do with your feline friend / Jodi Wheeler-Toppen ; photographs by Matthew Rakola.",
                  "BibNum": "3476824",
                  "ReportDate": "08/01/2020",
                  "ISBN": "1426334419, 1426334427, 9781426334412, 9781426334429",
                  "FloatingItem": "NA",
                  "ItemCount": "1",
                  "ItemCollection": "ncnf",
                  "ItemLocation": "net",
                  "PublicationYear": "[2019]",
                  "Author": "Wheeler-Toppen, Jodi",
                  "ItemType": "jcbk",
                  "Publisher": "National Geographic Kids,"
                },
                {
                  "Title": "Catalog of the type specimens of seastars (Echinodermata: Asteroidea) in the National Museum of Natural History, Smithsonian Institution.",
                  "BibNum": "1609208",
                  "ReportDate": "08/01/2020",
                  "FloatingItem": "NA",
                  "ItemCount": "1",
                  "ItemCollection": "cadoc",
                  "ItemLocation": "cen",
                  "PublicationYear": "1995.",
                  "Author": "Ahearn, Cynthia",
                  "ItemType": "acbk",
                  "Publisher": "Smithsonian Institution Press,"
                },
                {
                  "Subjects": "Motion picture music, Popular music 2011 2020",
                  "Title": "The hunger games. Catching fire : original motion picture soundtrack.",
                  "BibNum": "2963406",
                  "ReportDate": "08/01/2020",
                  "FloatingItem": "NA",
                  "ItemCount": "1",
                  "ItemCollection": "nacd",
                  "ItemLocation": "swt",
                  "PublicationYear": "[2013]",
                  "ItemType": "accd",
                  "Publisher": "Republic Records,"
                },
                {
                  "Subjects": "Community development Washington State Seattle, Block grants Washington State Seattle",
                  "Title": "Final allocations : 1983 community development block grant / City of Seattle, Office of Management and Budget.",
                  "BibNum": "1785427",
                  "ReportDate": "08/01/2020",
                  "FloatingItem": "NA",
                  "ItemCount": "1",
                  "ItemCollection": "casea",
                  "ItemLocation": "cen",
                  "PublicationYear": "[1982]",
                  "Author": "Seattle (Wash.). Office of Management and Budget",
                  "ItemType": "arbk",
                  "Publisher": "The Office,"
                },
                {
                  "Subjects": "Pacific Coast U S History Sources, Southwest New History Sources",
                  "Title": "Catalogue of materials in the Archivo General de Indias for the history of the Pacific Coast and the American Southwest.",
                  "BibNum": "246392",
                  "ReportDate": "08/01/2020",
                  "FloatingItem": "NA",
                  "ItemCount": "1",
                  "ItemCollection": "cs8r",
                  "ItemLocation": "cen",
                  "PublicationYear": "1919.",
                  "Author": "Chapman, Charles Edward, 1880-1941",
                  "ItemType": "arbk",
                  "Publisher": "University of California Press,"
                },
                {
                  "Subjects": "Science Experiments Juvenile literature, Scientific recreations Juvenile literature, Experiments",
                  "Title": "Stomp rockets, catapults, and kaleidoscopes : 30+ amazing science projects you can build for less than $1 / Curt Gabrielson.",
                  "BibNum": "3102500",
                  "ReportDate": "08/01/2020",
                  "ISBN": "1556527373, 9781556527371",
                  "FloatingItem": "NA",
                  "ItemCount": "1",
                  "ItemCollection": "ncnf",
                  "ItemLocation": "hip",
                  "PublicationYear": "[2008]",
                  "Author": "Gabrielson, Curt",
                  "ItemType": "jcbk",
                  "Publisher": "Chicago Review Press,"
                },
                {
                  "Subjects": "Nuclear explosions Law and legislation United States",
                  "Title": "Nuclear Explosion Services for Industrial Applications : hearings before the United States Joint Committee on Atomic Energy, Ninety-First Congress, first session, on May 8, 9, July 17, 1969.",
                  "BibNum": "2025950",
                  "ReportDate": "08/01/2020",
                  "FloatingItem": "NA",
                  "ItemCount": "1",
                  "ItemCollection": "cadocmf",
                  "ItemLocation": "cen",
                  "PublicationYear": "1969.",
                  "Author": "United States. Congress. Joint Committee on Atomic Energy",
                  "ItemType": "armfc",
                  "Publisher": "U.S. G.P.O.,"
                }
              ],
              "schema": {
                "BibNum": "string",
                "Title": "string",
                "Author": "string",
                "ISBN": "string",
                "PublicationYear": "string",
                "Publisher": "string",
                "Subjects": "string",
                "ItemType": "string",
                "ItemCollection": "string",
                "FloatingItem": "string",
                "ItemLocation": "string",
                "ReportDate": "string",
                "ItemCount": "string"
              }
            },
            "isSummary": false,
            "language": "scala"
          },
          "persist_state": {
            "view": {
              "type": "details",
              "chartOptions": {
                "chartType": "bar",
                "aggregationType": "count",
                "categoryFieldKeys": [
                  "BibNum"
                ],
                "seriesFieldKeys": [
                  "BibNum"
                ],
                "isStacked": false
              }
            }
          }
        },
        "552653f9-2545-4026-9e08-31891b4a982a": {
          "type": "Synapse.DataFrame",
          "sync_state": {
            "table": {
              "rows": [
                {
                  "subjects": "Government communication systems Washington State Seattle, Seattle Wash Communication systems",
                  "item_count": 1,
                  "floating_item": "NA",
                  "bibnum": 613433,
                  "item_collection": "cs9s",
                  "item_location": "cen",
                  "publisher": "[publisher not identified],",
                  "title": "City of Seattle request for proposals for a telecommunications network.",
                  "reportDate": "10/01/2020",
                  "item_type": "arbk",
                  "publication_year": "[1986]"
                },
                {
                  "author": "McPherson, Catriona, 1965-",
                  "subjects": "Bed and breakfast accommodations Fiction, Secrecy Fiction, Family secrets Fiction, Cousins Fiction, Galloway Scotland Fiction, Detective and mystery fiction, Thrillers Fiction, Large type books",
                  "item_count": 1,
                  "floating_item": "NA",
                  "bibnum": 3433285,
                  "item_collection": "calpfic",
                  "item_location": "cen",
                  "publisher": "Thorndike Press, a part of Gale, a Cengage Company,",
                  "isbn": "1432860526, 9781432860523",
                  "title": "Go to my grave / Catriona McPherson.",
                  "reportDate": "10/01/2020",
                  "item_type": "acbk",
                  "publication_year": "2019."
                },
                {
                  "author": "United States. Office of Management and Budget",
                  "subjects": "Sequestration Public finance United States, Budget United States",
                  "item_count": 1,
                  "floating_item": "NA",
                  "bibnum": 1940689,
                  "item_collection": "cadocmf",
                  "item_location": "cen",
                  "publisher": "U.S. G.P.O.,",
                  "title": "OMB final sequestration report for fiscal year 2000 : communication from the director, the Office of Management and Budget, transmitting the final OMB sequestration report to the President and Congress for fiscal year 2000, pursuant to 2 U.S.C. 901.",
                  "reportDate": "10/01/2020",
                  "item_type": "armfc",
                  "publication_year": "2000."
                },
                {
                  "author": "Christopherson, Norm",
                  "subjects": "Heating and ventilation industry Certification United States Examinations Study guides, Refrigeration and refrigerating machinery Examinations Study guides, Air conditioning Examinations Study guides, Heating Examinations Study guides, Ventilation Examinations Study guides",
                  "item_count": 2,
                  "floating_item": "NA",
                  "bibnum": 2598583,
                  "item_collection": "canf",
                  "item_location": "cen",
                  "publisher": "Delmar/Cengage Learning,",
                  "isbn": "0979740304, 9780979740305",
                  "title": "DeWalt HVAC technician certification exam guide / by Norm Christopherson.",
                  "reportDate": "10/01/2020",
                  "item_type": "acbk",
                  "publication_year": "[2009]"
                },
                {
                  "subjects": "Female impersonators Drama, Transsexuals Drama, Sexual minorities Drama, Gay couples Drama, Sex change Drama, Gay men Drama, May December romances Drama, Comedy films, Fantasy films, Fiction films, Feature films",
                  "item_count": 1,
                  "floating_item": "NA",
                  "bibnum": 2973660,
                  "item_collection": "calndvd",
                  "item_location": "cen",
                  "publisher": "Strand Releasing,",
                  "title": "Morrer como um homem = To die like a man / Strand Releasing ; Rosa Filmes e Ad Vitam ; realização, João Pedro Rodrigues ; argumento, João Pedro Rodrigues, Rui Catalão ; colaboração, João Rui Guerra da Mata ; produtora, Maria João Sigalho.",
                  "reportDate": "10/01/2020",
                  "item_type": "acdvd",
                  "publication_year": "[2011]"
                },
                {
                  "author": "Trukhan, Ekaterina",
                  "subjects": "Cats Juvenile fiction, Friendship Juvenile fiction",
                  "item_count": 1,
                  "floating_item": "NA",
                  "bibnum": 3130414,
                  "item_collection": "ncpic",
                  "item_location": "bro",
                  "publisher": "Sterling Children's Books,",
                  "isbn": "1454916125, 9781454916123",
                  "title": "Me and my cat / Ekaterina Trukhan.",
                  "reportDate": "10/01/2020",
                  "item_type": "jcbk",
                  "publication_year": "2015."
                },
                {
                  "author": "Stein, Samuel",
                  "subjects": "City planning, Gentrification",
                  "item_count": 1,
                  "floating_item": "NA",
                  "bibnum": 3442092,
                  "item_collection": "canf",
                  "item_location": "cen",
                  "publisher": "Verso,",
                  "isbn": "1786636395, 9781786636393",
                  "title": "Capital city : gentrification and the real estate state / Samuel Stein.",
                  "reportDate": "10/01/2020",
                  "item_type": "acbk",
                  "publication_year": "2019."
                },
                {
                  "author": "Hyde, Catherine Ryan",
                  "subjects": "Lesbian couples Fiction, Neighbors Fiction, Children of same sex parents Fiction, Horses Fiction, Families Fiction, Large type books",
                  "item_count": 1,
                  "floating_item": "NA",
                  "bibnum": 3070275,
                  "item_collection": "cs1malf",
                  "item_location": "cen",
                  "publisher": "Center Point Large Print,",
                  "isbn": "1628994274, 9781628994278",
                  "title": "The language of hoofbeats / Catherine Ryan Hyde.",
                  "reportDate": "10/01/2020",
                  "item_type": "acbk",
                  "publication_year": "2015."
                },
                {
                  "author": "DePaola, Tomie, 1934-2020,",
                  "subjects": "Cats Juvenile literature, Kittens Juvenile literature",
                  "item_count": 1,
                  "floating_item": "NA",
                  "bibnum": 3453795,
                  "item_collection": "ncenf",
                  "item_location": "idc",
                  "publisher": "Holiday House,",
                  "isbn": "0823442365, 9780823442362",
                  "title": "Tomie dePaola's cats and kittens / Tomie dePaola.",
                  "reportDate": "10/01/2020",
                  "item_type": "jcbk",
                  "publication_year": "[2019]"
                },
                {
                  "item_count": 1,
                  "floating_item": "NA",
                  "bibnum": 1093260,
                  "item_collection": "nafold",
                  "item_location": "cap",
                  "title": "Uncataloged Folder",
                  "reportDate": "10/01/2020",
                  "item_type": "ucunkn"
                }
              ],
              "schema": {
                "bibnum": "int",
                "title": "string",
                "author": "string",
                "isbn": "string",
                "publication_year": "string",
                "publisher": "string",
                "subjects": "string",
                "item_type": "string",
                "item_collection": "string",
                "floating_item": "string",
                "item_location": "string",
                "reportDate": "string",
                "item_count": "int"
              }
            },
            "isSummary": false,
            "language": "scala"
          },
          "persist_state": {
            "view": {
              "type": "details",
              "chartOptions": {
                "chartType": "bar",
                "aggregationType": "sum",
                "categoryFieldKeys": [
                  "title"
                ],
                "seriesFieldKeys": [
                  "bibnum"
                ],
                "isStacked": false
              }
            }
          }
        },
        "2e868a16-f9c7-4b98-bcff-289709c9f36a": {
          "type": "Synapse.DataFrame",
          "sync_state": {
            "table": {
              "rows": [
                {
                  "load_date": "2021-05-28T17:34:52.000Z",
                  "subjects": "Berg Moe 1902 1972 Drama, Catchers Baseball Drama, Baseball players Drama, Spies Drama, World War 1939 1945 Secret service Drama, Feature films, Historical films, Spy films, Thrillers Motion pictures, Biographical films, Fiction films, Video recordings for the hearing impaired",
                  "item_count": 1,
                  "report_date": "2020-08-01",
                  "floating_item": "NA",
                  "bibnum": 3404311,
                  "item_collection": "nadvd",
                  "item_location": "bal",
                  "publisher": "Paramount Pictures Home Entertainment,",
                  "title": "The catcher was a spy / IFC and Palmstar Media ; an Animus Films/Serena Films and Palmstar Media production ; in association with Finch Entertainment, Windy Hill Pictures and FilmNation Entertainment ; produced by Kevin Frakes, Tatiana Kelly, Buddy Patrick, Jim Young ; written by Robert Rodat ; directed by Ben Lewin.",
                  "item_type": "acdvd",
                  "publication_year": "[2018]"
                },
                {
                  "author": "Page, Gail, 1950-",
                  "load_date": "2021-05-28T17:34:52.000Z",
                  "subjects": "Cats Training Juvenile fiction, Dogs Fiction, Animals Infancy Juvenile fiction",
                  "item_count": 1,
                  "report_date": "2020-08-01",
                  "floating_item": "NA",
                  "bibnum": 2743330,
                  "item_collection": "ncpic",
                  "item_location": "bro",
                  "publisher": "Bloomsbury,",
                  "isbn": "1599904748, 1599904756, 9781599904740, 9781599904757",
                  "title": "How to be a good cat / by Gail Page.",
                  "item_type": "jcbk",
                  "publication_year": "2011."
                },
                {
                  "author": "U.S. Nuclear Regulatory Commission. Office of Nuclear Regulatory Research",
                  "load_date": "2021-05-28T17:34:52.000Z",
                  "subjects": "Nuclear power plants Standards United States, Light water reactors Standards United States",
                  "item_count": 1,
                  "report_date": "2020-08-01",
                  "floating_item": "NA",
                  "bibnum": 1269227,
                  "item_collection": "cadocmf",
                  "item_location": "cen",
                  "publisher": "U.S. Nuclear Regulatory Commission, Office of Nuclear Regulatory Research,",
                  "title": "Regulatory guide 1.84 : design and fabrication code case acceptability, ASME Section III Division 1.",
                  "item_type": "armfc",
                  "publication_year": "[1990]"
                },
                {
                  "author": "Wheeler-Toppen, Jodi",
                  "load_date": "2021-05-28T17:34:52.000Z",
                  "subjects": "Cats Juvenile literature, Cats",
                  "item_count": 1,
                  "report_date": "2020-08-01",
                  "floating_item": "NA",
                  "bibnum": 3476824,
                  "item_collection": "ncnf",
                  "item_location": "net",
                  "publisher": "National Geographic Kids,",
                  "isbn": "1426334419, 1426334427, 9781426334412, 9781426334429",
                  "title": "Cat science unleashed : fun activities to do with your feline friend / Jodi Wheeler-Toppen ; photographs by Matthew Rakola.",
                  "item_type": "jcbk",
                  "publication_year": "[2019]"
                },
                {
                  "author": "Ahearn, Cynthia",
                  "load_date": "2021-05-28T17:34:52.000Z",
                  "item_count": 1,
                  "report_date": "2020-08-01",
                  "floating_item": "NA",
                  "bibnum": 1609208,
                  "item_collection": "cadoc",
                  "item_location": "cen",
                  "publisher": "Smithsonian Institution Press,",
                  "title": "Catalog of the type specimens of seastars (Echinodermata: Asteroidea) in the National Museum of Natural History, Smithsonian Institution.",
                  "item_type": "acbk",
                  "publication_year": "1995."
                },
                {
                  "load_date": "2021-05-28T17:34:52.000Z",
                  "subjects": "Motion picture music, Popular music 2011 2020",
                  "item_count": 1,
                  "report_date": "2020-08-01",
                  "floating_item": "NA",
                  "bibnum": 2963406,
                  "item_collection": "nacd",
                  "item_location": "swt",
                  "publisher": "Republic Records,",
                  "title": "The hunger games. Catching fire : original motion picture soundtrack.",
                  "item_type": "accd",
                  "publication_year": "[2013]"
                },
                {
                  "author": "Seattle (Wash.). Office of Management and Budget",
                  "load_date": "2021-05-28T17:34:52.000Z",
                  "subjects": "Community development Washington State Seattle, Block grants Washington State Seattle",
                  "item_count": 1,
                  "report_date": "2020-08-01",
                  "floating_item": "NA",
                  "bibnum": 1785427,
                  "item_collection": "casea",
                  "item_location": "cen",
                  "publisher": "The Office,",
                  "title": "Final allocations : 1983 community development block grant / City of Seattle, Office of Management and Budget.",
                  "item_type": "arbk",
                  "publication_year": "[1982]"
                },
                {
                  "author": "Chapman, Charles Edward, 1880-1941",
                  "load_date": "2021-05-28T17:34:52.000Z",
                  "subjects": "Pacific Coast U S History Sources, Southwest New History Sources",
                  "item_count": 1,
                  "report_date": "2020-08-01",
                  "floating_item": "NA",
                  "bibnum": 246392,
                  "item_collection": "cs8r",
                  "item_location": "cen",
                  "publisher": "University of California Press,",
                  "title": "Catalogue of materials in the Archivo General de Indias for the history of the Pacific Coast and the American Southwest.",
                  "item_type": "arbk",
                  "publication_year": "1919."
                },
                {
                  "author": "Gabrielson, Curt",
                  "load_date": "2021-05-28T17:34:52.000Z",
                  "subjects": "Science Experiments Juvenile literature, Scientific recreations Juvenile literature, Experiments",
                  "item_count": 1,
                  "report_date": "2020-08-01",
                  "floating_item": "NA",
                  "bibnum": 3102500,
                  "item_collection": "ncnf",
                  "item_location": "hip",
                  "publisher": "Chicago Review Press,",
                  "isbn": "1556527373, 9781556527371",
                  "title": "Stomp rockets, catapults, and kaleidoscopes : 30+ amazing science projects you can build for less than $1 / Curt Gabrielson.",
                  "item_type": "jcbk",
                  "publication_year": "[2008]"
                },
                {
                  "author": "United States. Congress. Joint Committee on Atomic Energy",
                  "load_date": "2021-05-28T17:34:52.000Z",
                  "subjects": "Nuclear explosions Law and legislation United States",
                  "item_count": 1,
                  "report_date": "2020-08-01",
                  "floating_item": "NA",
                  "bibnum": 2025950,
                  "item_collection": "cadocmf",
                  "item_location": "cen",
                  "publisher": "U.S. G.P.O.,",
                  "title": "Nuclear Explosion Services for Industrial Applications : hearings before the United States Joint Committee on Atomic Energy, Ninety-First Congress, first session, on May 8, 9, July 17, 1969.",
                  "item_type": "armfc",
                  "publication_year": "1969."
                }
              ],
              "schema": {
                "bibnum": "int",
                "title": "string",
                "author": "string",
                "isbn": "string",
                "publication_year": "string",
                "publisher": "string",
                "subjects": "string",
                "item_type": "string",
                "item_collection": "string",
                "floating_item": "string",
                "item_location": "string",
                "item_count": "int",
                "report_date": "date",
                "load_date": "int"
              }
            },
            "isSummary": false,
            "language": "scala"
          },
          "persist_state": {
            "view": {
              "type": "details",
              "chartOptions": {
                "chartType": "bar",
                "aggregationType": "sum",
                "categoryFieldKeys": [
                  "title"
                ],
                "seriesFieldKeys": [
                  "bibnum"
                ],
                "isStacked": false
              }
            }
          }
        }
      }
    }
  }
}