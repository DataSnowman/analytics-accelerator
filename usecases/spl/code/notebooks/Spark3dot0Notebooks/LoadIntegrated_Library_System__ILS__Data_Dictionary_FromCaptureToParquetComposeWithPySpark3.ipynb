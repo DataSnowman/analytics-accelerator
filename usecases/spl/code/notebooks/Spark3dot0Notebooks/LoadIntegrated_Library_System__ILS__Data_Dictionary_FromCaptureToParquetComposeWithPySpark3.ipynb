{
  "nbformat": 4,
  "nbformat_minor": 2,
  "cells": [
    {
      "cell_type": "code",
      "execution_count": 3,
      "outputs": [
        {
          "output_type": "display_data",
          "data": {
            "application/vnd.livy.statement-meta+json": {
              "spark_pool": "synasp1",
              "session_id": 8,
              "statement_id": 3,
              "state": "finished",
              "livy_statement_state": "available",
              "queued_time": "2021-06-03T16:32:16.9582393Z",
              "execution_start_time": "2021-06-03T16:32:27.4583109Z",
              "execution_finish_time": "2021-06-03T16:32:38.3744462Z"
            },
            "text/plain": "StatementMeta(synasp1, 8, 3, Finished, Available)"
          },
          "metadata": {}
        },
        {
          "output_type": "display_data",
          "data": {
            "application/vnd.synapse.widget-view+json": {
              "widget_id": "833d24a8-8bc8-46ea-8546-ea00f5837f9c",
              "widget_type": "Synapse.DataFrame"
            },
            "text/plain": "SynapseWidget(Synapse.DataFrame, 833d24a8-8bc8-46ea-8546-ea00f5837f9c)"
          },
          "metadata": {}
        },
        {
          "output_type": "execute_result",
          "data": {},
          "execution_count": 3,
          "metadata": {}
        }
      ],
      "metadata": {
        "microsoft": {
          "language": "python"
        },
        "collapsed": false
      },
      "source": [
        "%%pyspark\n",
        "\n",
        "df = spark.read.load('abfss://capture@spkaccelerjqvse6bhhchxi.dfs.core.windows.net/SeattlePublicLibrary/Integrated_Library_System__ILS__Data_Dictionary.csv', format='csv'\n",
        "## If header exists uncomment line below\n",
        ", header=True\n",
        ")\n",
        "display(df.limit(10))"
      ]
    },
    {
      "cell_type": "code",
      "execution_count": 4,
      "outputs": [
        {
          "output_type": "display_data",
          "data": {
            "application/vnd.livy.statement-meta+json": {
              "spark_pool": "synasp1",
              "session_id": 8,
              "statement_id": 4,
              "state": "finished",
              "livy_statement_state": "available",
              "queued_time": "2021-06-03T16:32:17.0580811Z",
              "execution_start_time": "2021-06-03T16:32:38.4790536Z",
              "execution_finish_time": "2021-06-03T16:32:40.9295063Z"
            },
            "text/plain": "StatementMeta(synasp1, 8, 4, Finished, Available)"
          },
          "metadata": {}
        },
        {
          "output_type": "stream",
          "name": "stdout",
          "text": "root\n |-- Code: string (nullable = true)\n |-- Description: string (nullable = true)\n |-- Code Type: string (nullable = true)\n |-- Format Group: string (nullable = true)\n |-- Format Subgroup: string (nullable = true)\n |-- Category Group: string (nullable = true)\n |-- Category Subgroup: string (nullable = true)\n |-- Age Group: string (nullable = true)"
        }
      ],
      "metadata": {
        "jupyter": {
          "source_hidden": false,
          "outputs_hidden": false
        },
        "nteract": {
          "transient": {
            "deleting": false
          }
        },
        "microsoft": {
          "language": "python"
        },
        "collapsed": true
      },
      "source": [
        "%%pyspark\r\n",
        "\r\n",
        "# Show Schema\r\n",
        "df.printSchema()"
      ]
    },
    {
      "cell_type": "code",
      "execution_count": 5,
      "outputs": [
        {
          "output_type": "display_data",
          "data": {
            "application/vnd.livy.statement-meta+json": {
              "spark_pool": "synasp1",
              "session_id": 8,
              "statement_id": 5,
              "state": "finished",
              "livy_statement_state": "available",
              "queued_time": "2021-06-03T16:32:17.1137607Z",
              "execution_start_time": "2021-06-03T16:32:41.0270063Z",
              "execution_finish_time": "2021-06-03T16:32:43.2004416Z"
            },
            "text/plain": "StatementMeta(synasp1, 8, 5, Finished, Available)"
          },
          "metadata": {}
        },
        {
          "output_type": "stream",
          "name": "stdout",
          "text": "Primary storage account path: abfss://capture@spkaccelerjqvse6bhhchxi.dfs.core.windows.net/SeattlePublicLibrary/Integrated_Library_System__ILS__Data_Dictionary.csv"
        }
      ],
      "metadata": {
        "jupyter": {
          "source_hidden": false,
          "outputs_hidden": false
        },
        "nteract": {
          "transient": {
            "deleting": false
          }
        },
        "microsoft": {
          "language": "python"
        },
        "collapsed": true
      },
      "source": [
        "%%pyspark\n",
        "\n",
        "from pyspark.sql import SparkSession\n",
        "from pyspark.sql.types import *\n",
        "\n",
        "# Primary storage info\n",
        "capture_account_name = 'spkaccelerjqvse6bhhchxi' # fill in your primary account name\n",
        "capture_container_name = 'capture' # fill in your container name\n",
        "capture_relative_path = 'SeattlePublicLibrary/Integrated_Library_System__ILS__Data_Dictionary.csv' # fill in your relative folder path\n",
        "\n",
        "capture_adls_path = 'abfss://%s@%s.dfs.core.windows.net/%s' % (capture_container_name, capture_account_name, capture_relative_path)\n",
        "print('Primary storage account path: ' + capture_adls_path)"
      ]
    },
    {
      "cell_type": "code",
      "execution_count": 6,
      "outputs": [
        {
          "output_type": "display_data",
          "data": {
            "application/vnd.livy.statement-meta+json": {
              "spark_pool": "synasp1",
              "session_id": 8,
              "statement_id": 6,
              "state": "finished",
              "livy_statement_state": "available",
              "queued_time": "2021-06-03T16:32:17.1533534Z",
              "execution_start_time": "2021-06-03T16:32:43.3056293Z",
              "execution_finish_time": "2021-06-03T16:32:45.3834117Z"
            },
            "text/plain": "StatementMeta(synasp1, 8, 6, Finished, Available)"
          },
          "metadata": {}
        },
        {
          "output_type": "display_data",
          "data": {
            "application/vnd.synapse.widget-view+json": {
              "widget_id": "2f35265a-a395-4096-85c4-d64753a37ab0",
              "widget_type": "Synapse.DataFrame"
            },
            "text/plain": "SynapseWidget(Synapse.DataFrame, 2f35265a-a395-4096-85c4-d64753a37ab0)"
          },
          "metadata": {}
        },
        {
          "output_type": "execute_result",
          "data": {},
          "execution_count": 6,
          "metadata": {}
        }
      ],
      "metadata": {
        "jupyter": {
          "source_hidden": false,
          "outputs_hidden": false
        },
        "nteract": {
          "transient": {
            "deleting": false
          }
        },
        "microsoft": {
          "language": "python"
        },
        "collapsed": false
      },
      "source": [
        "%%pyspark\r\n",
        "\r\n",
        "from pyspark.sql.types import StructType, StructField, IntegerType, StringType, DoubleType, DateType, TimestampType\r\n",
        "csvSchema = StructType([\r\n",
        "  StructField('code', StringType(), True),\r\n",
        "  StructField('description', StringType(), True),\r\n",
        "  StructField('code_type', StringType(), True), \r\n",
        "  StructField('format_group', StringType(), True),\r\n",
        "  StructField('format_subgroup', StringType(), True),\r\n",
        "  StructField('category_group', StringType(), True),\r\n",
        "  StructField('category_subgroup', StringType(), True),\r\n",
        "  StructField('age_group', StringType(), True)   \r\n",
        "])\r\n",
        "\r\n",
        "CheckByTPI_capture_df = spark.read.format('csv').option('header', 'True').schema(csvSchema).load(capture_adls_path)\r\n",
        "\r\n",
        "display(CheckByTPI_capture_df.limit(10))\r\n",
        "\r\n",
        ""
      ]
    },
    {
      "cell_type": "code",
      "execution_count": 7,
      "outputs": [
        {
          "output_type": "display_data",
          "data": {
            "application/vnd.livy.statement-meta+json": {
              "spark_pool": "synasp1",
              "session_id": 8,
              "statement_id": 7,
              "state": "finished",
              "livy_statement_state": "available",
              "queued_time": "2021-06-03T16:32:17.22339Z",
              "execution_start_time": "2021-06-03T16:32:45.4862586Z",
              "execution_finish_time": "2021-06-03T16:32:47.7626802Z"
            },
            "text/plain": "StatementMeta(synasp1, 8, 7, Finished, Available)"
          },
          "metadata": {}
        },
        {
          "output_type": "stream",
          "name": "stdout",
          "text": ""
        }
      ],
      "metadata": {
        "jupyter": {
          "source_hidden": false,
          "outputs_hidden": false
        },
        "nteract": {
          "transient": {
            "deleting": false
          }
        },
        "microsoft": {
          "language": "python"
        },
        "collapsed": true
      },
      "source": [
        "%%pyspark\r\n",
        "\r\n",
        "from pyspark.sql.functions import to_date, to_timestamp, col, date_format, current_timestamp\r\n",
        "df_final = (CheckByTPI_capture_df.withColumn('loadDate', date_format(current_timestamp(), 'M/d/y H:m:s a'))\r\n",
        "                                 .withColumn(\"load_date\", to_timestamp(col(\"loadDate\"),\"M/d/y H:m:s a\")).drop(\"loadDate\")\r\n",
        ")"
      ]
    },
    {
      "cell_type": "code",
      "execution_count": 8,
      "outputs": [
        {
          "output_type": "display_data",
          "data": {
            "application/vnd.livy.statement-meta+json": {
              "spark_pool": "synasp1",
              "session_id": 8,
              "statement_id": 8,
              "state": "finished",
              "livy_statement_state": "available",
              "queued_time": "2021-06-03T16:32:17.284398Z",
              "execution_start_time": "2021-06-03T16:32:47.9950907Z",
              "execution_finish_time": "2021-06-03T16:33:00.4669793Z"
            },
            "text/plain": "StatementMeta(synasp1, 8, 8, Finished, Available)"
          },
          "metadata": {}
        },
        {
          "output_type": "display_data",
          "data": {
            "text/plain": "root\n |-- code: string (nullable = true)\n |-- description: string (nullable = true)\n |-- code_type: string (nullable = true)\n |-- format_group: string (nullable = true)\n |-- format_subgroup: string (nullable = true)\n |-- category_group: string (nullable = true)\n |-- category_subgroup: string (nullable = true)\n |-- age_group: string (nullable = true)\n |-- load_date: timestamp (nullable = true)\n\n"
          },
          "metadata": {}
        },
        {
          "output_type": "display_data",
          "data": {
            "application/vnd.synapse.widget-view+json": {
              "widget_id": "0e550b0e-1493-40e1-956f-e3ff83754c3d",
              "widget_type": "Synapse.DataFrame"
            },
            "text/plain": "SynapseWidget(Synapse.DataFrame, 0e550b0e-1493-40e1-956f-e3ff83754c3d)"
          },
          "metadata": {}
        },
        {
          "output_type": "execute_result",
          "data": {},
          "execution_count": 8,
          "metadata": {}
        }
      ],
      "metadata": {
        "jupyter": {
          "source_hidden": false,
          "outputs_hidden": false
        },
        "nteract": {
          "transient": {
            "deleting": false
          }
        },
        "microsoft": {
          "language": "python"
        },
        "collapsed": false
      },
      "source": [
        "%%pyspark\n",
        "\n",
        "# Show Schema\n",
        "df_final.printSchema()\n",
        "\n",
        "display(df_final.limit(10))\n",
        ""
      ]
    },
    {
      "cell_type": "code",
      "execution_count": 9,
      "outputs": [
        {
          "output_type": "display_data",
          "data": {
            "application/vnd.livy.statement-meta+json": {
              "spark_pool": "synasp1",
              "session_id": 8,
              "statement_id": 9,
              "state": "finished",
              "livy_statement_state": "available",
              "queued_time": "2021-06-03T16:32:17.3365906Z",
              "execution_start_time": "2021-06-03T16:33:00.5634562Z",
              "execution_finish_time": "2021-06-03T16:33:02.6392661Z"
            },
            "text/plain": "StatementMeta(synasp1, 8, 9, Finished, Available)"
          },
          "metadata": {}
        },
        {
          "output_type": "stream",
          "name": "stdout",
          "text": "Primary storage account path: abfss://compose@spkaccelerjqvse6bhhchxi.dfs.core.windows.net/SeattlePublicLibrary/IntegratedLibrarySystemILSDataDictionary/"
        }
      ],
      "metadata": {
        "jupyter": {
          "source_hidden": false,
          "outputs_hidden": false
        },
        "nteract": {
          "transient": {
            "deleting": false
          }
        },
        "microsoft": {
          "language": "python"
        },
        "collapsed": true
      },
      "source": [
        "%%pyspark\n",
        "\n",
        "from pyspark.sql import SparkSession\n",
        "from pyspark.sql.types import *\n",
        "\n",
        "# Primary storage info\n",
        "compose_account_name = 'spkaccelerjqvse6bhhchxi' # fill in your primary account name\n",
        "compose_container_name = 'compose' # fill in your container name\n",
        "compose_relative_path = 'SeattlePublicLibrary/IntegratedLibrarySystemILSDataDictionary/' # fill in your relative folder path\n",
        "\n",
        "compose_adls_path = 'abfss://%s@%s.dfs.core.windows.net/%s' % (compose_container_name, compose_account_name, compose_relative_path)\n",
        "print('Primary storage account path: ' + compose_adls_path)"
      ]
    },
    {
      "cell_type": "code",
      "execution_count": 10,
      "outputs": [
        {
          "output_type": "display_data",
          "data": {
            "application/vnd.livy.statement-meta+json": {
              "spark_pool": "synasp1",
              "session_id": 8,
              "statement_id": 10,
              "state": "finished",
              "livy_statement_state": "available",
              "queued_time": "2021-06-03T16:32:17.3708745Z",
              "execution_start_time": "2021-06-03T16:33:02.7468053Z",
              "execution_finish_time": "2021-06-03T16:33:04.8096151Z"
            },
            "text/plain": "StatementMeta(synasp1, 8, 10, Finished, Available)"
          },
          "metadata": {}
        },
        {
          "output_type": "stream",
          "name": "stdout",
          "text": "parquet file path: abfss://compose@spkaccelerjqvse6bhhchxi.dfs.core.windows.net/SeattlePublicLibrary/IntegratedLibrarySystemILSDataDictionary/datadictionary.parquet"
        }
      ],
      "metadata": {
        "jupyter": {
          "source_hidden": false,
          "outputs_hidden": false
        },
        "nteract": {
          "transient": {
            "deleting": false
          }
        },
        "microsoft": {
          "language": "python"
        },
        "collapsed": true
      },
      "source": [
        "%%pyspark\n",
        "\n",
        "compose_parquet_path = compose_adls_path + 'datadictionary.parquet'\n",
        "\n",
        "print('parquet file path: ' + compose_parquet_path)"
      ]
    },
    {
      "cell_type": "code",
      "execution_count": 11,
      "outputs": [
        {
          "output_type": "display_data",
          "data": {
            "application/vnd.livy.statement-meta+json": {
              "spark_pool": "synasp1",
              "session_id": 8,
              "statement_id": 11,
              "state": "finished",
              "livy_statement_state": "available",
              "queued_time": "2021-06-03T16:32:17.4165115Z",
              "execution_start_time": "2021-06-03T16:33:04.9083941Z",
              "execution_finish_time": "2021-06-03T16:33:09.0716145Z"
            },
            "text/plain": "StatementMeta(synasp1, 8, 11, Finished, Available)"
          },
          "metadata": {}
        },
        {
          "output_type": "stream",
          "name": "stdout",
          "text": ""
        }
      ],
      "metadata": {
        "jupyter": {
          "source_hidden": false,
          "outputs_hidden": false
        },
        "nteract": {
          "transient": {
            "deleting": false
          }
        },
        "microsoft": {
          "language": "python"
        },
        "collapsed": true
      },
      "source": [
        "%%pyspark\n",
        "\n",
        "df_final.write.parquet(compose_parquet_path, mode = 'overwrite')"
      ]
    },
    {
      "cell_type": "code",
      "execution_count": 12,
      "outputs": [
        {
          "output_type": "display_data",
          "data": {
            "application/vnd.livy.statement-meta+json": {
              "spark_pool": "synasp1",
              "session_id": 8,
              "statement_id": 12,
              "state": "finished",
              "livy_statement_state": "available",
              "queued_time": "2021-06-03T16:32:17.4645185Z",
              "execution_start_time": "2021-06-03T16:33:09.1952141Z",
              "execution_finish_time": "2021-06-03T16:33:11.3912129Z"
            },
            "text/plain": "StatementMeta(synasp1, 8, 12, Finished, Available)"
          },
          "metadata": {}
        },
        {
          "output_type": "execute_result",
          "data": {
            "application/vnd.synapse.sparksql-result+json": {
              "schema": {
                "type": "struct",
                "fields": []
              },
              "data": []
            },
            "text/plain": "<Spark SQL result set with 0 rows and 0 fields>"
          },
          "execution_count": 12,
          "metadata": {}
        }
      ],
      "metadata": {
        "jupyter": {
          "source_hidden": false,
          "outputs_hidden": false
        },
        "nteract": {
          "transient": {
            "deleting": false
          }
        },
        "microsoft": {
          "language": "sparksql"
        },
        "collapsed": false
      },
      "source": [
        "%%sql\n",
        "\n",
        "-- Create database SeattlePublicLibrary only if database with same name does not exist\n",
        "CREATE DATABASE IF NOT EXISTS SeattlePublicLibrary"
      ]
    },
    {
      "cell_type": "code",
      "execution_count": 13,
      "outputs": [
        {
          "output_type": "display_data",
          "data": {
            "application/vnd.livy.statement-meta+json": {
              "spark_pool": "synasp1",
              "session_id": 8,
              "statement_id": 13,
              "state": "finished",
              "livy_statement_state": "available",
              "queued_time": "2021-06-03T16:32:17.5125138Z",
              "execution_start_time": "2021-06-03T16:33:11.5221282Z",
              "execution_finish_time": "2021-06-03T16:33:13.5819693Z"
            },
            "text/plain": "StatementMeta(synasp1, 8, 13, Finished, Available)"
          },
          "metadata": {}
        },
        {
          "output_type": "execute_result",
          "data": {
            "application/vnd.synapse.sparksql-result+json": {
              "schema": {
                "type": "struct",
                "fields": []
              },
              "data": []
            },
            "text/plain": "<Spark SQL result set with 0 rows and 0 fields>"
          },
          "execution_count": 13,
          "metadata": {}
        }
      ],
      "metadata": {
        "jupyter": {
          "source_hidden": false,
          "outputs_hidden": false
        },
        "nteract": {
          "transient": {
            "deleting": false
          }
        },
        "microsoft": {
          "language": "sparksql"
        },
        "collapsed": false
      },
      "source": [
        "%%sql\n",
        "\n",
        "-- Create table CheckoutsByTitlePhysicalItemsschemafinal only if table with same name does not exist\n",
        "CREATE TABLE IF NOT EXISTS SeattlePublicLibrary.integrated_library_system_ils_data_dictionary\n",
        "(code STRING\n",
        " ,description STRING\n",
        " ,code_type STRING\n",
        " ,format_group STRING\n",
        " ,format_subgroup STRING\n",
        " ,category_group STRING\n",
        " ,category_subgroup STRING\n",
        " ,age_group STRING\n",
        " ,load_date TIMESTAMP\n",
        ")\n",
        "USING PARQUET OPTIONS (path 'abfss://compose@spkaccelerjqvse6bhhchxi.dfs.core.windows.net/SeattlePublicLibrary/IntegratedLibrarySystemILSDataDictionary/datadictionary.parquet')"
      ]
    }
  ],
  "metadata": {
    "save_output": true,
    "kernelspec": {
      "name": "synapse_pyspark",
      "display_name": "Synapse PySpark"
    },
    "language_info": {
      "name": "python"
    },
    "synapse_widget": {
      "version": "0.1",
      "state": {
        "833d24a8-8bc8-46ea-8546-ea00f5837f9c": {
          "type": "Synapse.DataFrame",
          "sync_state": {
            "table": {
              "rows": [
                {
                  "Age Group": "Adult",
                  "Format Subgroup": "Book",
                  "Code": "cazover",
                  "Description": "CA7-zine collection oversize",
                  "Format Group": "Print",
                  "Category Group": "Periodical",
                  "Code Type": "ItemCollection"
                },
                {
                  "Age Group": "Adult",
                  "Format Subgroup": "Book",
                  "Code": "caziner",
                  "Description": "CA7-zine collection reference",
                  "Format Group": "Print",
                  "Category Group": "Periodical",
                  "Code Type": "ItemCollection"
                },
                {
                  "Age Group": "Adult",
                  "Format Subgroup": "Book",
                  "Code": "cazval",
                  "Description": "CA7-zine collection valuable mat.",
                  "Format Group": "Print",
                  "Category Group": "Periodical",
                  "Code Type": "ItemCollection"
                },
                {
                  "Code": "nga",
                  "Description": "Northgate Branch",
                  "Code Type": "Location"
                },
                {
                  "Code": "hip",
                  "Description": "High Point Branch",
                  "Code Type": "Location"
                },
                {
                  "Code": "rbe",
                  "Description": "Rainier Beach Branch",
                  "Code Type": "Location"
                },
                {
                  "Code": "wlb",
                  "Description": "Wa Talking Book And Braille Library",
                  "Code Type": "Location"
                },
                {
                  "Code": "dth",
                  "Description": "Douglass-Truth Branch",
                  "Code Type": "Location"
                },
                {
                  "Code": "drp1",
                  "Description": "*** Temporary ***",
                  "Code Type": "Location"
                },
                {
                  "Code": "mag",
                  "Description": "Magnolia Branch",
                  "Code Type": "Location"
                }
              ],
              "schema": {
                "Code": "string",
                "Description": "string",
                "Code Type": "string",
                "Format Group": "string",
                "Format Subgroup": "string",
                "Category Group": "string",
                "Category Subgroup": "string",
                "Age Group": "string"
              }
            },
            "isSummary": false,
            "language": "scala"
          },
          "persist_state": {
            "view": {
              "type": "details",
              "tableOptions": {},
              "chartOptions": {
                "chartType": "bar",
                "aggregationType": "count",
                "categoryFieldKeys": [
                  "Code"
                ],
                "seriesFieldKeys": [
                  "Code"
                ],
                "isStacked": false
              }
            }
          }
        },
        "2f35265a-a395-4096-85c4-d64753a37ab0": {
          "type": "Synapse.DataFrame",
          "sync_state": {
            "table": {
              "rows": [
                {
                  "description": "CA7-zine collection oversize",
                  "format_group": "Print",
                  "age_group": "Adult",
                  "code": "cazover",
                  "category_group": "Periodical",
                  "code_type": "ItemCollection",
                  "format_subgroup": "Book"
                },
                {
                  "description": "CA7-zine collection reference",
                  "format_group": "Print",
                  "age_group": "Adult",
                  "code": "caziner",
                  "category_group": "Periodical",
                  "code_type": "ItemCollection",
                  "format_subgroup": "Book"
                },
                {
                  "description": "CA7-zine collection valuable mat.",
                  "format_group": "Print",
                  "age_group": "Adult",
                  "code": "cazval",
                  "category_group": "Periodical",
                  "code_type": "ItemCollection",
                  "format_subgroup": "Book"
                },
                {
                  "code": "nga",
                  "description": "Northgate Branch",
                  "code_type": "Location"
                },
                {
                  "code": "hip",
                  "description": "High Point Branch",
                  "code_type": "Location"
                },
                {
                  "code": "rbe",
                  "description": "Rainier Beach Branch",
                  "code_type": "Location"
                },
                {
                  "code": "wlb",
                  "description": "Wa Talking Book And Braille Library",
                  "code_type": "Location"
                },
                {
                  "code": "dth",
                  "description": "Douglass-Truth Branch",
                  "code_type": "Location"
                },
                {
                  "code": "drp1",
                  "description": "*** Temporary ***",
                  "code_type": "Location"
                },
                {
                  "code": "mag",
                  "description": "Magnolia Branch",
                  "code_type": "Location"
                }
              ],
              "schema": {
                "code": "string",
                "description": "string",
                "code_type": "string",
                "format_group": "string",
                "format_subgroup": "string",
                "category_group": "string",
                "category_subgroup": "string",
                "age_group": "string"
              }
            },
            "isSummary": false,
            "language": "scala"
          },
          "persist_state": {
            "view": {
              "type": "details",
              "tableOptions": {},
              "chartOptions": {
                "chartType": "bar",
                "aggregationType": "count",
                "categoryFieldKeys": [
                  "code"
                ],
                "seriesFieldKeys": [
                  "code"
                ],
                "isStacked": false
              }
            }
          }
        },
        "0e550b0e-1493-40e1-956f-e3ff83754c3d": {
          "type": "Synapse.DataFrame",
          "sync_state": {
            "table": {
              "rows": [
                {
                  "load_date": "2021-06-03T16:32:48.000Z",
                  "description": "CA7-zine collection oversize",
                  "format_group": "Print",
                  "age_group": "Adult",
                  "code": "cazover",
                  "category_group": "Periodical",
                  "code_type": "ItemCollection",
                  "format_subgroup": "Book"
                },
                {
                  "load_date": "2021-06-03T16:32:48.000Z",
                  "description": "CA7-zine collection reference",
                  "format_group": "Print",
                  "age_group": "Adult",
                  "code": "caziner",
                  "category_group": "Periodical",
                  "code_type": "ItemCollection",
                  "format_subgroup": "Book"
                },
                {
                  "load_date": "2021-06-03T16:32:48.000Z",
                  "description": "CA7-zine collection valuable mat.",
                  "format_group": "Print",
                  "age_group": "Adult",
                  "code": "cazval",
                  "category_group": "Periodical",
                  "code_type": "ItemCollection",
                  "format_subgroup": "Book"
                },
                {
                  "code": "nga",
                  "description": "Northgate Branch",
                  "code_type": "Location",
                  "load_date": "2021-06-03T16:32:48.000Z"
                },
                {
                  "code": "hip",
                  "description": "High Point Branch",
                  "code_type": "Location",
                  "load_date": "2021-06-03T16:32:48.000Z"
                },
                {
                  "code": "rbe",
                  "description": "Rainier Beach Branch",
                  "code_type": "Location",
                  "load_date": "2021-06-03T16:32:48.000Z"
                },
                {
                  "code": "wlb",
                  "description": "Wa Talking Book And Braille Library",
                  "code_type": "Location",
                  "load_date": "2021-06-03T16:32:48.000Z"
                },
                {
                  "code": "dth",
                  "description": "Douglass-Truth Branch",
                  "code_type": "Location",
                  "load_date": "2021-06-03T16:32:48.000Z"
                },
                {
                  "code": "drp1",
                  "description": "*** Temporary ***",
                  "code_type": "Location",
                  "load_date": "2021-06-03T16:32:48.000Z"
                },
                {
                  "code": "mag",
                  "description": "Magnolia Branch",
                  "code_type": "Location",
                  "load_date": "2021-06-03T16:32:48.000Z"
                }
              ],
              "schema": {
                "code": "string",
                "description": "string",
                "code_type": "string",
                "format_group": "string",
                "format_subgroup": "string",
                "category_group": "string",
                "category_subgroup": "string",
                "age_group": "string",
                "load_date": "int"
              }
            },
            "isSummary": false,
            "language": "scala"
          },
          "persist_state": {
            "view": {
              "type": "details",
              "tableOptions": {},
              "chartOptions": {
                "chartType": "bar",
                "aggregationType": "sum",
                "categoryFieldKeys": [
                  "code"
                ],
                "seriesFieldKeys": [
                  "load_date"
                ],
                "isStacked": false
              }
            }
          }
        }
      }
    }
  }
}