{
  "nbformat": 4,
  "nbformat_minor": 2,
  "cells": [
    {
      "cell_type": "code",
      "execution_count": 1,
      "outputs": [],
      "metadata": {
        "microsoft": {
          "language": "python"
        },
        "collapsed": false
      },
      "source": [
        "%%pyspark\n",
        "\n",
        "df = spark.read.load('abfss://capture@splacceler5lmevhdeon4ym.dfs.core.windows.net/SeattlePublicLibrary/Library_Collection_Inventory.csv', format='csv'\n",
        "## If header exists uncomment line below\n",
        ", header=True\n",
        ")\n",
        "display(df.limit(10))"
      ]
    },
    {
      "cell_type": "code",
      "execution_count": 2,
      "outputs": [],
      "metadata": {
        "jupyter": {
          "source_hidden": false,
          "outputs_hidden": false
        },
        "nteract": {
          "transient": {
            "deleting": false
          }
        },
        "microsoft": {
          "language": "python"
        },
        "collapsed": true
      },
      "source": [
        "%%pyspark\r\n",
        "\r\n",
        "# Show Schema\r\n",
        "df.printSchema()"
      ]
    },
    {
      "cell_type": "code",
      "execution_count": 3,
      "outputs": [],
      "metadata": {
        "jupyter": {
          "source_hidden": false,
          "outputs_hidden": false
        },
        "nteract": {
          "transient": {
            "deleting": false
          }
        },
        "microsoft": {
          "language": "python"
        },
        "collapsed": true
      },
      "source": [
        "%%pyspark\n",
        "\n",
        "from pyspark.sql import SparkSession\n",
        "from pyspark.sql.types import *\n",
        "\n",
        "# Primary storage info\n",
        "capture_account_name = 'splacceler5lmevhdeon4ym' # fill in your primary account name\n",
        "capture_container_name = 'capture' # fill in your container name\n",
        "capture_relative_path = 'SeattlePublicLibrary/Library_Collection_Inventory.csv' # fill in your relative folder path\n",
        "\n",
        "capture_adls_path = 'abfss://%s@%s.dfs.core.windows.net/%s' % (capture_container_name, capture_account_name, capture_relative_path)\n",
        "print('Primary storage account path: ' + capture_adls_path)"
      ]
    },
    {
      "cell_type": "code",
      "execution_count": 7,
      "outputs": [],
      "metadata": {
        "jupyter": {
          "source_hidden": false,
          "outputs_hidden": false
        },
        "nteract": {
          "transient": {
            "deleting": false
          }
        },
        "microsoft": {
          "language": "python"
        },
        "collapsed": false
      },
      "source": [
        "%%pyspark\r\n",
        "\r\n",
        "from pyspark.sql.types import StructType, StructField, IntegerType, StringType, DoubleType, DateType, TimestampType\r\n",
        "csvSchema = StructType([\r\n",
        "  StructField('bibnum', IntegerType(), True),\r\n",
        "  StructField('title', StringType(), True),\r\n",
        "  StructField('author', StringType(), True), \r\n",
        "  StructField('isbn', StringType(), True),\r\n",
        "  StructField('publication_year', StringType(), True),\r\n",
        "  StructField('publisher', StringType(), True),\r\n",
        "  StructField('subjects', StringType(), True),\r\n",
        "  StructField('item_type', StringType(), True),\r\n",
        "  StructField('item_collection', StringType(), True),\r\n",
        "  StructField('floating_item', StringType(), True),\r\n",
        "  StructField('item_location', StringType(), True),\r\n",
        "  StructField('reportDate', StringType(), True),\r\n",
        "  StructField('item_count', IntegerType(), True)\r\n",
        "])\r\n",
        "\r\n",
        "CheckByTPI_capture_df = spark.read.format('csv').option('header', 'True').schema(csvSchema).load(capture_adls_path)\r\n",
        "\r\n",
        "display(CheckByTPI_capture_df.limit(10))\r\n",
        "\r\n",
        ""
      ]
    },
    {
      "cell_type": "code",
      "execution_count": 8,
      "outputs": [],
      "metadata": {
        "jupyter": {
          "source_hidden": false,
          "outputs_hidden": false
        },
        "nteract": {
          "transient": {
            "deleting": false
          }
        },
        "microsoft": {
          "language": "python"
        },
        "collapsed": true
      },
      "source": [
        "%%pyspark\r\n",
        "\r\n",
        "from pyspark.sql.functions import to_date, to_timestamp, col, date_format, current_timestamp\r\n",
        "df_final = (CheckByTPI_capture_df.withColumn(\"report_date\", to_date(col(\"reportDate\"),\"MM/dd/yyyy\")).drop(\"reportDate\")\r\n",
        "                                 .withColumn('loadDate', date_format(current_timestamp(), 'MM/dd/yyyy hh:mm:ss aa'))\r\n",
        "                                 .withColumn(\"load_date\", to_timestamp(col(\"loadDate\"),\"MM/dd/yyyy hh:mm:ss aa\")).drop(\"loadDate\")\r\n",
        ")"
      ]
    },
    {
      "cell_type": "code",
      "execution_count": 9,
      "outputs": [],
      "metadata": {
        "jupyter": {
          "source_hidden": false,
          "outputs_hidden": false
        },
        "nteract": {
          "transient": {
            "deleting": false
          }
        },
        "microsoft": {
          "language": "python"
        },
        "collapsed": false
      },
      "source": [
        "%%pyspark\n",
        "\n",
        "# Show Schema\n",
        "df_final.printSchema()\n",
        "\n",
        "display(df_final.limit(10))\n",
        ""
      ]
    },
    {
      "cell_type": "code",
      "execution_count": 10,
      "outputs": [],
      "metadata": {
        "jupyter": {
          "source_hidden": false,
          "outputs_hidden": false
        },
        "nteract": {
          "transient": {
            "deleting": false
          }
        },
        "microsoft": {
          "language": "python"
        },
        "collapsed": true
      },
      "source": [
        "%%pyspark\n",
        "\n",
        "from pyspark.sql import SparkSession\n",
        "from pyspark.sql.types import *\n",
        "\n",
        "# Primary storage info\n",
        "compose_account_name = 'splacceler5lmevhdeon4ym' # fill in your primary account name\n",
        "compose_container_name = 'compose' # fill in your container name\n",
        "compose_relative_path = 'SeattlePublicLibrary/LibraryCollectionInventory/' # fill in your relative folder path\n",
        "\n",
        "compose_adls_path = 'abfss://%s@%s.dfs.core.windows.net/%s' % (compose_container_name, compose_account_name, compose_relative_path)\n",
        "print('Primary storage account path: ' + compose_adls_path)"
      ]
    },
    {
      "cell_type": "code",
      "execution_count": 11,
      "outputs": [],
      "metadata": {
        "jupyter": {
          "source_hidden": false,
          "outputs_hidden": false
        },
        "nteract": {
          "transient": {
            "deleting": false
          }
        },
        "microsoft": {
          "language": "python"
        },
        "collapsed": true
      },
      "source": [
        "%%pyspark\n",
        "\n",
        "compose_parquet_path = compose_adls_path + 'CollectionInventory.parquet'\n",
        "\n",
        "print('parquet file path: ' + compose_parquet_path)"
      ]
    },
    {
      "cell_type": "code",
      "execution_count": 12,
      "outputs": [],
      "metadata": {
        "jupyter": {
          "source_hidden": false,
          "outputs_hidden": false
        },
        "nteract": {
          "transient": {
            "deleting": false
          }
        },
        "microsoft": {
          "language": "python"
        },
        "collapsed": true
      },
      "source": [
        "%%pyspark\n",
        "\n",
        "df_final.write.parquet(compose_parquet_path, mode = 'overwrite')"
      ]
    },
    {
      "cell_type": "code",
      "execution_count": 10,
      "outputs": [],
      "metadata": {
        "jupyter": {
          "source_hidden": false,
          "outputs_hidden": false
        },
        "nteract": {
          "transient": {
            "deleting": false
          }
        },
        "microsoft": {
          "language": "sparksql"
        },
        "collapsed": false
      },
      "source": [
        "%%sql\n",
        "\n",
        "-- Create database SeattlePublicLibrary only if database with same name does not exist\n",
        "CREATE DATABASE IF NOT EXISTS SeattlePublicLibrary"
      ]
    },
    {
      "cell_type": "code",
      "execution_count": 14,
      "outputs": [],
      "metadata": {
        "jupyter": {
          "source_hidden": false,
          "outputs_hidden": false
        },
        "nteract": {
          "transient": {
            "deleting": false
          }
        },
        "microsoft": {
          "language": "sparksql"
        },
        "collapsed": false
      },
      "source": [
        "%%sql\n",
        "\n",
        "-- Create table CheckoutsByTitlePhysicalItemsschemafinal only if table with same name does not exist\n",
        "CREATE TABLE IF NOT EXISTS SeattlePublicLibrary.library_collection_inventory\n",
        " (title STRING\n",
        " ,author STRING\n",
        " ,isbn STRING\n",
        " ,publication_year STRING\n",
        " ,publisher STRING\n",
        " ,subjects STRING\n",
        " ,item_type STRING\n",
        " ,item_collection STRING\n",
        " ,floating_item STRING\n",
        " ,item_location STRING\n",
        " ,report_date DATE\n",
        " ,item_count INTEGER\n",
        " ,load_date TIMESTAMP\n",
        ")\n",
        "USING PARQUET OPTIONS (path 'abfss://compose@splacceler5lmevhdeon4ym.dfs.core.windows.net/SeattlePublicLibrary/LibraryCollectionInventory/CollectionInventory.parquet')"
      ]
    },
    {
      "cell_type": "code",
      "execution_count": 13,
      "outputs": [],
      "metadata": {
        "jupyter": {
          "source_hidden": false,
          "outputs_hidden": false
        },
        "nteract": {
          "transient": {
            "deleting": false
          }
        },
        "microsoft": {
          "language": "sparksql"
        },
        "collapsed": false
      },
      "source": [
        "%%sql\r\n",
        "\r\n",
        "--DROP TABLE SeattlePublicLibrary.library_collection_inventory"
      ]
    }
  ],
  "metadata": {
    "save_output": true,
    "kernelspec": {
      "name": "synapse_pyspark",
      "display_name": "Synapse PySpark"
    },
    "language_info": {
      "name": "python"
    },
    "synapse_widget": {
      "version": "0.1",
      "state": {
        "05ff2468-389c-4bf8-91ed-f7848baaa8ec": {
          "type": "Synapse.DataFrame",
          "sync_state": {
            "table": {
              "rows": [
                {
                  "Subjects": "Trump Donald 1946, United States Constitution 1st Amendment, Freedom of speech United States, Hate speech United States, College students Civil rights United States, Freedom of religion United States, Fake news United States, Truthfulness and falsehood Political aspects United States",
                  "Title": "The First : how to think about hate speech, campus speech, religious speech, fake news, post-truth, and Donald Trump / Stanley Fish.",
                  "BibNum": "3481711",
                  "ReportDate": "06/01/2020",
                  "ISBN": "1982115246, 9781982115241",
                  "FloatingItem": "NA",
                  "ItemCount": "1",
                  "ItemCollection": "nanf",
                  "ItemLocation": "qna",
                  "PublicationYear": "2019.",
                  "Author": "Fish, Stanley Eugene",
                  "ItemType": "acbk",
                  "Publisher": "One Signal Publishers ; Atria,"
                },
                {
                  "Subjects": "Monet Claude 1840 1926 Juvenile literature, Painters France Biography Juvenile literature, Impressionism Art France Juvenile literature, Artists Juvenile literature, Impressionism Art Juvenile literature",
                  "Title": "Monet / [written by David Spence].",
                  "BibNum": "2691734",
                  "ReportDate": "06/01/2020",
                  "ISBN": "1848983123, 9781848983120",
                  "FloatingItem": "NA",
                  "ItemCount": "1",
                  "ItemCollection": "ncnf",
                  "ItemLocation": "bal",
                  "PublicationYear": "2010.",
                  "Author": "Spence, David, 1957-",
                  "ItemType": "jcbk",
                  "Publisher": "New Forest Press,"
                },
                {
                  "Subjects": "Tebbetts Birdie 1912 1999, Baseball players United States Biography",
                  "Title": "Birdie : confessions of a baseball nomad / Birdie Tebbetts with James Morrison.",
                  "BibNum": "2100407",
                  "ReportDate": "06/01/2020",
                  "ISBN": "1572434554",
                  "FloatingItem": "NA",
                  "ItemCount": "1",
                  "ItemCollection": "canf",
                  "ItemLocation": "cen",
                  "PublicationYear": "[2002]",
                  "Author": "Tebbetts, Birdie, 1912-1999",
                  "ItemType": "acbk",
                  "Publisher": "Triumph Books,"
                },
                {
                  "Subjects": "Harmonica Juvenile fiction, Musicians Juvenile fiction, African Americans Juvenile fiction",
                  "Title": "The music in Derrick's heart / by Gwendolyn Battle Lavert ; illustrated by Colin Bootman.",
                  "BibNum": "1943152",
                  "ReportDate": "06/01/2020",
                  "ISBN": "0823413535",
                  "FloatingItem": "NA",
                  "ItemCount": "1",
                  "ItemCollection": "ccpic",
                  "ItemLocation": "cen",
                  "PublicationYear": "2000.",
                  "Author": "Battle-Lavert, Gwendolyn",
                  "ItemType": "jcbk",
                  "Publisher": "Holiday House,"
                },
                {
                  "Subjects": "Popular music 2001 2010, Country music 2001 2010",
                  "Title": "Just a little lovin' / Shelby Lynne.",
                  "BibNum": "2482738",
                  "ReportDate": "06/01/2020",
                  "FloatingItem": "NA",
                  "ItemCount": "1",
                  "ItemCollection": "cacd",
                  "ItemLocation": "cen",
                  "PublicationYear": "[2008]",
                  "Author": "Lynne, Shelby",
                  "ItemType": "accd",
                  "Publisher": "Lost Highway,"
                },
                {
                  "Subjects": "Hernandez Aaron 1989 2017, Hernandez Aaron 1989 2017 Trials litigation etc, Murder Massachusetts Case studies, Trials Murder Massachusetts Case studies, Football players United States Biography, Large type books, True crime stories",
                  "Title": "All-American murder : the rise and fall of Aaron Hernandez, the superstar whose life ended on murderers' row / James Patterson & Alex Abramovich with Mike Harvkey.",
                  "BibNum": "3377690",
                  "ReportDate": "06/01/2020",
                  "ISBN": "031641266X, 9780316412667",
                  "FloatingItem": "Floating",
                  "ItemCount": "1",
                  "ItemCollection": "nalpnf",
                  "ItemLocation": "mag",
                  "PublicationYear": "2018.",
                  "Author": "Patterson, James, 1947-",
                  "ItemType": "acbk",
                  "Publisher": "Little, Brown and Company,"
                },
                {
                  "Subjects": "Seeger Pete 1919 2014 Juvenile literature, Folk singers United States Biography Juvenile literature, Biographies",
                  "Title": "Stand up and sing! : Pete Seeger, folk music, and the path to justice / Susanna Reich ; illustrated by Adam Gustavson ; foreword by Peter Yarrow.",
                  "BibNum": "3236129",
                  "ReportDate": "06/01/2020",
                  "ISBN": "0802738125, 9780802738127",
                  "FloatingItem": "NA",
                  "ItemCount": "1",
                  "ItemCollection": "ncnf",
                  "ItemLocation": "dth",
                  "PublicationYear": "2017.",
                  "Author": "Reich, Susanna",
                  "ItemType": "jcbk",
                  "Publisher": "Bloomsbury,"
                },
                {
                  "Subjects": "Meadows Sadie 1990 2008, Depressed persons United States Biography, Parents of mentally ill children United States, Youth Suicidal behavior United States",
                  "Title": "Searching for normal : the story of a girl gone too soon / by Karen Meadows.",
                  "BibNum": "3295900",
                  "ReportDate": "06/01/2020",
                  "ISBN": "1631521373, 9781631521379",
                  "FloatingItem": "NA",
                  "ItemCount": "1",
                  "ItemCollection": "nanf",
                  "ItemLocation": "bro",
                  "PublicationYear": "2016.",
                  "Author": "Meadows, Karen",
                  "ItemType": "acbk",
                  "Publisher": "She Writes Press,"
                },
                {
                  "Subjects": "Bennett Michael Fictitious character Fiction, Police New York State New York Fiction, Assassins Fiction, Manhattan New York N Y Fiction, Thrillers Fiction",
                  "Title": "Bullseye / James Patterson and Michael Ledwidge.",
                  "BibNum": "3202943",
                  "ReportDate": "06/01/2020",
                  "ISBN": "0316407089, 9780316407083",
                  "FloatingItem": "NA",
                  "ItemCount": "1",
                  "ItemCollection": "nafic",
                  "ItemLocation": "glk",
                  "PublicationYear": "2016.",
                  "Author": "Patterson, James, 1947-",
                  "ItemType": "acbk",
                  "Publisher": "Little Brown and Company,"
                },
                {
                  "Subjects": "Voyages and travels",
                  "Title": "Richard Halliburton's Complete book of marvels.",
                  "BibNum": "162551",
                  "ReportDate": "06/01/2020",
                  "FloatingItem": "NA",
                  "ItemCount": "1",
                  "ItemCollection": "cs8",
                  "ItemLocation": "cen",
                  "PublicationYear": "[1941]",
                  "Author": "Halliburton, Richard, 1900-1939",
                  "ItemType": "acbk",
                  "Publisher": "The Bobbs-Merrill Company,"
                }
              ],
              "schema": {
                "BibNum": "string",
                "Title": "string",
                "Author": "string",
                "ISBN": "string",
                "PublicationYear": "string",
                "Publisher": "string",
                "Subjects": "string",
                "ItemType": "string",
                "ItemCollection": "string",
                "FloatingItem": "string",
                "ItemLocation": "string",
                "ReportDate": "string",
                "ItemCount": "string"
              }
            },
            "isSummary": false,
            "language": "scala"
          },
          "persist_state": {
            "view": {
              "type": "details",
              "chartOptions": {
                "chartType": "bar",
                "aggregationType": "count",
                "categoryFieldKeys": [
                  "BibNum"
                ],
                "seriesFieldKeys": [
                  "BibNum"
                ],
                "isStacked": false
              }
            }
          }
        },
        "61e3c52d-2d94-415c-9e0d-c227b4223a5f": {
          "type": "Synapse.DataFrame",
          "sync_state": {
            "table": {
              "rows": [
                {
                  "author": "United States. Congress. Joint Economic Committee. Subcommittee on Defense Procurement",
                  "subjects": "Defense industries United States, United States Armed Forces Procurement, United States Economic conditions",
                  "item_count": 1,
                  "floating_item": "NA",
                  "bibnum": 2017376,
                  "item_collection": "cadocmf",
                  "item_location": "cen",
                  "publisher": "U.S. G.P.O.,",
                  "title": "Impact of Military and Related Civilian Supply and Service Activities on the Economy : hearings before the United States Joint Economic Committee, Subcommittee on Defense Procurement, Eighty-Eighth Congress, second session, on Apr. 16, 21, 1964.",
                  "reportDate": "03/01/2020",
                  "item_type": "armfc",
                  "publication_year": "1964."
                },
                {
                  "author": "Weiden, David Heska Wanbli, 1963-",
                  "subjects": "Spotted Tail 1823 1881, Spotted Tail 1823 1881 Political activity, Brul‚ Indians South Dakota Biography, Biographies",
                  "item_count": 1,
                  "floating_item": "NA",
                  "bibnum": 3510081,
                  "item_collection": "ncnew",
                  "item_location": "lcy",
                  "publisher": "Reycraft Book,",
                  "isbn": "1478867884, 9781478867883",
                  "title": "Spotted Tail / by David Heska Wanbli Weiden, illustrated by Jim Yellowhawk + Pat Kinsella",
                  "reportDate": "03/01/2020",
                  "item_type": "jcbk",
                  "publication_year": "[2019]"
                },
                {
                  "author": "Knudsen, Michelle",
                  "subjects": "Science Experiments Juvenile fiction, Chickens Fiction, Dragons Juvenile fiction, Animals Infancy Juvenile fiction, Schools Fiction",
                  "item_count": 1,
                  "floating_item": "NA",
                  "bibnum": 2692913,
                  "item_collection": "ncpic",
                  "item_location": "cap",
                  "publisher": "Candlewick Press,",
                  "isbn": "0763637904, 9780763637903",
                  "title": "Argus / Michelle Knudsen ; illustrated by Andrea Wesson.",
                  "reportDate": "03/01/2020",
                  "item_type": "jcbk",
                  "publication_year": "2011."
                },
                {
                  "subjects": "Violence in children Drama, Violent crimes Drama, Criminal investigation Drama, Television series, Thrillers Television programs, Detective and mystery television programs, Fiction television programs, Video recordings for the hearing impaired",
                  "item_count": 1,
                  "floating_item": "Floating",
                  "bibnum": 3420257,
                  "item_collection": "nadvd",
                  "item_location": "wal",
                  "publisher": "Universal Pictures Home Entertainment,",
                  "title": "The sinner. Season two / USA Original ; Universal Cable Productions.",
                  "reportDate": "03/01/2020",
                  "item_type": "acdvd",
                  "publication_year": "[2018]"
                },
                {
                  "author": "Osborne, Mary Pope",
                  "subjects": "Nightingale Florence 1820 1910 Juvenile fiction, Time travel Juvenile fiction, Magicians Juvenile fiction, Nurses Juvenile fiction, Tree houses Juvenile fiction, Thebes Egypt Extinct city Juvenile fiction",
                  "item_count": 2,
                  "floating_item": "NA",
                  "bibnum": 2934796,
                  "item_collection": "ccser",
                  "item_location": "cen",
                  "publisher": "Random House,",
                  "isbn": "0307980499, 0307980502, 0307980529, 9780307980496, 9780307980502, 9780307980526",
                  "title": "High time for heroes / by Mary Pope Osborne ; illustrated by Sal Murdocca.",
                  "reportDate": "03/01/2020",
                  "item_type": "jcbk",
                  "publication_year": "[2014]"
                },
                {
                  "author": "Burke, Sue, 1955-",
                  "subjects": "Space colonies Fiction, Life on other planets Fiction, Human alien encounters Fiction, Science fiction",
                  "item_count": 1,
                  "floating_item": "NA",
                  "bibnum": 3493255,
                  "item_collection": "nasf",
                  "item_location": "qna",
                  "publisher": "Tor,",
                  "isbn": "1250317843, 9781250317841",
                  "title": "Interference / Sue Burke.",
                  "reportDate": "03/01/2020",
                  "item_type": "acbk",
                  "publication_year": "[2019]"
                },
                {
                  "author": "Wilson, Susan, 1951-",
                  "subjects": "Women ex convicts Fiction, Women veterans Fiction, Dogs Fiction, Service dogs Fiction, Human animal relationships Fiction, Survival Fiction, Female friendship Fiction, Dogtown Commons Gloucester Mass Fiction, Domestic fiction, Animal fiction",
                  "item_count": 1,
                  "floating_item": "NA",
                  "bibnum": 3484492,
                  "item_collection": "nanew",
                  "item_location": "gwd",
                  "publisher": "St. Martin's Press,",
                  "isbn": "1250078148, 9781250078148",
                  "title": "The dog I loved / Susan Wilson.",
                  "reportDate": "03/01/2020",
                  "item_type": "acbk",
                  "publication_year": "2019."
                },
                {
                  "author": "Alderman, Naomi",
                  "subjects": "Women Fiction, Teenage girls Fiction, Ability Fiction, Fantasy fiction",
                  "item_count": 1,
                  "floating_item": "NA",
                  "bibnum": 3358972,
                  "item_collection": "naln",
                  "item_location": "spa",
                  "publisher": "Roca Editorial,",
                  "isbn": "8416700672, 9788416700677",
                  "title": "The power / Naomi Alderman ; traducción de Ana Guelbenzu.",
                  "reportDate": "03/01/2020",
                  "item_type": "acbk",
                  "publication_year": "[2017]"
                },
                {
                  "author": "Cooper, Rose (Barbara Rose), 1978-",
                  "subjects": "Dead Juvenile fiction, Text messages Cell phone systems Juvenile fiction, Future life Juvenile fiction",
                  "item_count": 1,
                  "floating_item": "NA",
                  "bibnum": 3197741,
                  "item_collection": "ncfic",
                  "item_location": "wts",
                  "publisher": "Delacorte Press,",
                  "isbn": "0375991395, 0385743920, 9780375991394, 9780385743921",
                  "title": "The ungrateful dead / Rose Cooper.",
                  "reportDate": "03/01/2020",
                  "item_type": "jcbk",
                  "publication_year": "[2016]"
                },
                {
                  "author": "United States. President (2001-2009 : Bush)",
                  "subjects": "Emigration and immigration law United States, Domicile United States",
                  "item_count": 1,
                  "floating_item": "NA",
                  "bibnum": 2053777,
                  "item_collection": "cadocmf",
                  "item_location": "cen",
                  "publisher": "U.S. G.P.O.,",
                  "title": "A letter regarding section 245(i) of the Immigration and Nationality Act : communication from the President of the United States transmitting a letter in support of legislation to extend the window created under section 245(i) of the Immigration and Nationality Act during which qualified immigrants may obtain legal residence in the United States without being forced to first leave the country and their families for several years.",
                  "reportDate": "03/01/2020",
                  "item_type": "armfc",
                  "publication_year": "2001."
                }
              ],
              "schema": {
                "bibnum": "int",
                "title": "string",
                "author": "string",
                "isbn": "string",
                "publication_year": "string",
                "publisher": "string",
                "subjects": "string",
                "item_type": "string",
                "item_collection": "string",
                "floating_item": "string",
                "item_location": "string",
                "reportDate": "string",
                "item_count": "int"
              }
            },
            "isSummary": false,
            "language": "scala"
          },
          "persist_state": {
            "view": {
              "type": "details",
              "chartOptions": {
                "chartType": "bar",
                "aggregationType": "sum",
                "categoryFieldKeys": [
                  "title"
                ],
                "seriesFieldKeys": [
                  "bibnum"
                ],
                "isStacked": false
              }
            }
          }
        },
        "c2e62985-5b1c-403a-b72d-12a8428b1799": {
          "type": "Synapse.DataFrame",
          "sync_state": {
            "table": {
              "rows": [
                {
                  "author": "Fish, Stanley Eugene",
                  "load_date": "2021-05-28T17:45:05.000Z",
                  "subjects": "Trump Donald 1946, United States Constitution 1st Amendment, Freedom of speech United States, Hate speech United States, College students Civil rights United States, Freedom of religion United States, Fake news United States, Truthfulness and falsehood Political aspects United States",
                  "item_count": 1,
                  "report_date": "2020-06-01",
                  "floating_item": "NA",
                  "bibnum": 3481711,
                  "item_collection": "nanf",
                  "item_location": "qna",
                  "publisher": "One Signal Publishers ; Atria,",
                  "isbn": "1982115246, 9781982115241",
                  "title": "The First : how to think about hate speech, campus speech, religious speech, fake news, post-truth, and Donald Trump / Stanley Fish.",
                  "item_type": "acbk",
                  "publication_year": "2019."
                },
                {
                  "author": "Spence, David, 1957-",
                  "load_date": "2021-05-28T17:45:05.000Z",
                  "subjects": "Monet Claude 1840 1926 Juvenile literature, Painters France Biography Juvenile literature, Impressionism Art France Juvenile literature, Artists Juvenile literature, Impressionism Art Juvenile literature",
                  "item_count": 1,
                  "report_date": "2020-06-01",
                  "floating_item": "NA",
                  "bibnum": 2691734,
                  "item_collection": "ncnf",
                  "item_location": "bal",
                  "publisher": "New Forest Press,",
                  "isbn": "1848983123, 9781848983120",
                  "title": "Monet / [written by David Spence].",
                  "item_type": "jcbk",
                  "publication_year": "2010."
                },
                {
                  "author": "Tebbetts, Birdie, 1912-1999",
                  "load_date": "2021-05-28T17:45:05.000Z",
                  "subjects": "Tebbetts Birdie 1912 1999, Baseball players United States Biography",
                  "item_count": 1,
                  "report_date": "2020-06-01",
                  "floating_item": "NA",
                  "bibnum": 2100407,
                  "item_collection": "canf",
                  "item_location": "cen",
                  "publisher": "Triumph Books,",
                  "isbn": "1572434554",
                  "title": "Birdie : confessions of a baseball nomad / Birdie Tebbetts with James Morrison.",
                  "item_type": "acbk",
                  "publication_year": "[2002]"
                },
                {
                  "author": "Battle-Lavert, Gwendolyn",
                  "load_date": "2021-05-28T17:45:05.000Z",
                  "subjects": "Harmonica Juvenile fiction, Musicians Juvenile fiction, African Americans Juvenile fiction",
                  "item_count": 1,
                  "report_date": "2020-06-01",
                  "floating_item": "NA",
                  "bibnum": 1943152,
                  "item_collection": "ccpic",
                  "item_location": "cen",
                  "publisher": "Holiday House,",
                  "isbn": "0823413535",
                  "title": "The music in Derrick's heart / by Gwendolyn Battle Lavert ; illustrated by Colin Bootman.",
                  "item_type": "jcbk",
                  "publication_year": "2000."
                },
                {
                  "author": "Lynne, Shelby",
                  "load_date": "2021-05-28T17:45:05.000Z",
                  "subjects": "Popular music 2001 2010, Country music 2001 2010",
                  "item_count": 1,
                  "report_date": "2020-06-01",
                  "floating_item": "NA",
                  "bibnum": 2482738,
                  "item_collection": "cacd",
                  "item_location": "cen",
                  "publisher": "Lost Highway,",
                  "title": "Just a little lovin' / Shelby Lynne.",
                  "item_type": "accd",
                  "publication_year": "[2008]"
                },
                {
                  "author": "Patterson, James, 1947-",
                  "load_date": "2021-05-28T17:45:05.000Z",
                  "subjects": "Hernandez Aaron 1989 2017, Hernandez Aaron 1989 2017 Trials litigation etc, Murder Massachusetts Case studies, Trials Murder Massachusetts Case studies, Football players United States Biography, Large type books, True crime stories",
                  "item_count": 1,
                  "report_date": "2020-06-01",
                  "floating_item": "Floating",
                  "bibnum": 3377690,
                  "item_collection": "nalpnf",
                  "item_location": "mag",
                  "publisher": "Little, Brown and Company,",
                  "isbn": "031641266X, 9780316412667",
                  "title": "All-American murder : the rise and fall of Aaron Hernandez, the superstar whose life ended on murderers' row / James Patterson & Alex Abramovich with Mike Harvkey.",
                  "item_type": "acbk",
                  "publication_year": "2018."
                },
                {
                  "author": "Reich, Susanna",
                  "load_date": "2021-05-28T17:45:05.000Z",
                  "subjects": "Seeger Pete 1919 2014 Juvenile literature, Folk singers United States Biography Juvenile literature, Biographies",
                  "item_count": 1,
                  "report_date": "2020-06-01",
                  "floating_item": "NA",
                  "bibnum": 3236129,
                  "item_collection": "ncnf",
                  "item_location": "dth",
                  "publisher": "Bloomsbury,",
                  "isbn": "0802738125, 9780802738127",
                  "title": "Stand up and sing! : Pete Seeger, folk music, and the path to justice / Susanna Reich ; illustrated by Adam Gustavson ; foreword by Peter Yarrow.",
                  "item_type": "jcbk",
                  "publication_year": "2017."
                },
                {
                  "author": "Meadows, Karen",
                  "load_date": "2021-05-28T17:45:05.000Z",
                  "subjects": "Meadows Sadie 1990 2008, Depressed persons United States Biography, Parents of mentally ill children United States, Youth Suicidal behavior United States",
                  "item_count": 1,
                  "report_date": "2020-06-01",
                  "floating_item": "NA",
                  "bibnum": 3295900,
                  "item_collection": "nanf",
                  "item_location": "bro",
                  "publisher": "She Writes Press,",
                  "isbn": "1631521373, 9781631521379",
                  "title": "Searching for normal : the story of a girl gone too soon / by Karen Meadows.",
                  "item_type": "acbk",
                  "publication_year": "2016."
                },
                {
                  "author": "Patterson, James, 1947-",
                  "load_date": "2021-05-28T17:45:05.000Z",
                  "subjects": "Bennett Michael Fictitious character Fiction, Police New York State New York Fiction, Assassins Fiction, Manhattan New York N Y Fiction, Thrillers Fiction",
                  "item_count": 1,
                  "report_date": "2020-06-01",
                  "floating_item": "NA",
                  "bibnum": 3202943,
                  "item_collection": "nafic",
                  "item_location": "glk",
                  "publisher": "Little Brown and Company,",
                  "isbn": "0316407089, 9780316407083",
                  "title": "Bullseye / James Patterson and Michael Ledwidge.",
                  "item_type": "acbk",
                  "publication_year": "2016."
                },
                {
                  "author": "Halliburton, Richard, 1900-1939",
                  "load_date": "2021-05-28T17:45:05.000Z",
                  "subjects": "Voyages and travels",
                  "item_count": 1,
                  "report_date": "2020-06-01",
                  "floating_item": "NA",
                  "bibnum": 162551,
                  "item_collection": "cs8",
                  "item_location": "cen",
                  "publisher": "The Bobbs-Merrill Company,",
                  "title": "Richard Halliburton's Complete book of marvels.",
                  "item_type": "acbk",
                  "publication_year": "[1941]"
                }
              ],
              "schema": {
                "bibnum": "int",
                "title": "string",
                "author": "string",
                "isbn": "string",
                "publication_year": "string",
                "publisher": "string",
                "subjects": "string",
                "item_type": "string",
                "item_collection": "string",
                "floating_item": "string",
                "item_location": "string",
                "item_count": "int",
                "report_date": "date",
                "load_date": "int"
              }
            },
            "isSummary": false,
            "language": "scala"
          },
          "persist_state": {
            "view": {
              "type": "details",
              "chartOptions": {
                "chartType": "bar",
                "aggregationType": "sum",
                "categoryFieldKeys": [
                  "title"
                ],
                "seriesFieldKeys": [
                  "bibnum"
                ],
                "isStacked": false
              }
            }
          }
        }
      }
    }
  }
}